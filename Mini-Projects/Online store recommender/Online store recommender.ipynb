{
 "cells": [
  {
   "cell_type": "code",
   "execution_count": 1,
   "metadata": {},
   "outputs": [],
   "source": [
    "import pandas as pd\n",
    "import numpy as np\n",
    "import turicreate as tc\n",
    "\n",
    "from sklearn.model_selection import train_test_split"
   ]
  },
  {
   "cell_type": "code",
   "execution_count": 2,
   "metadata": {},
   "outputs": [],
   "source": [
    "data = pd.read_excel('Online Retail.xlsx')"
   ]
  },
  {
   "cell_type": "code",
   "execution_count": 3,
   "metadata": {},
   "outputs": [
    {
     "data": {
      "text/html": [
       "<div>\n",
       "<style scoped>\n",
       "    .dataframe tbody tr th:only-of-type {\n",
       "        vertical-align: middle;\n",
       "    }\n",
       "\n",
       "    .dataframe tbody tr th {\n",
       "        vertical-align: top;\n",
       "    }\n",
       "\n",
       "    .dataframe thead th {\n",
       "        text-align: right;\n",
       "    }\n",
       "</style>\n",
       "<table border=\"1\" class=\"dataframe\">\n",
       "  <thead>\n",
       "    <tr style=\"text-align: right;\">\n",
       "      <th></th>\n",
       "      <th>InvoiceNo</th>\n",
       "      <th>StockCode</th>\n",
       "      <th>Description</th>\n",
       "      <th>Quantity</th>\n",
       "      <th>InvoiceDate</th>\n",
       "      <th>UnitPrice</th>\n",
       "      <th>CustomerID</th>\n",
       "      <th>Country</th>\n",
       "    </tr>\n",
       "  </thead>\n",
       "  <tbody>\n",
       "    <tr>\n",
       "      <th>0</th>\n",
       "      <td>536365</td>\n",
       "      <td>85123A</td>\n",
       "      <td>WHITE HANGING HEART T-LIGHT HOLDER</td>\n",
       "      <td>6</td>\n",
       "      <td>2010-12-01 08:26:00</td>\n",
       "      <td>2.55</td>\n",
       "      <td>17850.0</td>\n",
       "      <td>United Kingdom</td>\n",
       "    </tr>\n",
       "    <tr>\n",
       "      <th>1</th>\n",
       "      <td>536365</td>\n",
       "      <td>71053</td>\n",
       "      <td>WHITE METAL LANTERN</td>\n",
       "      <td>6</td>\n",
       "      <td>2010-12-01 08:26:00</td>\n",
       "      <td>3.39</td>\n",
       "      <td>17850.0</td>\n",
       "      <td>United Kingdom</td>\n",
       "    </tr>\n",
       "    <tr>\n",
       "      <th>2</th>\n",
       "      <td>536365</td>\n",
       "      <td>84406B</td>\n",
       "      <td>CREAM CUPID HEARTS COAT HANGER</td>\n",
       "      <td>8</td>\n",
       "      <td>2010-12-01 08:26:00</td>\n",
       "      <td>2.75</td>\n",
       "      <td>17850.0</td>\n",
       "      <td>United Kingdom</td>\n",
       "    </tr>\n",
       "    <tr>\n",
       "      <th>3</th>\n",
       "      <td>536365</td>\n",
       "      <td>84029G</td>\n",
       "      <td>KNITTED UNION FLAG HOT WATER BOTTLE</td>\n",
       "      <td>6</td>\n",
       "      <td>2010-12-01 08:26:00</td>\n",
       "      <td>3.39</td>\n",
       "      <td>17850.0</td>\n",
       "      <td>United Kingdom</td>\n",
       "    </tr>\n",
       "    <tr>\n",
       "      <th>4</th>\n",
       "      <td>536365</td>\n",
       "      <td>84029E</td>\n",
       "      <td>RED WOOLLY HOTTIE WHITE HEART.</td>\n",
       "      <td>6</td>\n",
       "      <td>2010-12-01 08:26:00</td>\n",
       "      <td>3.39</td>\n",
       "      <td>17850.0</td>\n",
       "      <td>United Kingdom</td>\n",
       "    </tr>\n",
       "  </tbody>\n",
       "</table>\n",
       "</div>"
      ],
      "text/plain": [
       "  InvoiceNo StockCode                          Description  Quantity  \\\n",
       "0    536365    85123A   WHITE HANGING HEART T-LIGHT HOLDER         6   \n",
       "1    536365     71053                  WHITE METAL LANTERN         6   \n",
       "2    536365    84406B       CREAM CUPID HEARTS COAT HANGER         8   \n",
       "3    536365    84029G  KNITTED UNION FLAG HOT WATER BOTTLE         6   \n",
       "4    536365    84029E       RED WOOLLY HOTTIE WHITE HEART.         6   \n",
       "\n",
       "          InvoiceDate  UnitPrice  CustomerID         Country  \n",
       "0 2010-12-01 08:26:00       2.55     17850.0  United Kingdom  \n",
       "1 2010-12-01 08:26:00       3.39     17850.0  United Kingdom  \n",
       "2 2010-12-01 08:26:00       2.75     17850.0  United Kingdom  \n",
       "3 2010-12-01 08:26:00       3.39     17850.0  United Kingdom  \n",
       "4 2010-12-01 08:26:00       3.39     17850.0  United Kingdom  "
      ]
     },
     "execution_count": 3,
     "metadata": {},
     "output_type": "execute_result"
    }
   ],
   "source": [
    "data.head()"
   ]
  },
  {
   "cell_type": "code",
   "execution_count": 4,
   "metadata": {},
   "outputs": [
    {
     "name": "stdout",
     "output_type": "stream",
     "text": [
      "<class 'pandas.core.frame.DataFrame'>\n",
      "RangeIndex: 541909 entries, 0 to 541908\n",
      "Data columns (total 8 columns):\n",
      "InvoiceNo      541909 non-null object\n",
      "StockCode      541909 non-null object\n",
      "Description    540455 non-null object\n",
      "Quantity       541909 non-null int64\n",
      "InvoiceDate    541909 non-null datetime64[ns]\n",
      "UnitPrice      541909 non-null float64\n",
      "CustomerID     406829 non-null float64\n",
      "Country        541909 non-null object\n",
      "dtypes: datetime64[ns](1), float64(2), int64(1), object(4)\n",
      "memory usage: 33.1+ MB\n"
     ]
    }
   ],
   "source": [
    "data.info()"
   ]
  },
  {
   "cell_type": "code",
   "execution_count": 5,
   "metadata": {},
   "outputs": [
    {
     "data": {
      "text/plain": [
       "4373"
      ]
     },
     "execution_count": 5,
     "metadata": {},
     "output_type": "execute_result"
    }
   ],
   "source": [
    "len(data.CustomerID.unique())"
   ]
  },
  {
   "cell_type": "code",
   "execution_count": 6,
   "metadata": {},
   "outputs": [],
   "source": [
    "data.CustomerID = data.CustomerID.astype(str)\n",
    "data.StockCode = data.StockCode.astype(str)"
   ]
  },
  {
   "cell_type": "code",
   "execution_count": 7,
   "metadata": {},
   "outputs": [],
   "source": [
    "# dictionary of products\n",
    "prod_dict = {}\n",
    "for code, descr in zip(data.StockCode, data.Description):\n",
    "    prod_dict[code] = descr"
   ]
  },
  {
   "cell_type": "code",
   "execution_count": 8,
   "metadata": {},
   "outputs": [
    {
     "data": {
      "text/plain": [
       "'CREAM HANGING HEART T-LIGHT HOLDER'"
      ]
     },
     "execution_count": 8,
     "metadata": {},
     "output_type": "execute_result"
    }
   ],
   "source": [
    "prod_dict['85123A']"
   ]
  },
  {
   "cell_type": "code",
   "execution_count": 9,
   "metadata": {},
   "outputs": [],
   "source": [
    "data = data.loc[:, ['StockCode', 'CustomerID']]"
   ]
  },
  {
   "cell_type": "code",
   "execution_count": 10,
   "metadata": {},
   "outputs": [
    {
     "data": {
      "text/html": [
       "<div>\n",
       "<style scoped>\n",
       "    .dataframe tbody tr th:only-of-type {\n",
       "        vertical-align: middle;\n",
       "    }\n",
       "\n",
       "    .dataframe tbody tr th {\n",
       "        vertical-align: top;\n",
       "    }\n",
       "\n",
       "    .dataframe thead th {\n",
       "        text-align: right;\n",
       "    }\n",
       "</style>\n",
       "<table border=\"1\" class=\"dataframe\">\n",
       "  <thead>\n",
       "    <tr style=\"text-align: right;\">\n",
       "      <th></th>\n",
       "      <th>StockCode</th>\n",
       "      <th>CustomerID</th>\n",
       "    </tr>\n",
       "  </thead>\n",
       "  <tbody>\n",
       "    <tr>\n",
       "      <th>0</th>\n",
       "      <td>85123A</td>\n",
       "      <td>17850.0</td>\n",
       "    </tr>\n",
       "    <tr>\n",
       "      <th>1</th>\n",
       "      <td>71053</td>\n",
       "      <td>17850.0</td>\n",
       "    </tr>\n",
       "    <tr>\n",
       "      <th>2</th>\n",
       "      <td>84406B</td>\n",
       "      <td>17850.0</td>\n",
       "    </tr>\n",
       "    <tr>\n",
       "      <th>3</th>\n",
       "      <td>84029G</td>\n",
       "      <td>17850.0</td>\n",
       "    </tr>\n",
       "    <tr>\n",
       "      <th>4</th>\n",
       "      <td>84029E</td>\n",
       "      <td>17850.0</td>\n",
       "    </tr>\n",
       "  </tbody>\n",
       "</table>\n",
       "</div>"
      ],
      "text/plain": [
       "  StockCode CustomerID\n",
       "0    85123A    17850.0\n",
       "1     71053    17850.0\n",
       "2    84406B    17850.0\n",
       "3    84029G    17850.0\n",
       "4    84029E    17850.0"
      ]
     },
     "execution_count": 10,
     "metadata": {},
     "output_type": "execute_result"
    }
   ],
   "source": [
    "data.head()"
   ]
  },
  {
   "cell_type": "code",
   "execution_count": 11,
   "metadata": {},
   "outputs": [],
   "source": [
    "data = data.groupby(['CustomerID','StockCode']).agg({'StockCode':'count'})"
   ]
  },
  {
   "cell_type": "code",
   "execution_count": 12,
   "metadata": {},
   "outputs": [],
   "source": [
    "data = data.rename(columns={'StockCode': 'purchase_count'})"
   ]
  },
  {
   "cell_type": "code",
   "execution_count": 13,
   "metadata": {},
   "outputs": [],
   "source": [
    "#multiply purchase count by the number in original data"
   ]
  },
  {
   "cell_type": "code",
   "execution_count": 14,
   "metadata": {},
   "outputs": [
    {
     "data": {
      "text/html": [
       "<div>\n",
       "<style scoped>\n",
       "    .dataframe tbody tr th:only-of-type {\n",
       "        vertical-align: middle;\n",
       "    }\n",
       "\n",
       "    .dataframe tbody tr th {\n",
       "        vertical-align: top;\n",
       "    }\n",
       "\n",
       "    .dataframe thead th {\n",
       "        text-align: right;\n",
       "    }\n",
       "</style>\n",
       "<table border=\"1\" class=\"dataframe\">\n",
       "  <thead>\n",
       "    <tr style=\"text-align: right;\">\n",
       "      <th></th>\n",
       "      <th>CustomerID</th>\n",
       "      <th>StockCode</th>\n",
       "      <th>purchase_count</th>\n",
       "    </tr>\n",
       "  </thead>\n",
       "  <tbody>\n",
       "    <tr>\n",
       "      <th>0</th>\n",
       "      <td>12346.0</td>\n",
       "      <td>23166</td>\n",
       "      <td>2</td>\n",
       "    </tr>\n",
       "    <tr>\n",
       "      <th>1</th>\n",
       "      <td>12347.0</td>\n",
       "      <td>16008</td>\n",
       "      <td>1</td>\n",
       "    </tr>\n",
       "    <tr>\n",
       "      <th>2</th>\n",
       "      <td>12347.0</td>\n",
       "      <td>17021</td>\n",
       "      <td>1</td>\n",
       "    </tr>\n",
       "    <tr>\n",
       "      <th>3</th>\n",
       "      <td>12347.0</td>\n",
       "      <td>20665</td>\n",
       "      <td>1</td>\n",
       "    </tr>\n",
       "    <tr>\n",
       "      <th>4</th>\n",
       "      <td>12347.0</td>\n",
       "      <td>20719</td>\n",
       "      <td>4</td>\n",
       "    </tr>\n",
       "    <tr>\n",
       "      <th>...</th>\n",
       "      <td>...</td>\n",
       "      <td>...</td>\n",
       "      <td>...</td>\n",
       "    </tr>\n",
       "    <tr>\n",
       "      <th>271420</th>\n",
       "      <td>nan</td>\n",
       "      <td>gift_0001_20</td>\n",
       "      <td>10</td>\n",
       "    </tr>\n",
       "    <tr>\n",
       "      <th>271421</th>\n",
       "      <td>nan</td>\n",
       "      <td>gift_0001_30</td>\n",
       "      <td>8</td>\n",
       "    </tr>\n",
       "    <tr>\n",
       "      <th>271422</th>\n",
       "      <td>nan</td>\n",
       "      <td>gift_0001_40</td>\n",
       "      <td>3</td>\n",
       "    </tr>\n",
       "    <tr>\n",
       "      <th>271423</th>\n",
       "      <td>nan</td>\n",
       "      <td>gift_0001_50</td>\n",
       "      <td>4</td>\n",
       "    </tr>\n",
       "    <tr>\n",
       "      <th>271424</th>\n",
       "      <td>nan</td>\n",
       "      <td>m</td>\n",
       "      <td>1</td>\n",
       "    </tr>\n",
       "  </tbody>\n",
       "</table>\n",
       "<p>271425 rows × 3 columns</p>\n",
       "</div>"
      ],
      "text/plain": [
       "       CustomerID     StockCode  purchase_count\n",
       "0         12346.0         23166               2\n",
       "1         12347.0         16008               1\n",
       "2         12347.0         17021               1\n",
       "3         12347.0         20665               1\n",
       "4         12347.0         20719               4\n",
       "...           ...           ...             ...\n",
       "271420        nan  gift_0001_20              10\n",
       "271421        nan  gift_0001_30               8\n",
       "271422        nan  gift_0001_40               3\n",
       "271423        nan  gift_0001_50               4\n",
       "271424        nan             m               1\n",
       "\n",
       "[271425 rows x 3 columns]"
      ]
     },
     "execution_count": 14,
     "metadata": {},
     "output_type": "execute_result"
    }
   ],
   "source": [
    "data = data.reset_index()\n",
    "data"
   ]
  },
  {
   "cell_type": "markdown",
   "metadata": {},
   "source": [
    "### Split the dataset"
   ]
  },
  {
   "cell_type": "code",
   "execution_count": 15,
   "metadata": {},
   "outputs": [],
   "source": [
    "def split_data(data):\n",
    "    train, test = train_test_split(data, test_size = 0.2)\n",
    "    train_data = tc.SFrame(train)\n",
    "    test_data = tc.SFrame(test)\n",
    "    return train_data, test_data\n",
    "train_data, test_data = split_data(data)\n"
   ]
  },
  {
   "cell_type": "code",
   "execution_count": 16,
   "metadata": {},
   "outputs": [],
   "source": [
    "# constant variables to define field names\n",
    "user_id = 'CustomerID'\n",
    "item_id = 'StockCode'\n",
    "users_to_recommend = list(data.CustomerID)\n",
    "n_rec = 10\n",
    "n_display = 30"
   ]
  },
  {
   "cell_type": "code",
   "execution_count": 17,
   "metadata": {},
   "outputs": [],
   "source": [
    "def model(train_data, user_id, item_id, target, users_to_recommend, n_rec, n_display):\n",
    "    \n",
    "    model = tc.item_similarity_recommender.create(train_data, user_id = user_id, item_id = item_id, \n",
    "                                               target = target, similarity_type = 'cosine')\n",
    "    \n",
    "    recom = model.recommend(users = users_to_recommend, k = n_rec)\n",
    "    recom.print_rows(n_display)\n",
    "    return model"
   ]
  },
  {
   "cell_type": "code",
   "execution_count": 18,
   "metadata": {},
   "outputs": [
    {
     "data": {
      "text/html": [
       "<pre>Preparing data set.</pre>"
      ],
      "text/plain": [
       "Preparing data set."
      ]
     },
     "metadata": {},
     "output_type": "display_data"
    },
    {
     "data": {
      "text/html": [
       "<pre>    Data has 217140 observations with 4351 users and 3985 items.</pre>"
      ],
      "text/plain": [
       "    Data has 217140 observations with 4351 users and 3985 items."
      ]
     },
     "metadata": {},
     "output_type": "display_data"
    },
    {
     "data": {
      "text/html": [
       "<pre>    Data prepared in: 0.293984s</pre>"
      ],
      "text/plain": [
       "    Data prepared in: 0.293984s"
      ]
     },
     "metadata": {},
     "output_type": "display_data"
    },
    {
     "data": {
      "text/html": [
       "<pre>Training model from provided data.</pre>"
      ],
      "text/plain": [
       "Training model from provided data."
      ]
     },
     "metadata": {},
     "output_type": "display_data"
    },
    {
     "data": {
      "text/html": [
       "<pre>Gathering per-item and per-user statistics.</pre>"
      ],
      "text/plain": [
       "Gathering per-item and per-user statistics."
      ]
     },
     "metadata": {},
     "output_type": "display_data"
    },
    {
     "data": {
      "text/html": [
       "<pre>+--------------------------------+------------+</pre>"
      ],
      "text/plain": [
       "+--------------------------------+------------+"
      ]
     },
     "metadata": {},
     "output_type": "display_data"
    },
    {
     "data": {
      "text/html": [
       "<pre>| Elapsed Time (Item Statistics) | % Complete |</pre>"
      ],
      "text/plain": [
       "| Elapsed Time (Item Statistics) | % Complete |"
      ]
     },
     "metadata": {},
     "output_type": "display_data"
    },
    {
     "data": {
      "text/html": [
       "<pre>+--------------------------------+------------+</pre>"
      ],
      "text/plain": [
       "+--------------------------------+------------+"
      ]
     },
     "metadata": {},
     "output_type": "display_data"
    },
    {
     "data": {
      "text/html": [
       "<pre>| 3.253ms                        | 22.75      |</pre>"
      ],
      "text/plain": [
       "| 3.253ms                        | 22.75      |"
      ]
     },
     "metadata": {},
     "output_type": "display_data"
    },
    {
     "data": {
      "text/html": [
       "<pre>| 6.729ms                        | 100        |</pre>"
      ],
      "text/plain": [
       "| 6.729ms                        | 100        |"
      ]
     },
     "metadata": {},
     "output_type": "display_data"
    },
    {
     "data": {
      "text/html": [
       "<pre>+--------------------------------+------------+</pre>"
      ],
      "text/plain": [
       "+--------------------------------+------------+"
      ]
     },
     "metadata": {},
     "output_type": "display_data"
    },
    {
     "data": {
      "text/html": [
       "<pre>Setting up lookup tables.</pre>"
      ],
      "text/plain": [
       "Setting up lookup tables."
      ]
     },
     "metadata": {},
     "output_type": "display_data"
    },
    {
     "data": {
      "text/html": [
       "<pre>Processing data in one pass using dense lookup tables.</pre>"
      ],
      "text/plain": [
       "Processing data in one pass using dense lookup tables."
      ]
     },
     "metadata": {},
     "output_type": "display_data"
    },
    {
     "data": {
      "text/html": [
       "<pre>+-------------------------------------+------------------+-----------------+</pre>"
      ],
      "text/plain": [
       "+-------------------------------------+------------------+-----------------+"
      ]
     },
     "metadata": {},
     "output_type": "display_data"
    },
    {
     "data": {
      "text/html": [
       "<pre>| Elapsed Time (Constructing Lookups) | Total % Complete | Items Processed |</pre>"
      ],
      "text/plain": [
       "| Elapsed Time (Constructing Lookups) | Total % Complete | Items Processed |"
      ]
     },
     "metadata": {},
     "output_type": "display_data"
    },
    {
     "data": {
      "text/html": [
       "<pre>+-------------------------------------+------------------+-----------------+</pre>"
      ],
      "text/plain": [
       "+-------------------------------------+------------------+-----------------+"
      ]
     },
     "metadata": {},
     "output_type": "display_data"
    },
    {
     "data": {
      "text/html": [
       "<pre>| 82.79ms                             | 0                | 2               |</pre>"
      ],
      "text/plain": [
       "| 82.79ms                             | 0                | 2               |"
      ]
     },
     "metadata": {},
     "output_type": "display_data"
    },
    {
     "data": {
      "text/html": [
       "<pre>| 655.197ms                           | 100              | 3985            |</pre>"
      ],
      "text/plain": [
       "| 655.197ms                           | 100              | 3985            |"
      ]
     },
     "metadata": {},
     "output_type": "display_data"
    },
    {
     "data": {
      "text/html": [
       "<pre>+-------------------------------------+------------------+-----------------+</pre>"
      ],
      "text/plain": [
       "+-------------------------------------+------------------+-----------------+"
      ]
     },
     "metadata": {},
     "output_type": "display_data"
    },
    {
     "data": {
      "text/html": [
       "<pre>Finalizing lookup tables.</pre>"
      ],
      "text/plain": [
       "Finalizing lookup tables."
      ]
     },
     "metadata": {},
     "output_type": "display_data"
    },
    {
     "data": {
      "text/html": [
       "<pre>Generating candidate set for working with new users.</pre>"
      ],
      "text/plain": [
       "Generating candidate set for working with new users."
      ]
     },
     "metadata": {},
     "output_type": "display_data"
    },
    {
     "data": {
      "text/html": [
       "<pre>Finished training in 1.69027s</pre>"
      ],
      "text/plain": [
       "Finished training in 1.69027s"
      ]
     },
     "metadata": {},
     "output_type": "display_data"
    },
    {
     "data": {
      "text/html": [
       "<pre>recommendations finished on 1000/271425 queries. users per second: 25553.9</pre>"
      ],
      "text/plain": [
       "recommendations finished on 1000/271425 queries. users per second: 25553.9"
      ]
     },
     "metadata": {},
     "output_type": "display_data"
    },
    {
     "data": {
      "text/html": [
       "<pre>recommendations finished on 2000/271425 queries. users per second: 23060.1</pre>"
      ],
      "text/plain": [
       "recommendations finished on 2000/271425 queries. users per second: 23060.1"
      ]
     },
     "metadata": {},
     "output_type": "display_data"
    },
    {
     "data": {
      "text/html": [
       "<pre>recommendations finished on 3000/271425 queries. users per second: 21937.8</pre>"
      ],
      "text/plain": [
       "recommendations finished on 3000/271425 queries. users per second: 21937.8"
      ]
     },
     "metadata": {},
     "output_type": "display_data"
    },
    {
     "data": {
      "text/html": [
       "<pre>recommendations finished on 4000/271425 queries. users per second: 22334.4</pre>"
      ],
      "text/plain": [
       "recommendations finished on 4000/271425 queries. users per second: 22334.4"
      ]
     },
     "metadata": {},
     "output_type": "display_data"
    },
    {
     "data": {
      "text/html": [
       "<pre>recommendations finished on 5000/271425 queries. users per second: 22367.1</pre>"
      ],
      "text/plain": [
       "recommendations finished on 5000/271425 queries. users per second: 22367.1"
      ]
     },
     "metadata": {},
     "output_type": "display_data"
    },
    {
     "data": {
      "text/html": [
       "<pre>recommendations finished on 6000/271425 queries. users per second: 21279.7</pre>"
      ],
      "text/plain": [
       "recommendations finished on 6000/271425 queries. users per second: 21279.7"
      ]
     },
     "metadata": {},
     "output_type": "display_data"
    },
    {
     "data": {
      "text/html": [
       "<pre>recommendations finished on 7000/271425 queries. users per second: 20421.4</pre>"
      ],
      "text/plain": [
       "recommendations finished on 7000/271425 queries. users per second: 20421.4"
      ]
     },
     "metadata": {},
     "output_type": "display_data"
    },
    {
     "data": {
      "text/html": [
       "<pre>recommendations finished on 8000/271425 queries. users per second: 19657.2</pre>"
      ],
      "text/plain": [
       "recommendations finished on 8000/271425 queries. users per second: 19657.2"
      ]
     },
     "metadata": {},
     "output_type": "display_data"
    },
    {
     "data": {
      "text/html": [
       "<pre>recommendations finished on 9000/271425 queries. users per second: 19270.1</pre>"
      ],
      "text/plain": [
       "recommendations finished on 9000/271425 queries. users per second: 19270.1"
      ]
     },
     "metadata": {},
     "output_type": "display_data"
    },
    {
     "data": {
      "text/html": [
       "<pre>recommendations finished on 10000/271425 queries. users per second: 19253.3</pre>"
      ],
      "text/plain": [
       "recommendations finished on 10000/271425 queries. users per second: 19253.3"
      ]
     },
     "metadata": {},
     "output_type": "display_data"
    },
    {
     "data": {
      "text/html": [
       "<pre>recommendations finished on 11000/271425 queries. users per second: 19341.5</pre>"
      ],
      "text/plain": [
       "recommendations finished on 11000/271425 queries. users per second: 19341.5"
      ]
     },
     "metadata": {},
     "output_type": "display_data"
    },
    {
     "data": {
      "text/html": [
       "<pre>recommendations finished on 12000/271425 queries. users per second: 19320.3</pre>"
      ],
      "text/plain": [
       "recommendations finished on 12000/271425 queries. users per second: 19320.3"
      ]
     },
     "metadata": {},
     "output_type": "display_data"
    },
    {
     "data": {
      "text/html": [
       "<pre>recommendations finished on 13000/271425 queries. users per second: 19007.9</pre>"
      ],
      "text/plain": [
       "recommendations finished on 13000/271425 queries. users per second: 19007.9"
      ]
     },
     "metadata": {},
     "output_type": "display_data"
    },
    {
     "data": {
      "text/html": [
       "<pre>recommendations finished on 14000/271425 queries. users per second: 18735.7</pre>"
      ],
      "text/plain": [
       "recommendations finished on 14000/271425 queries. users per second: 18735.7"
      ]
     },
     "metadata": {},
     "output_type": "display_data"
    },
    {
     "data": {
      "text/html": [
       "<pre>recommendations finished on 15000/271425 queries. users per second: 18790.4</pre>"
      ],
      "text/plain": [
       "recommendations finished on 15000/271425 queries. users per second: 18790.4"
      ]
     },
     "metadata": {},
     "output_type": "display_data"
    },
    {
     "data": {
      "text/html": [
       "<pre>recommendations finished on 16000/271425 queries. users per second: 18915.4</pre>"
      ],
      "text/plain": [
       "recommendations finished on 16000/271425 queries. users per second: 18915.4"
      ]
     },
     "metadata": {},
     "output_type": "display_data"
    },
    {
     "data": {
      "text/html": [
       "<pre>recommendations finished on 17000/271425 queries. users per second: 19073.5</pre>"
      ],
      "text/plain": [
       "recommendations finished on 17000/271425 queries. users per second: 19073.5"
      ]
     },
     "metadata": {},
     "output_type": "display_data"
    },
    {
     "data": {
      "text/html": [
       "<pre>recommendations finished on 18000/271425 queries. users per second: 19247.6</pre>"
      ],
      "text/plain": [
       "recommendations finished on 18000/271425 queries. users per second: 19247.6"
      ]
     },
     "metadata": {},
     "output_type": "display_data"
    },
    {
     "data": {
      "text/html": [
       "<pre>recommendations finished on 19000/271425 queries. users per second: 19190</pre>"
      ],
      "text/plain": [
       "recommendations finished on 19000/271425 queries. users per second: 19190"
      ]
     },
     "metadata": {},
     "output_type": "display_data"
    },
    {
     "data": {
      "text/html": [
       "<pre>recommendations finished on 20000/271425 queries. users per second: 19302.6</pre>"
      ],
      "text/plain": [
       "recommendations finished on 20000/271425 queries. users per second: 19302.6"
      ]
     },
     "metadata": {},
     "output_type": "display_data"
    },
    {
     "data": {
      "text/html": [
       "<pre>recommendations finished on 21000/271425 queries. users per second: 19321.6</pre>"
      ],
      "text/plain": [
       "recommendations finished on 21000/271425 queries. users per second: 19321.6"
      ]
     },
     "metadata": {},
     "output_type": "display_data"
    },
    {
     "data": {
      "text/html": [
       "<pre>recommendations finished on 22000/271425 queries. users per second: 19165.3</pre>"
      ],
      "text/plain": [
       "recommendations finished on 22000/271425 queries. users per second: 19165.3"
      ]
     },
     "metadata": {},
     "output_type": "display_data"
    },
    {
     "data": {
      "text/html": [
       "<pre>recommendations finished on 23000/271425 queries. users per second: 18945.3</pre>"
      ],
      "text/plain": [
       "recommendations finished on 23000/271425 queries. users per second: 18945.3"
      ]
     },
     "metadata": {},
     "output_type": "display_data"
    },
    {
     "data": {
      "text/html": [
       "<pre>recommendations finished on 24000/271425 queries. users per second: 18857.9</pre>"
      ],
      "text/plain": [
       "recommendations finished on 24000/271425 queries. users per second: 18857.9"
      ]
     },
     "metadata": {},
     "output_type": "display_data"
    },
    {
     "data": {
      "text/html": [
       "<pre>recommendations finished on 25000/271425 queries. users per second: 18905.1</pre>"
      ],
      "text/plain": [
       "recommendations finished on 25000/271425 queries. users per second: 18905.1"
      ]
     },
     "metadata": {},
     "output_type": "display_data"
    },
    {
     "data": {
      "text/html": [
       "<pre>recommendations finished on 26000/271425 queries. users per second: 18803.2</pre>"
      ],
      "text/plain": [
       "recommendations finished on 26000/271425 queries. users per second: 18803.2"
      ]
     },
     "metadata": {},
     "output_type": "display_data"
    },
    {
     "data": {
      "text/html": [
       "<pre>recommendations finished on 27000/271425 queries. users per second: 18772.1</pre>"
      ],
      "text/plain": [
       "recommendations finished on 27000/271425 queries. users per second: 18772.1"
      ]
     },
     "metadata": {},
     "output_type": "display_data"
    },
    {
     "data": {
      "text/html": [
       "<pre>recommendations finished on 28000/271425 queries. users per second: 18781.6</pre>"
      ],
      "text/plain": [
       "recommendations finished on 28000/271425 queries. users per second: 18781.6"
      ]
     },
     "metadata": {},
     "output_type": "display_data"
    },
    {
     "data": {
      "text/html": [
       "<pre>recommendations finished on 29000/271425 queries. users per second: 18855.5</pre>"
      ],
      "text/plain": [
       "recommendations finished on 29000/271425 queries. users per second: 18855.5"
      ]
     },
     "metadata": {},
     "output_type": "display_data"
    },
    {
     "data": {
      "text/html": [
       "<pre>recommendations finished on 30000/271425 queries. users per second: 18953.5</pre>"
      ],
      "text/plain": [
       "recommendations finished on 30000/271425 queries. users per second: 18953.5"
      ]
     },
     "metadata": {},
     "output_type": "display_data"
    },
    {
     "data": {
      "text/html": [
       "<pre>recommendations finished on 31000/271425 queries. users per second: 18910.3</pre>"
      ],
      "text/plain": [
       "recommendations finished on 31000/271425 queries. users per second: 18910.3"
      ]
     },
     "metadata": {},
     "output_type": "display_data"
    },
    {
     "data": {
      "text/html": [
       "<pre>recommendations finished on 32000/271425 queries. users per second: 18844</pre>"
      ],
      "text/plain": [
       "recommendations finished on 32000/271425 queries. users per second: 18844"
      ]
     },
     "metadata": {},
     "output_type": "display_data"
    },
    {
     "data": {
      "text/html": [
       "<pre>recommendations finished on 33000/271425 queries. users per second: 18882.3</pre>"
      ],
      "text/plain": [
       "recommendations finished on 33000/271425 queries. users per second: 18882.3"
      ]
     },
     "metadata": {},
     "output_type": "display_data"
    },
    {
     "data": {
      "text/html": [
       "<pre>recommendations finished on 34000/271425 queries. users per second: 18966.3</pre>"
      ],
      "text/plain": [
       "recommendations finished on 34000/271425 queries. users per second: 18966.3"
      ]
     },
     "metadata": {},
     "output_type": "display_data"
    },
    {
     "data": {
      "text/html": [
       "<pre>recommendations finished on 35000/271425 queries. users per second: 18820</pre>"
      ],
      "text/plain": [
       "recommendations finished on 35000/271425 queries. users per second: 18820"
      ]
     },
     "metadata": {},
     "output_type": "display_data"
    },
    {
     "data": {
      "text/html": [
       "<pre>recommendations finished on 36000/271425 queries. users per second: 18757.2</pre>"
      ],
      "text/plain": [
       "recommendations finished on 36000/271425 queries. users per second: 18757.2"
      ]
     },
     "metadata": {},
     "output_type": "display_data"
    },
    {
     "data": {
      "text/html": [
       "<pre>recommendations finished on 37000/271425 queries. users per second: 18676.7</pre>"
      ],
      "text/plain": [
       "recommendations finished on 37000/271425 queries. users per second: 18676.7"
      ]
     },
     "metadata": {},
     "output_type": "display_data"
    },
    {
     "data": {
      "text/html": [
       "<pre>recommendations finished on 38000/271425 queries. users per second: 18429.9</pre>"
      ],
      "text/plain": [
       "recommendations finished on 38000/271425 queries. users per second: 18429.9"
      ]
     },
     "metadata": {},
     "output_type": "display_data"
    },
    {
     "data": {
      "text/html": [
       "<pre>recommendations finished on 39000/271425 queries. users per second: 18275.5</pre>"
      ],
      "text/plain": [
       "recommendations finished on 39000/271425 queries. users per second: 18275.5"
      ]
     },
     "metadata": {},
     "output_type": "display_data"
    },
    {
     "data": {
      "text/html": [
       "<pre>recommendations finished on 40000/271425 queries. users per second: 18252.8</pre>"
      ],
      "text/plain": [
       "recommendations finished on 40000/271425 queries. users per second: 18252.8"
      ]
     },
     "metadata": {},
     "output_type": "display_data"
    },
    {
     "data": {
      "text/html": [
       "<pre>recommendations finished on 41000/271425 queries. users per second: 18178.4</pre>"
      ],
      "text/plain": [
       "recommendations finished on 41000/271425 queries. users per second: 18178.4"
      ]
     },
     "metadata": {},
     "output_type": "display_data"
    },
    {
     "data": {
      "text/html": [
       "<pre>recommendations finished on 42000/271425 queries. users per second: 17990.6</pre>"
      ],
      "text/plain": [
       "recommendations finished on 42000/271425 queries. users per second: 17990.6"
      ]
     },
     "metadata": {},
     "output_type": "display_data"
    },
    {
     "data": {
      "text/html": [
       "<pre>recommendations finished on 43000/271425 queries. users per second: 17879.5</pre>"
      ],
      "text/plain": [
       "recommendations finished on 43000/271425 queries. users per second: 17879.5"
      ]
     },
     "metadata": {},
     "output_type": "display_data"
    },
    {
     "data": {
      "text/html": [
       "<pre>recommendations finished on 44000/271425 queries. users per second: 17867.1</pre>"
      ],
      "text/plain": [
       "recommendations finished on 44000/271425 queries. users per second: 17867.1"
      ]
     },
     "metadata": {},
     "output_type": "display_data"
    },
    {
     "data": {
      "text/html": [
       "<pre>recommendations finished on 45000/271425 queries. users per second: 17875.1</pre>"
      ],
      "text/plain": [
       "recommendations finished on 45000/271425 queries. users per second: 17875.1"
      ]
     },
     "metadata": {},
     "output_type": "display_data"
    },
    {
     "data": {
      "text/html": [
       "<pre>recommendations finished on 46000/271425 queries. users per second: 17695.1</pre>"
      ],
      "text/plain": [
       "recommendations finished on 46000/271425 queries. users per second: 17695.1"
      ]
     },
     "metadata": {},
     "output_type": "display_data"
    },
    {
     "data": {
      "text/html": [
       "<pre>recommendations finished on 47000/271425 queries. users per second: 17229.8</pre>"
      ],
      "text/plain": [
       "recommendations finished on 47000/271425 queries. users per second: 17229.8"
      ]
     },
     "metadata": {},
     "output_type": "display_data"
    },
    {
     "data": {
      "text/html": [
       "<pre>recommendations finished on 48000/271425 queries. users per second: 17105.2</pre>"
      ],
      "text/plain": [
       "recommendations finished on 48000/271425 queries. users per second: 17105.2"
      ]
     },
     "metadata": {},
     "output_type": "display_data"
    },
    {
     "data": {
      "text/html": [
       "<pre>recommendations finished on 49000/271425 queries. users per second: 17077.8</pre>"
      ],
      "text/plain": [
       "recommendations finished on 49000/271425 queries. users per second: 17077.8"
      ]
     },
     "metadata": {},
     "output_type": "display_data"
    },
    {
     "data": {
      "text/html": [
       "<pre>recommendations finished on 50000/271425 queries. users per second: 16959.6</pre>"
      ],
      "text/plain": [
       "recommendations finished on 50000/271425 queries. users per second: 16959.6"
      ]
     },
     "metadata": {},
     "output_type": "display_data"
    },
    {
     "data": {
      "text/html": [
       "<pre>recommendations finished on 51000/271425 queries. users per second: 16934.8</pre>"
      ],
      "text/plain": [
       "recommendations finished on 51000/271425 queries. users per second: 16934.8"
      ]
     },
     "metadata": {},
     "output_type": "display_data"
    },
    {
     "data": {
      "text/html": [
       "<pre>recommendations finished on 52000/271425 queries. users per second: 16914.6</pre>"
      ],
      "text/plain": [
       "recommendations finished on 52000/271425 queries. users per second: 16914.6"
      ]
     },
     "metadata": {},
     "output_type": "display_data"
    },
    {
     "data": {
      "text/html": [
       "<pre>recommendations finished on 53000/271425 queries. users per second: 17043.8</pre>"
      ],
      "text/plain": [
       "recommendations finished on 53000/271425 queries. users per second: 17043.8"
      ]
     },
     "metadata": {},
     "output_type": "display_data"
    },
    {
     "data": {
      "text/html": [
       "<pre>recommendations finished on 54000/271425 queries. users per second: 17093.3</pre>"
      ],
      "text/plain": [
       "recommendations finished on 54000/271425 queries. users per second: 17093.3"
      ]
     },
     "metadata": {},
     "output_type": "display_data"
    },
    {
     "data": {
      "text/html": [
       "<pre>recommendations finished on 55000/271425 queries. users per second: 17142</pre>"
      ],
      "text/plain": [
       "recommendations finished on 55000/271425 queries. users per second: 17142"
      ]
     },
     "metadata": {},
     "output_type": "display_data"
    },
    {
     "data": {
      "text/html": [
       "<pre>recommendations finished on 56000/271425 queries. users per second: 17175.4</pre>"
      ],
      "text/plain": [
       "recommendations finished on 56000/271425 queries. users per second: 17175.4"
      ]
     },
     "metadata": {},
     "output_type": "display_data"
    },
    {
     "data": {
      "text/html": [
       "<pre>recommendations finished on 57000/271425 queries. users per second: 17262.4</pre>"
      ],
      "text/plain": [
       "recommendations finished on 57000/271425 queries. users per second: 17262.4"
      ]
     },
     "metadata": {},
     "output_type": "display_data"
    },
    {
     "data": {
      "text/html": [
       "<pre>recommendations finished on 58000/271425 queries. users per second: 17341.9</pre>"
      ],
      "text/plain": [
       "recommendations finished on 58000/271425 queries. users per second: 17341.9"
      ]
     },
     "metadata": {},
     "output_type": "display_data"
    },
    {
     "data": {
      "text/html": [
       "<pre>recommendations finished on 59000/271425 queries. users per second: 17335.1</pre>"
      ],
      "text/plain": [
       "recommendations finished on 59000/271425 queries. users per second: 17335.1"
      ]
     },
     "metadata": {},
     "output_type": "display_data"
    },
    {
     "data": {
      "text/html": [
       "<pre>recommendations finished on 60000/271425 queries. users per second: 17364.8</pre>"
      ],
      "text/plain": [
       "recommendations finished on 60000/271425 queries. users per second: 17364.8"
      ]
     },
     "metadata": {},
     "output_type": "display_data"
    },
    {
     "data": {
      "text/html": [
       "<pre>recommendations finished on 61000/271425 queries. users per second: 17319.2</pre>"
      ],
      "text/plain": [
       "recommendations finished on 61000/271425 queries. users per second: 17319.2"
      ]
     },
     "metadata": {},
     "output_type": "display_data"
    },
    {
     "data": {
      "text/html": [
       "<pre>recommendations finished on 62000/271425 queries. users per second: 17269</pre>"
      ],
      "text/plain": [
       "recommendations finished on 62000/271425 queries. users per second: 17269"
      ]
     },
     "metadata": {},
     "output_type": "display_data"
    },
    {
     "data": {
      "text/html": [
       "<pre>recommendations finished on 63000/271425 queries. users per second: 17305.4</pre>"
      ],
      "text/plain": [
       "recommendations finished on 63000/271425 queries. users per second: 17305.4"
      ]
     },
     "metadata": {},
     "output_type": "display_data"
    },
    {
     "data": {
      "text/html": [
       "<pre>recommendations finished on 64000/271425 queries. users per second: 17199.7</pre>"
      ],
      "text/plain": [
       "recommendations finished on 64000/271425 queries. users per second: 17199.7"
      ]
     },
     "metadata": {},
     "output_type": "display_data"
    },
    {
     "data": {
      "text/html": [
       "<pre>recommendations finished on 65000/271425 queries. users per second: 17126.8</pre>"
      ],
      "text/plain": [
       "recommendations finished on 65000/271425 queries. users per second: 17126.8"
      ]
     },
     "metadata": {},
     "output_type": "display_data"
    },
    {
     "data": {
      "text/html": [
       "<pre>recommendations finished on 66000/271425 queries. users per second: 17182.6</pre>"
      ],
      "text/plain": [
       "recommendations finished on 66000/271425 queries. users per second: 17182.6"
      ]
     },
     "metadata": {},
     "output_type": "display_data"
    },
    {
     "data": {
      "text/html": [
       "<pre>recommendations finished on 67000/271425 queries. users per second: 17244.8</pre>"
      ],
      "text/plain": [
       "recommendations finished on 67000/271425 queries. users per second: 17244.8"
      ]
     },
     "metadata": {},
     "output_type": "display_data"
    },
    {
     "data": {
      "text/html": [
       "<pre>recommendations finished on 68000/271425 queries. users per second: 17260.6</pre>"
      ],
      "text/plain": [
       "recommendations finished on 68000/271425 queries. users per second: 17260.6"
      ]
     },
     "metadata": {},
     "output_type": "display_data"
    },
    {
     "data": {
      "text/html": [
       "<pre>recommendations finished on 69000/271425 queries. users per second: 17257.2</pre>"
      ],
      "text/plain": [
       "recommendations finished on 69000/271425 queries. users per second: 17257.2"
      ]
     },
     "metadata": {},
     "output_type": "display_data"
    },
    {
     "data": {
      "text/html": [
       "<pre>recommendations finished on 70000/271425 queries. users per second: 17295.7</pre>"
      ],
      "text/plain": [
       "recommendations finished on 70000/271425 queries. users per second: 17295.7"
      ]
     },
     "metadata": {},
     "output_type": "display_data"
    },
    {
     "data": {
      "text/html": [
       "<pre>recommendations finished on 71000/271425 queries. users per second: 17296.2</pre>"
      ],
      "text/plain": [
       "recommendations finished on 71000/271425 queries. users per second: 17296.2"
      ]
     },
     "metadata": {},
     "output_type": "display_data"
    },
    {
     "data": {
      "text/html": [
       "<pre>recommendations finished on 72000/271425 queries. users per second: 17367.1</pre>"
      ],
      "text/plain": [
       "recommendations finished on 72000/271425 queries. users per second: 17367.1"
      ]
     },
     "metadata": {},
     "output_type": "display_data"
    },
    {
     "data": {
      "text/html": [
       "<pre>recommendations finished on 73000/271425 queries. users per second: 17435.4</pre>"
      ],
      "text/plain": [
       "recommendations finished on 73000/271425 queries. users per second: 17435.4"
      ]
     },
     "metadata": {},
     "output_type": "display_data"
    },
    {
     "data": {
      "text/html": [
       "<pre>recommendations finished on 74000/271425 queries. users per second: 17479.8</pre>"
      ],
      "text/plain": [
       "recommendations finished on 74000/271425 queries. users per second: 17479.8"
      ]
     },
     "metadata": {},
     "output_type": "display_data"
    },
    {
     "data": {
      "text/html": [
       "<pre>recommendations finished on 75000/271425 queries. users per second: 17505.9</pre>"
      ],
      "text/plain": [
       "recommendations finished on 75000/271425 queries. users per second: 17505.9"
      ]
     },
     "metadata": {},
     "output_type": "display_data"
    },
    {
     "data": {
      "text/html": [
       "<pre>recommendations finished on 76000/271425 queries. users per second: 17577.3</pre>"
      ],
      "text/plain": [
       "recommendations finished on 76000/271425 queries. users per second: 17577.3"
      ]
     },
     "metadata": {},
     "output_type": "display_data"
    },
    {
     "data": {
      "text/html": [
       "<pre>recommendations finished on 77000/271425 queries. users per second: 17549.9</pre>"
      ],
      "text/plain": [
       "recommendations finished on 77000/271425 queries. users per second: 17549.9"
      ]
     },
     "metadata": {},
     "output_type": "display_data"
    },
    {
     "data": {
      "text/html": [
       "<pre>recommendations finished on 78000/271425 queries. users per second: 17491.4</pre>"
      ],
      "text/plain": [
       "recommendations finished on 78000/271425 queries. users per second: 17491.4"
      ]
     },
     "metadata": {},
     "output_type": "display_data"
    },
    {
     "data": {
      "text/html": [
       "<pre>recommendations finished on 79000/271425 queries. users per second: 17406.7</pre>"
      ],
      "text/plain": [
       "recommendations finished on 79000/271425 queries. users per second: 17406.7"
      ]
     },
     "metadata": {},
     "output_type": "display_data"
    },
    {
     "data": {
      "text/html": [
       "<pre>recommendations finished on 80000/271425 queries. users per second: 17296.5</pre>"
      ],
      "text/plain": [
       "recommendations finished on 80000/271425 queries. users per second: 17296.5"
      ]
     },
     "metadata": {},
     "output_type": "display_data"
    },
    {
     "data": {
      "text/html": [
       "<pre>recommendations finished on 81000/271425 queries. users per second: 17165.6</pre>"
      ],
      "text/plain": [
       "recommendations finished on 81000/271425 queries. users per second: 17165.6"
      ]
     },
     "metadata": {},
     "output_type": "display_data"
    },
    {
     "data": {
      "text/html": [
       "<pre>recommendations finished on 82000/271425 queries. users per second: 17130.4</pre>"
      ],
      "text/plain": [
       "recommendations finished on 82000/271425 queries. users per second: 17130.4"
      ]
     },
     "metadata": {},
     "output_type": "display_data"
    },
    {
     "data": {
      "text/html": [
       "<pre>recommendations finished on 83000/271425 queries. users per second: 16969.5</pre>"
      ],
      "text/plain": [
       "recommendations finished on 83000/271425 queries. users per second: 16969.5"
      ]
     },
     "metadata": {},
     "output_type": "display_data"
    },
    {
     "data": {
      "text/html": [
       "<pre>recommendations finished on 84000/271425 queries. users per second: 16946.3</pre>"
      ],
      "text/plain": [
       "recommendations finished on 84000/271425 queries. users per second: 16946.3"
      ]
     },
     "metadata": {},
     "output_type": "display_data"
    },
    {
     "data": {
      "text/html": [
       "<pre>recommendations finished on 85000/271425 queries. users per second: 16943.4</pre>"
      ],
      "text/plain": [
       "recommendations finished on 85000/271425 queries. users per second: 16943.4"
      ]
     },
     "metadata": {},
     "output_type": "display_data"
    },
    {
     "data": {
      "text/html": [
       "<pre>recommendations finished on 86000/271425 queries. users per second: 16945.3</pre>"
      ],
      "text/plain": [
       "recommendations finished on 86000/271425 queries. users per second: 16945.3"
      ]
     },
     "metadata": {},
     "output_type": "display_data"
    },
    {
     "data": {
      "text/html": [
       "<pre>recommendations finished on 87000/271425 queries. users per second: 16918.3</pre>"
      ],
      "text/plain": [
       "recommendations finished on 87000/271425 queries. users per second: 16918.3"
      ]
     },
     "metadata": {},
     "output_type": "display_data"
    },
    {
     "data": {
      "text/html": [
       "<pre>recommendations finished on 88000/271425 queries. users per second: 16813.6</pre>"
      ],
      "text/plain": [
       "recommendations finished on 88000/271425 queries. users per second: 16813.6"
      ]
     },
     "metadata": {},
     "output_type": "display_data"
    },
    {
     "data": {
      "text/html": [
       "<pre>recommendations finished on 89000/271425 queries. users per second: 16777.4</pre>"
      ],
      "text/plain": [
       "recommendations finished on 89000/271425 queries. users per second: 16777.4"
      ]
     },
     "metadata": {},
     "output_type": "display_data"
    },
    {
     "data": {
      "text/html": [
       "<pre>recommendations finished on 90000/271425 queries. users per second: 16706.7</pre>"
      ],
      "text/plain": [
       "recommendations finished on 90000/271425 queries. users per second: 16706.7"
      ]
     },
     "metadata": {},
     "output_type": "display_data"
    },
    {
     "data": {
      "text/html": [
       "<pre>recommendations finished on 91000/271425 queries. users per second: 16690.6</pre>"
      ],
      "text/plain": [
       "recommendations finished on 91000/271425 queries. users per second: 16690.6"
      ]
     },
     "metadata": {},
     "output_type": "display_data"
    },
    {
     "data": {
      "text/html": [
       "<pre>recommendations finished on 92000/271425 queries. users per second: 16617.3</pre>"
      ],
      "text/plain": [
       "recommendations finished on 92000/271425 queries. users per second: 16617.3"
      ]
     },
     "metadata": {},
     "output_type": "display_data"
    },
    {
     "data": {
      "text/html": [
       "<pre>recommendations finished on 93000/271425 queries. users per second: 16542.6</pre>"
      ],
      "text/plain": [
       "recommendations finished on 93000/271425 queries. users per second: 16542.6"
      ]
     },
     "metadata": {},
     "output_type": "display_data"
    },
    {
     "data": {
      "text/html": [
       "<pre>recommendations finished on 94000/271425 queries. users per second: 16255</pre>"
      ],
      "text/plain": [
       "recommendations finished on 94000/271425 queries. users per second: 16255"
      ]
     },
     "metadata": {},
     "output_type": "display_data"
    },
    {
     "data": {
      "text/html": [
       "<pre>recommendations finished on 95000/271425 queries. users per second: 16183.9</pre>"
      ],
      "text/plain": [
       "recommendations finished on 95000/271425 queries. users per second: 16183.9"
      ]
     },
     "metadata": {},
     "output_type": "display_data"
    },
    {
     "data": {
      "text/html": [
       "<pre>recommendations finished on 96000/271425 queries. users per second: 16104</pre>"
      ],
      "text/plain": [
       "recommendations finished on 96000/271425 queries. users per second: 16104"
      ]
     },
     "metadata": {},
     "output_type": "display_data"
    },
    {
     "data": {
      "text/html": [
       "<pre>recommendations finished on 97000/271425 queries. users per second: 16117.2</pre>"
      ],
      "text/plain": [
       "recommendations finished on 97000/271425 queries. users per second: 16117.2"
      ]
     },
     "metadata": {},
     "output_type": "display_data"
    },
    {
     "data": {
      "text/html": [
       "<pre>recommendations finished on 98000/271425 queries. users per second: 16133.7</pre>"
      ],
      "text/plain": [
       "recommendations finished on 98000/271425 queries. users per second: 16133.7"
      ]
     },
     "metadata": {},
     "output_type": "display_data"
    },
    {
     "data": {
      "text/html": [
       "<pre>recommendations finished on 99000/271425 queries. users per second: 16150.8</pre>"
      ],
      "text/plain": [
       "recommendations finished on 99000/271425 queries. users per second: 16150.8"
      ]
     },
     "metadata": {},
     "output_type": "display_data"
    },
    {
     "data": {
      "text/html": [
       "<pre>recommendations finished on 100000/271425 queries. users per second: 16117.8</pre>"
      ],
      "text/plain": [
       "recommendations finished on 100000/271425 queries. users per second: 16117.8"
      ]
     },
     "metadata": {},
     "output_type": "display_data"
    },
    {
     "data": {
      "text/html": [
       "<pre>recommendations finished on 101000/271425 queries. users per second: 16144.7</pre>"
      ],
      "text/plain": [
       "recommendations finished on 101000/271425 queries. users per second: 16144.7"
      ]
     },
     "metadata": {},
     "output_type": "display_data"
    },
    {
     "data": {
      "text/html": [
       "<pre>recommendations finished on 102000/271425 queries. users per second: 16202.9</pre>"
      ],
      "text/plain": [
       "recommendations finished on 102000/271425 queries. users per second: 16202.9"
      ]
     },
     "metadata": {},
     "output_type": "display_data"
    },
    {
     "data": {
      "text/html": [
       "<pre>recommendations finished on 103000/271425 queries. users per second: 16238.3</pre>"
      ],
      "text/plain": [
       "recommendations finished on 103000/271425 queries. users per second: 16238.3"
      ]
     },
     "metadata": {},
     "output_type": "display_data"
    },
    {
     "data": {
      "text/html": [
       "<pre>recommendations finished on 104000/271425 queries. users per second: 16215.6</pre>"
      ],
      "text/plain": [
       "recommendations finished on 104000/271425 queries. users per second: 16215.6"
      ]
     },
     "metadata": {},
     "output_type": "display_data"
    },
    {
     "data": {
      "text/html": [
       "<pre>recommendations finished on 105000/271425 queries. users per second: 16217.7</pre>"
      ],
      "text/plain": [
       "recommendations finished on 105000/271425 queries. users per second: 16217.7"
      ]
     },
     "metadata": {},
     "output_type": "display_data"
    },
    {
     "data": {
      "text/html": [
       "<pre>recommendations finished on 106000/271425 queries. users per second: 16192</pre>"
      ],
      "text/plain": [
       "recommendations finished on 106000/271425 queries. users per second: 16192"
      ]
     },
     "metadata": {},
     "output_type": "display_data"
    },
    {
     "data": {
      "text/html": [
       "<pre>recommendations finished on 107000/271425 queries. users per second: 16171.2</pre>"
      ],
      "text/plain": [
       "recommendations finished on 107000/271425 queries. users per second: 16171.2"
      ]
     },
     "metadata": {},
     "output_type": "display_data"
    },
    {
     "data": {
      "text/html": [
       "<pre>recommendations finished on 108000/271425 queries. users per second: 16173.4</pre>"
      ],
      "text/plain": [
       "recommendations finished on 108000/271425 queries. users per second: 16173.4"
      ]
     },
     "metadata": {},
     "output_type": "display_data"
    },
    {
     "data": {
      "text/html": [
       "<pre>recommendations finished on 109000/271425 queries. users per second: 16123.8</pre>"
      ],
      "text/plain": [
       "recommendations finished on 109000/271425 queries. users per second: 16123.8"
      ]
     },
     "metadata": {},
     "output_type": "display_data"
    },
    {
     "data": {
      "text/html": [
       "<pre>recommendations finished on 110000/271425 queries. users per second: 16079.9</pre>"
      ],
      "text/plain": [
       "recommendations finished on 110000/271425 queries. users per second: 16079.9"
      ]
     },
     "metadata": {},
     "output_type": "display_data"
    },
    {
     "data": {
      "text/html": [
       "<pre>recommendations finished on 111000/271425 queries. users per second: 16051.8</pre>"
      ],
      "text/plain": [
       "recommendations finished on 111000/271425 queries. users per second: 16051.8"
      ]
     },
     "metadata": {},
     "output_type": "display_data"
    },
    {
     "data": {
      "text/html": [
       "<pre>recommendations finished on 112000/271425 queries. users per second: 16053.3</pre>"
      ],
      "text/plain": [
       "recommendations finished on 112000/271425 queries. users per second: 16053.3"
      ]
     },
     "metadata": {},
     "output_type": "display_data"
    },
    {
     "data": {
      "text/html": [
       "<pre>recommendations finished on 113000/271425 queries. users per second: 16038.3</pre>"
      ],
      "text/plain": [
       "recommendations finished on 113000/271425 queries. users per second: 16038.3"
      ]
     },
     "metadata": {},
     "output_type": "display_data"
    },
    {
     "data": {
      "text/html": [
       "<pre>recommendations finished on 114000/271425 queries. users per second: 16070.7</pre>"
      ],
      "text/plain": [
       "recommendations finished on 114000/271425 queries. users per second: 16070.7"
      ]
     },
     "metadata": {},
     "output_type": "display_data"
    },
    {
     "data": {
      "text/html": [
       "<pre>recommendations finished on 115000/271425 queries. users per second: 16077.9</pre>"
      ],
      "text/plain": [
       "recommendations finished on 115000/271425 queries. users per second: 16077.9"
      ]
     },
     "metadata": {},
     "output_type": "display_data"
    },
    {
     "data": {
      "text/html": [
       "<pre>recommendations finished on 116000/271425 queries. users per second: 16113</pre>"
      ],
      "text/plain": [
       "recommendations finished on 116000/271425 queries. users per second: 16113"
      ]
     },
     "metadata": {},
     "output_type": "display_data"
    },
    {
     "data": {
      "text/html": [
       "<pre>recommendations finished on 117000/271425 queries. users per second: 16149.6</pre>"
      ],
      "text/plain": [
       "recommendations finished on 117000/271425 queries. users per second: 16149.6"
      ]
     },
     "metadata": {},
     "output_type": "display_data"
    },
    {
     "data": {
      "text/html": [
       "<pre>recommendations finished on 118000/271425 queries. users per second: 15988.6</pre>"
      ],
      "text/plain": [
       "recommendations finished on 118000/271425 queries. users per second: 15988.6"
      ]
     },
     "metadata": {},
     "output_type": "display_data"
    },
    {
     "data": {
      "text/html": [
       "<pre>recommendations finished on 119000/271425 queries. users per second: 15987.3</pre>"
      ],
      "text/plain": [
       "recommendations finished on 119000/271425 queries. users per second: 15987.3"
      ]
     },
     "metadata": {},
     "output_type": "display_data"
    },
    {
     "data": {
      "text/html": [
       "<pre>recommendations finished on 120000/271425 queries. users per second: 15997.8</pre>"
      ],
      "text/plain": [
       "recommendations finished on 120000/271425 queries. users per second: 15997.8"
      ]
     },
     "metadata": {},
     "output_type": "display_data"
    },
    {
     "data": {
      "text/html": [
       "<pre>recommendations finished on 121000/271425 queries. users per second: 16003.3</pre>"
      ],
      "text/plain": [
       "recommendations finished on 121000/271425 queries. users per second: 16003.3"
      ]
     },
     "metadata": {},
     "output_type": "display_data"
    },
    {
     "data": {
      "text/html": [
       "<pre>recommendations finished on 122000/271425 queries. users per second: 16003.8</pre>"
      ],
      "text/plain": [
       "recommendations finished on 122000/271425 queries. users per second: 16003.8"
      ]
     },
     "metadata": {},
     "output_type": "display_data"
    },
    {
     "data": {
      "text/html": [
       "<pre>recommendations finished on 123000/271425 queries. users per second: 16035.2</pre>"
      ],
      "text/plain": [
       "recommendations finished on 123000/271425 queries. users per second: 16035.2"
      ]
     },
     "metadata": {},
     "output_type": "display_data"
    },
    {
     "data": {
      "text/html": [
       "<pre>recommendations finished on 124000/271425 queries. users per second: 16048.2</pre>"
      ],
      "text/plain": [
       "recommendations finished on 124000/271425 queries. users per second: 16048.2"
      ]
     },
     "metadata": {},
     "output_type": "display_data"
    },
    {
     "data": {
      "text/html": [
       "<pre>recommendations finished on 125000/271425 queries. users per second: 16053.4</pre>"
      ],
      "text/plain": [
       "recommendations finished on 125000/271425 queries. users per second: 16053.4"
      ]
     },
     "metadata": {},
     "output_type": "display_data"
    },
    {
     "data": {
      "text/html": [
       "<pre>recommendations finished on 126000/271425 queries. users per second: 16087.4</pre>"
      ],
      "text/plain": [
       "recommendations finished on 126000/271425 queries. users per second: 16087.4"
      ]
     },
     "metadata": {},
     "output_type": "display_data"
    },
    {
     "data": {
      "text/html": [
       "<pre>recommendations finished on 127000/271425 queries. users per second: 16100.2</pre>"
      ],
      "text/plain": [
       "recommendations finished on 127000/271425 queries. users per second: 16100.2"
      ]
     },
     "metadata": {},
     "output_type": "display_data"
    },
    {
     "data": {
      "text/html": [
       "<pre>recommendations finished on 128000/271425 queries. users per second: 16141.3</pre>"
      ],
      "text/plain": [
       "recommendations finished on 128000/271425 queries. users per second: 16141.3"
      ]
     },
     "metadata": {},
     "output_type": "display_data"
    },
    {
     "data": {
      "text/html": [
       "<pre>recommendations finished on 129000/271425 queries. users per second: 16155.3</pre>"
      ],
      "text/plain": [
       "recommendations finished on 129000/271425 queries. users per second: 16155.3"
      ]
     },
     "metadata": {},
     "output_type": "display_data"
    },
    {
     "data": {
      "text/html": [
       "<pre>recommendations finished on 130000/271425 queries. users per second: 16191.4</pre>"
      ],
      "text/plain": [
       "recommendations finished on 130000/271425 queries. users per second: 16191.4"
      ]
     },
     "metadata": {},
     "output_type": "display_data"
    },
    {
     "data": {
      "text/html": [
       "<pre>recommendations finished on 131000/271425 queries. users per second: 16154.3</pre>"
      ],
      "text/plain": [
       "recommendations finished on 131000/271425 queries. users per second: 16154.3"
      ]
     },
     "metadata": {},
     "output_type": "display_data"
    },
    {
     "data": {
      "text/html": [
       "<pre>recommendations finished on 132000/271425 queries. users per second: 16183.5</pre>"
      ],
      "text/plain": [
       "recommendations finished on 132000/271425 queries. users per second: 16183.5"
      ]
     },
     "metadata": {},
     "output_type": "display_data"
    },
    {
     "data": {
      "text/html": [
       "<pre>recommendations finished on 133000/271425 queries. users per second: 16202.1</pre>"
      ],
      "text/plain": [
       "recommendations finished on 133000/271425 queries. users per second: 16202.1"
      ]
     },
     "metadata": {},
     "output_type": "display_data"
    },
    {
     "data": {
      "text/html": [
       "<pre>recommendations finished on 134000/271425 queries. users per second: 16238.8</pre>"
      ],
      "text/plain": [
       "recommendations finished on 134000/271425 queries. users per second: 16238.8"
      ]
     },
     "metadata": {},
     "output_type": "display_data"
    },
    {
     "data": {
      "text/html": [
       "<pre>recommendations finished on 135000/271425 queries. users per second: 16264.6</pre>"
      ],
      "text/plain": [
       "recommendations finished on 135000/271425 queries. users per second: 16264.6"
      ]
     },
     "metadata": {},
     "output_type": "display_data"
    },
    {
     "data": {
      "text/html": [
       "<pre>recommendations finished on 136000/271425 queries. users per second: 16287.9</pre>"
      ],
      "text/plain": [
       "recommendations finished on 136000/271425 queries. users per second: 16287.9"
      ]
     },
     "metadata": {},
     "output_type": "display_data"
    },
    {
     "data": {
      "text/html": [
       "<pre>recommendations finished on 137000/271425 queries. users per second: 16315.3</pre>"
      ],
      "text/plain": [
       "recommendations finished on 137000/271425 queries. users per second: 16315.3"
      ]
     },
     "metadata": {},
     "output_type": "display_data"
    },
    {
     "data": {
      "text/html": [
       "<pre>recommendations finished on 138000/271425 queries. users per second: 16348.2</pre>"
      ],
      "text/plain": [
       "recommendations finished on 138000/271425 queries. users per second: 16348.2"
      ]
     },
     "metadata": {},
     "output_type": "display_data"
    },
    {
     "data": {
      "text/html": [
       "<pre>recommendations finished on 139000/271425 queries. users per second: 16395.3</pre>"
      ],
      "text/plain": [
       "recommendations finished on 139000/271425 queries. users per second: 16395.3"
      ]
     },
     "metadata": {},
     "output_type": "display_data"
    },
    {
     "data": {
      "text/html": [
       "<pre>recommendations finished on 140000/271425 queries. users per second: 16419.9</pre>"
      ],
      "text/plain": [
       "recommendations finished on 140000/271425 queries. users per second: 16419.9"
      ]
     },
     "metadata": {},
     "output_type": "display_data"
    },
    {
     "data": {
      "text/html": [
       "<pre>recommendations finished on 141000/271425 queries. users per second: 16443.1</pre>"
      ],
      "text/plain": [
       "recommendations finished on 141000/271425 queries. users per second: 16443.1"
      ]
     },
     "metadata": {},
     "output_type": "display_data"
    },
    {
     "data": {
      "text/html": [
       "<pre>recommendations finished on 142000/271425 queries. users per second: 16464.4</pre>"
      ],
      "text/plain": [
       "recommendations finished on 142000/271425 queries. users per second: 16464.4"
      ]
     },
     "metadata": {},
     "output_type": "display_data"
    },
    {
     "data": {
      "text/html": [
       "<pre>recommendations finished on 143000/271425 queries. users per second: 16496</pre>"
      ],
      "text/plain": [
       "recommendations finished on 143000/271425 queries. users per second: 16496"
      ]
     },
     "metadata": {},
     "output_type": "display_data"
    },
    {
     "data": {
      "text/html": [
       "<pre>recommendations finished on 144000/271425 queries. users per second: 16528.5</pre>"
      ],
      "text/plain": [
       "recommendations finished on 144000/271425 queries. users per second: 16528.5"
      ]
     },
     "metadata": {},
     "output_type": "display_data"
    },
    {
     "data": {
      "text/html": [
       "<pre>recommendations finished on 145000/271425 queries. users per second: 16539.6</pre>"
      ],
      "text/plain": [
       "recommendations finished on 145000/271425 queries. users per second: 16539.6"
      ]
     },
     "metadata": {},
     "output_type": "display_data"
    },
    {
     "data": {
      "text/html": [
       "<pre>recommendations finished on 146000/271425 queries. users per second: 16569.1</pre>"
      ],
      "text/plain": [
       "recommendations finished on 146000/271425 queries. users per second: 16569.1"
      ]
     },
     "metadata": {},
     "output_type": "display_data"
    },
    {
     "data": {
      "text/html": [
       "<pre>recommendations finished on 147000/271425 queries. users per second: 16573.6</pre>"
      ],
      "text/plain": [
       "recommendations finished on 147000/271425 queries. users per second: 16573.6"
      ]
     },
     "metadata": {},
     "output_type": "display_data"
    },
    {
     "data": {
      "text/html": [
       "<pre>recommendations finished on 148000/271425 queries. users per second: 16569.7</pre>"
      ],
      "text/plain": [
       "recommendations finished on 148000/271425 queries. users per second: 16569.7"
      ]
     },
     "metadata": {},
     "output_type": "display_data"
    },
    {
     "data": {
      "text/html": [
       "<pre>recommendations finished on 149000/271425 queries. users per second: 16581.6</pre>"
      ],
      "text/plain": [
       "recommendations finished on 149000/271425 queries. users per second: 16581.6"
      ]
     },
     "metadata": {},
     "output_type": "display_data"
    },
    {
     "data": {
      "text/html": [
       "<pre>recommendations finished on 150000/271425 queries. users per second: 16618.4</pre>"
      ],
      "text/plain": [
       "recommendations finished on 150000/271425 queries. users per second: 16618.4"
      ]
     },
     "metadata": {},
     "output_type": "display_data"
    },
    {
     "data": {
      "text/html": [
       "<pre>recommendations finished on 151000/271425 queries. users per second: 16601.1</pre>"
      ],
      "text/plain": [
       "recommendations finished on 151000/271425 queries. users per second: 16601.1"
      ]
     },
     "metadata": {},
     "output_type": "display_data"
    },
    {
     "data": {
      "text/html": [
       "<pre>recommendations finished on 152000/271425 queries. users per second: 16551.3</pre>"
      ],
      "text/plain": [
       "recommendations finished on 152000/271425 queries. users per second: 16551.3"
      ]
     },
     "metadata": {},
     "output_type": "display_data"
    },
    {
     "data": {
      "text/html": [
       "<pre>recommendations finished on 153000/271425 queries. users per second: 16542.2</pre>"
      ],
      "text/plain": [
       "recommendations finished on 153000/271425 queries. users per second: 16542.2"
      ]
     },
     "metadata": {},
     "output_type": "display_data"
    },
    {
     "data": {
      "text/html": [
       "<pre>recommendations finished on 154000/271425 queries. users per second: 16545.8</pre>"
      ],
      "text/plain": [
       "recommendations finished on 154000/271425 queries. users per second: 16545.8"
      ]
     },
     "metadata": {},
     "output_type": "display_data"
    },
    {
     "data": {
      "text/html": [
       "<pre>recommendations finished on 155000/271425 queries. users per second: 16495.1</pre>"
      ],
      "text/plain": [
       "recommendations finished on 155000/271425 queries. users per second: 16495.1"
      ]
     },
     "metadata": {},
     "output_type": "display_data"
    },
    {
     "data": {
      "text/html": [
       "<pre>recommendations finished on 156000/271425 queries. users per second: 16350.5</pre>"
      ],
      "text/plain": [
       "recommendations finished on 156000/271425 queries. users per second: 16350.5"
      ]
     },
     "metadata": {},
     "output_type": "display_data"
    },
    {
     "data": {
      "text/html": [
       "<pre>recommendations finished on 157000/271425 queries. users per second: 16311.2</pre>"
      ],
      "text/plain": [
       "recommendations finished on 157000/271425 queries. users per second: 16311.2"
      ]
     },
     "metadata": {},
     "output_type": "display_data"
    },
    {
     "data": {
      "text/html": [
       "<pre>recommendations finished on 158000/271425 queries. users per second: 16232.3</pre>"
      ],
      "text/plain": [
       "recommendations finished on 158000/271425 queries. users per second: 16232.3"
      ]
     },
     "metadata": {},
     "output_type": "display_data"
    },
    {
     "data": {
      "text/html": [
       "<pre>recommendations finished on 159000/271425 queries. users per second: 16201.7</pre>"
      ],
      "text/plain": [
       "recommendations finished on 159000/271425 queries. users per second: 16201.7"
      ]
     },
     "metadata": {},
     "output_type": "display_data"
    },
    {
     "data": {
      "text/html": [
       "<pre>recommendations finished on 160000/271425 queries. users per second: 16201.4</pre>"
      ],
      "text/plain": [
       "recommendations finished on 160000/271425 queries. users per second: 16201.4"
      ]
     },
     "metadata": {},
     "output_type": "display_data"
    },
    {
     "data": {
      "text/html": [
       "<pre>recommendations finished on 161000/271425 queries. users per second: 16203.1</pre>"
      ],
      "text/plain": [
       "recommendations finished on 161000/271425 queries. users per second: 16203.1"
      ]
     },
     "metadata": {},
     "output_type": "display_data"
    },
    {
     "data": {
      "text/html": [
       "<pre>recommendations finished on 162000/271425 queries. users per second: 16134.4</pre>"
      ],
      "text/plain": [
       "recommendations finished on 162000/271425 queries. users per second: 16134.4"
      ]
     },
     "metadata": {},
     "output_type": "display_data"
    },
    {
     "data": {
      "text/html": [
       "<pre>recommendations finished on 163000/271425 queries. users per second: 16110.8</pre>"
      ],
      "text/plain": [
       "recommendations finished on 163000/271425 queries. users per second: 16110.8"
      ]
     },
     "metadata": {},
     "output_type": "display_data"
    },
    {
     "data": {
      "text/html": [
       "<pre>recommendations finished on 164000/271425 queries. users per second: 16091.2</pre>"
      ],
      "text/plain": [
       "recommendations finished on 164000/271425 queries. users per second: 16091.2"
      ]
     },
     "metadata": {},
     "output_type": "display_data"
    },
    {
     "data": {
      "text/html": [
       "<pre>recommendations finished on 165000/271425 queries. users per second: 16084.9</pre>"
      ],
      "text/plain": [
       "recommendations finished on 165000/271425 queries. users per second: 16084.9"
      ]
     },
     "metadata": {},
     "output_type": "display_data"
    },
    {
     "data": {
      "text/html": [
       "<pre>recommendations finished on 166000/271425 queries. users per second: 16104</pre>"
      ],
      "text/plain": [
       "recommendations finished on 166000/271425 queries. users per second: 16104"
      ]
     },
     "metadata": {},
     "output_type": "display_data"
    },
    {
     "data": {
      "text/html": [
       "<pre>recommendations finished on 167000/271425 queries. users per second: 16075.2</pre>"
      ],
      "text/plain": [
       "recommendations finished on 167000/271425 queries. users per second: 16075.2"
      ]
     },
     "metadata": {},
     "output_type": "display_data"
    },
    {
     "data": {
      "text/html": [
       "<pre>recommendations finished on 168000/271425 queries. users per second: 16082.4</pre>"
      ],
      "text/plain": [
       "recommendations finished on 168000/271425 queries. users per second: 16082.4"
      ]
     },
     "metadata": {},
     "output_type": "display_data"
    },
    {
     "data": {
      "text/html": [
       "<pre>recommendations finished on 169000/271425 queries. users per second: 16095.7</pre>"
      ],
      "text/plain": [
       "recommendations finished on 169000/271425 queries. users per second: 16095.7"
      ]
     },
     "metadata": {},
     "output_type": "display_data"
    },
    {
     "data": {
      "text/html": [
       "<pre>recommendations finished on 170000/271425 queries. users per second: 16071.7</pre>"
      ],
      "text/plain": [
       "recommendations finished on 170000/271425 queries. users per second: 16071.7"
      ]
     },
     "metadata": {},
     "output_type": "display_data"
    },
    {
     "data": {
      "text/html": [
       "<pre>recommendations finished on 171000/271425 queries. users per second: 16034.7</pre>"
      ],
      "text/plain": [
       "recommendations finished on 171000/271425 queries. users per second: 16034.7"
      ]
     },
     "metadata": {},
     "output_type": "display_data"
    },
    {
     "data": {
      "text/html": [
       "<pre>recommendations finished on 172000/271425 queries. users per second: 16028.6</pre>"
      ],
      "text/plain": [
       "recommendations finished on 172000/271425 queries. users per second: 16028.6"
      ]
     },
     "metadata": {},
     "output_type": "display_data"
    },
    {
     "data": {
      "text/html": [
       "<pre>recommendations finished on 173000/271425 queries. users per second: 16048.1</pre>"
      ],
      "text/plain": [
       "recommendations finished on 173000/271425 queries. users per second: 16048.1"
      ]
     },
     "metadata": {},
     "output_type": "display_data"
    },
    {
     "data": {
      "text/html": [
       "<pre>recommendations finished on 174000/271425 queries. users per second: 16058.1</pre>"
      ],
      "text/plain": [
       "recommendations finished on 174000/271425 queries. users per second: 16058.1"
      ]
     },
     "metadata": {},
     "output_type": "display_data"
    },
    {
     "data": {
      "text/html": [
       "<pre>recommendations finished on 175000/271425 queries. users per second: 16020.7</pre>"
      ],
      "text/plain": [
       "recommendations finished on 175000/271425 queries. users per second: 16020.7"
      ]
     },
     "metadata": {},
     "output_type": "display_data"
    },
    {
     "data": {
      "text/html": [
       "<pre>recommendations finished on 176000/271425 queries. users per second: 15949.4</pre>"
      ],
      "text/plain": [
       "recommendations finished on 176000/271425 queries. users per second: 15949.4"
      ]
     },
     "metadata": {},
     "output_type": "display_data"
    },
    {
     "data": {
      "text/html": [
       "<pre>recommendations finished on 177000/271425 queries. users per second: 15903.1</pre>"
      ],
      "text/plain": [
       "recommendations finished on 177000/271425 queries. users per second: 15903.1"
      ]
     },
     "metadata": {},
     "output_type": "display_data"
    },
    {
     "data": {
      "text/html": [
       "<pre>recommendations finished on 178000/271425 queries. users per second: 15790.5</pre>"
      ],
      "text/plain": [
       "recommendations finished on 178000/271425 queries. users per second: 15790.5"
      ]
     },
     "metadata": {},
     "output_type": "display_data"
    },
    {
     "data": {
      "text/html": [
       "<pre>recommendations finished on 179000/271425 queries. users per second: 15715.6</pre>"
      ],
      "text/plain": [
       "recommendations finished on 179000/271425 queries. users per second: 15715.6"
      ]
     },
     "metadata": {},
     "output_type": "display_data"
    },
    {
     "data": {
      "text/html": [
       "<pre>recommendations finished on 180000/271425 queries. users per second: 15704.6</pre>"
      ],
      "text/plain": [
       "recommendations finished on 180000/271425 queries. users per second: 15704.6"
      ]
     },
     "metadata": {},
     "output_type": "display_data"
    },
    {
     "data": {
      "text/html": [
       "<pre>recommendations finished on 181000/271425 queries. users per second: 15689.7</pre>"
      ],
      "text/plain": [
       "recommendations finished on 181000/271425 queries. users per second: 15689.7"
      ]
     },
     "metadata": {},
     "output_type": "display_data"
    },
    {
     "data": {
      "text/html": [
       "<pre>recommendations finished on 182000/271425 queries. users per second: 15662.8</pre>"
      ],
      "text/plain": [
       "recommendations finished on 182000/271425 queries. users per second: 15662.8"
      ]
     },
     "metadata": {},
     "output_type": "display_data"
    },
    {
     "data": {
      "text/html": [
       "<pre>recommendations finished on 183000/271425 queries. users per second: 15663.8</pre>"
      ],
      "text/plain": [
       "recommendations finished on 183000/271425 queries. users per second: 15663.8"
      ]
     },
     "metadata": {},
     "output_type": "display_data"
    },
    {
     "data": {
      "text/html": [
       "<pre>recommendations finished on 184000/271425 queries. users per second: 15638.6</pre>"
      ],
      "text/plain": [
       "recommendations finished on 184000/271425 queries. users per second: 15638.6"
      ]
     },
     "metadata": {},
     "output_type": "display_data"
    },
    {
     "data": {
      "text/html": [
       "<pre>recommendations finished on 185000/271425 queries. users per second: 15604.5</pre>"
      ],
      "text/plain": [
       "recommendations finished on 185000/271425 queries. users per second: 15604.5"
      ]
     },
     "metadata": {},
     "output_type": "display_data"
    },
    {
     "data": {
      "text/html": [
       "<pre>recommendations finished on 186000/271425 queries. users per second: 15584</pre>"
      ],
      "text/plain": [
       "recommendations finished on 186000/271425 queries. users per second: 15584"
      ]
     },
     "metadata": {},
     "output_type": "display_data"
    },
    {
     "data": {
      "text/html": [
       "<pre>recommendations finished on 187000/271425 queries. users per second: 15595.5</pre>"
      ],
      "text/plain": [
       "recommendations finished on 187000/271425 queries. users per second: 15595.5"
      ]
     },
     "metadata": {},
     "output_type": "display_data"
    },
    {
     "data": {
      "text/html": [
       "<pre>recommendations finished on 188000/271425 queries. users per second: 15607.1</pre>"
      ],
      "text/plain": [
       "recommendations finished on 188000/271425 queries. users per second: 15607.1"
      ]
     },
     "metadata": {},
     "output_type": "display_data"
    },
    {
     "data": {
      "text/html": [
       "<pre>recommendations finished on 189000/271425 queries. users per second: 15607.6</pre>"
      ],
      "text/plain": [
       "recommendations finished on 189000/271425 queries. users per second: 15607.6"
      ]
     },
     "metadata": {},
     "output_type": "display_data"
    },
    {
     "data": {
      "text/html": [
       "<pre>recommendations finished on 190000/271425 queries. users per second: 15630.1</pre>"
      ],
      "text/plain": [
       "recommendations finished on 190000/271425 queries. users per second: 15630.1"
      ]
     },
     "metadata": {},
     "output_type": "display_data"
    },
    {
     "data": {
      "text/html": [
       "<pre>recommendations finished on 191000/271425 queries. users per second: 15637.2</pre>"
      ],
      "text/plain": [
       "recommendations finished on 191000/271425 queries. users per second: 15637.2"
      ]
     },
     "metadata": {},
     "output_type": "display_data"
    },
    {
     "data": {
      "text/html": [
       "<pre>recommendations finished on 192000/271425 queries. users per second: 15659.9</pre>"
      ],
      "text/plain": [
       "recommendations finished on 192000/271425 queries. users per second: 15659.9"
      ]
     },
     "metadata": {},
     "output_type": "display_data"
    },
    {
     "data": {
      "text/html": [
       "<pre>recommendations finished on 193000/271425 queries. users per second: 15685.5</pre>"
      ],
      "text/plain": [
       "recommendations finished on 193000/271425 queries. users per second: 15685.5"
      ]
     },
     "metadata": {},
     "output_type": "display_data"
    },
    {
     "data": {
      "text/html": [
       "<pre>recommendations finished on 194000/271425 queries. users per second: 15696.6</pre>"
      ],
      "text/plain": [
       "recommendations finished on 194000/271425 queries. users per second: 15696.6"
      ]
     },
     "metadata": {},
     "output_type": "display_data"
    },
    {
     "data": {
      "text/html": [
       "<pre>recommendations finished on 195000/271425 queries. users per second: 15721.4</pre>"
      ],
      "text/plain": [
       "recommendations finished on 195000/271425 queries. users per second: 15721.4"
      ]
     },
     "metadata": {},
     "output_type": "display_data"
    },
    {
     "data": {
      "text/html": [
       "<pre>recommendations finished on 196000/271425 queries. users per second: 15738.2</pre>"
      ],
      "text/plain": [
       "recommendations finished on 196000/271425 queries. users per second: 15738.2"
      ]
     },
     "metadata": {},
     "output_type": "display_data"
    },
    {
     "data": {
      "text/html": [
       "<pre>recommendations finished on 197000/271425 queries. users per second: 15769.7</pre>"
      ],
      "text/plain": [
       "recommendations finished on 197000/271425 queries. users per second: 15769.7"
      ]
     },
     "metadata": {},
     "output_type": "display_data"
    },
    {
     "data": {
      "text/html": [
       "<pre>recommendations finished on 198000/271425 queries. users per second: 15797</pre>"
      ],
      "text/plain": [
       "recommendations finished on 198000/271425 queries. users per second: 15797"
      ]
     },
     "metadata": {},
     "output_type": "display_data"
    },
    {
     "data": {
      "text/html": [
       "<pre>recommendations finished on 199000/271425 queries. users per second: 15819.5</pre>"
      ],
      "text/plain": [
       "recommendations finished on 199000/271425 queries. users per second: 15819.5"
      ]
     },
     "metadata": {},
     "output_type": "display_data"
    },
    {
     "data": {
      "text/html": [
       "<pre>recommendations finished on 200000/271425 queries. users per second: 15833.4</pre>"
      ],
      "text/plain": [
       "recommendations finished on 200000/271425 queries. users per second: 15833.4"
      ]
     },
     "metadata": {},
     "output_type": "display_data"
    },
    {
     "data": {
      "text/html": [
       "<pre>recommendations finished on 201000/271425 queries. users per second: 15839.6</pre>"
      ],
      "text/plain": [
       "recommendations finished on 201000/271425 queries. users per second: 15839.6"
      ]
     },
     "metadata": {},
     "output_type": "display_data"
    },
    {
     "data": {
      "text/html": [
       "<pre>recommendations finished on 202000/271425 queries. users per second: 15860.3</pre>"
      ],
      "text/plain": [
       "recommendations finished on 202000/271425 queries. users per second: 15860.3"
      ]
     },
     "metadata": {},
     "output_type": "display_data"
    },
    {
     "data": {
      "text/html": [
       "<pre>recommendations finished on 203000/271425 queries. users per second: 15882.4</pre>"
      ],
      "text/plain": [
       "recommendations finished on 203000/271425 queries. users per second: 15882.4"
      ]
     },
     "metadata": {},
     "output_type": "display_data"
    },
    {
     "data": {
      "text/html": [
       "<pre>recommendations finished on 204000/271425 queries. users per second: 15889.9</pre>"
      ],
      "text/plain": [
       "recommendations finished on 204000/271425 queries. users per second: 15889.9"
      ]
     },
     "metadata": {},
     "output_type": "display_data"
    },
    {
     "data": {
      "text/html": [
       "<pre>recommendations finished on 205000/271425 queries. users per second: 15908.2</pre>"
      ],
      "text/plain": [
       "recommendations finished on 205000/271425 queries. users per second: 15908.2"
      ]
     },
     "metadata": {},
     "output_type": "display_data"
    },
    {
     "data": {
      "text/html": [
       "<pre>recommendations finished on 206000/271425 queries. users per second: 15916.5</pre>"
      ],
      "text/plain": [
       "recommendations finished on 206000/271425 queries. users per second: 15916.5"
      ]
     },
     "metadata": {},
     "output_type": "display_data"
    },
    {
     "data": {
      "text/html": [
       "<pre>recommendations finished on 207000/271425 queries. users per second: 15911</pre>"
      ],
      "text/plain": [
       "recommendations finished on 207000/271425 queries. users per second: 15911"
      ]
     },
     "metadata": {},
     "output_type": "display_data"
    },
    {
     "data": {
      "text/html": [
       "<pre>recommendations finished on 208000/271425 queries. users per second: 15900.2</pre>"
      ],
      "text/plain": [
       "recommendations finished on 208000/271425 queries. users per second: 15900.2"
      ]
     },
     "metadata": {},
     "output_type": "display_data"
    },
    {
     "data": {
      "text/html": [
       "<pre>recommendations finished on 209000/271425 queries. users per second: 15892</pre>"
      ],
      "text/plain": [
       "recommendations finished on 209000/271425 queries. users per second: 15892"
      ]
     },
     "metadata": {},
     "output_type": "display_data"
    },
    {
     "data": {
      "text/html": [
       "<pre>recommendations finished on 210000/271425 queries. users per second: 15865.2</pre>"
      ],
      "text/plain": [
       "recommendations finished on 210000/271425 queries. users per second: 15865.2"
      ]
     },
     "metadata": {},
     "output_type": "display_data"
    },
    {
     "data": {
      "text/html": [
       "<pre>recommendations finished on 211000/271425 queries. users per second: 15848.6</pre>"
      ],
      "text/plain": [
       "recommendations finished on 211000/271425 queries. users per second: 15848.6"
      ]
     },
     "metadata": {},
     "output_type": "display_data"
    },
    {
     "data": {
      "text/html": [
       "<pre>recommendations finished on 212000/271425 queries. users per second: 15811.7</pre>"
      ],
      "text/plain": [
       "recommendations finished on 212000/271425 queries. users per second: 15811.7"
      ]
     },
     "metadata": {},
     "output_type": "display_data"
    },
    {
     "data": {
      "text/html": [
       "<pre>recommendations finished on 213000/271425 queries. users per second: 15810.9</pre>"
      ],
      "text/plain": [
       "recommendations finished on 213000/271425 queries. users per second: 15810.9"
      ]
     },
     "metadata": {},
     "output_type": "display_data"
    },
    {
     "data": {
      "text/html": [
       "<pre>recommendations finished on 214000/271425 queries. users per second: 15837.7</pre>"
      ],
      "text/plain": [
       "recommendations finished on 214000/271425 queries. users per second: 15837.7"
      ]
     },
     "metadata": {},
     "output_type": "display_data"
    },
    {
     "data": {
      "text/html": [
       "<pre>recommendations finished on 215000/271425 queries. users per second: 15846.7</pre>"
      ],
      "text/plain": [
       "recommendations finished on 215000/271425 queries. users per second: 15846.7"
      ]
     },
     "metadata": {},
     "output_type": "display_data"
    },
    {
     "data": {
      "text/html": [
       "<pre>recommendations finished on 216000/271425 queries. users per second: 15867.5</pre>"
      ],
      "text/plain": [
       "recommendations finished on 216000/271425 queries. users per second: 15867.5"
      ]
     },
     "metadata": {},
     "output_type": "display_data"
    },
    {
     "data": {
      "text/html": [
       "<pre>recommendations finished on 217000/271425 queries. users per second: 15844.5</pre>"
      ],
      "text/plain": [
       "recommendations finished on 217000/271425 queries. users per second: 15844.5"
      ]
     },
     "metadata": {},
     "output_type": "display_data"
    },
    {
     "data": {
      "text/html": [
       "<pre>recommendations finished on 218000/271425 queries. users per second: 15800.8</pre>"
      ],
      "text/plain": [
       "recommendations finished on 218000/271425 queries. users per second: 15800.8"
      ]
     },
     "metadata": {},
     "output_type": "display_data"
    },
    {
     "data": {
      "text/html": [
       "<pre>recommendations finished on 219000/271425 queries. users per second: 15752.1</pre>"
      ],
      "text/plain": [
       "recommendations finished on 219000/271425 queries. users per second: 15752.1"
      ]
     },
     "metadata": {},
     "output_type": "display_data"
    },
    {
     "data": {
      "text/html": [
       "<pre>recommendations finished on 220000/271425 queries. users per second: 15631.6</pre>"
      ],
      "text/plain": [
       "recommendations finished on 220000/271425 queries. users per second: 15631.6"
      ]
     },
     "metadata": {},
     "output_type": "display_data"
    },
    {
     "data": {
      "text/html": [
       "<pre>recommendations finished on 221000/271425 queries. users per second: 15548.9</pre>"
      ],
      "text/plain": [
       "recommendations finished on 221000/271425 queries. users per second: 15548.9"
      ]
     },
     "metadata": {},
     "output_type": "display_data"
    },
    {
     "data": {
      "text/html": [
       "<pre>recommendations finished on 222000/271425 queries. users per second: 15538.5</pre>"
      ],
      "text/plain": [
       "recommendations finished on 222000/271425 queries. users per second: 15538.5"
      ]
     },
     "metadata": {},
     "output_type": "display_data"
    },
    {
     "data": {
      "text/html": [
       "<pre>recommendations finished on 223000/271425 queries. users per second: 15549.2</pre>"
      ],
      "text/plain": [
       "recommendations finished on 223000/271425 queries. users per second: 15549.2"
      ]
     },
     "metadata": {},
     "output_type": "display_data"
    },
    {
     "data": {
      "text/html": [
       "<pre>recommendations finished on 224000/271425 queries. users per second: 15552.1</pre>"
      ],
      "text/plain": [
       "recommendations finished on 224000/271425 queries. users per second: 15552.1"
      ]
     },
     "metadata": {},
     "output_type": "display_data"
    },
    {
     "data": {
      "text/html": [
       "<pre>recommendations finished on 225000/271425 queries. users per second: 15572</pre>"
      ],
      "text/plain": [
       "recommendations finished on 225000/271425 queries. users per second: 15572"
      ]
     },
     "metadata": {},
     "output_type": "display_data"
    },
    {
     "data": {
      "text/html": [
       "<pre>recommendations finished on 226000/271425 queries. users per second: 15578.3</pre>"
      ],
      "text/plain": [
       "recommendations finished on 226000/271425 queries. users per second: 15578.3"
      ]
     },
     "metadata": {},
     "output_type": "display_data"
    },
    {
     "data": {
      "text/html": [
       "<pre>recommendations finished on 227000/271425 queries. users per second: 15591.1</pre>"
      ],
      "text/plain": [
       "recommendations finished on 227000/271425 queries. users per second: 15591.1"
      ]
     },
     "metadata": {},
     "output_type": "display_data"
    },
    {
     "data": {
      "text/html": [
       "<pre>recommendations finished on 228000/271425 queries. users per second: 15581.2</pre>"
      ],
      "text/plain": [
       "recommendations finished on 228000/271425 queries. users per second: 15581.2"
      ]
     },
     "metadata": {},
     "output_type": "display_data"
    },
    {
     "data": {
      "text/html": [
       "<pre>recommendations finished on 229000/271425 queries. users per second: 15587.5</pre>"
      ],
      "text/plain": [
       "recommendations finished on 229000/271425 queries. users per second: 15587.5"
      ]
     },
     "metadata": {},
     "output_type": "display_data"
    },
    {
     "data": {
      "text/html": [
       "<pre>recommendations finished on 230000/271425 queries. users per second: 15600.8</pre>"
      ],
      "text/plain": [
       "recommendations finished on 230000/271425 queries. users per second: 15600.8"
      ]
     },
     "metadata": {},
     "output_type": "display_data"
    },
    {
     "data": {
      "text/html": [
       "<pre>recommendations finished on 231000/271425 queries. users per second: 15579.7</pre>"
      ],
      "text/plain": [
       "recommendations finished on 231000/271425 queries. users per second: 15579.7"
      ]
     },
     "metadata": {},
     "output_type": "display_data"
    },
    {
     "data": {
      "text/html": [
       "<pre>recommendations finished on 232000/271425 queries. users per second: 15570.8</pre>"
      ],
      "text/plain": [
       "recommendations finished on 232000/271425 queries. users per second: 15570.8"
      ]
     },
     "metadata": {},
     "output_type": "display_data"
    },
    {
     "data": {
      "text/html": [
       "<pre>recommendations finished on 233000/271425 queries. users per second: 15544</pre>"
      ],
      "text/plain": [
       "recommendations finished on 233000/271425 queries. users per second: 15544"
      ]
     },
     "metadata": {},
     "output_type": "display_data"
    },
    {
     "data": {
      "text/html": [
       "<pre>recommendations finished on 234000/271425 queries. users per second: 15532.7</pre>"
      ],
      "text/plain": [
       "recommendations finished on 234000/271425 queries. users per second: 15532.7"
      ]
     },
     "metadata": {},
     "output_type": "display_data"
    },
    {
     "data": {
      "text/html": [
       "<pre>recommendations finished on 235000/271425 queries. users per second: 15491.9</pre>"
      ],
      "text/plain": [
       "recommendations finished on 235000/271425 queries. users per second: 15491.9"
      ]
     },
     "metadata": {},
     "output_type": "display_data"
    },
    {
     "data": {
      "text/html": [
       "<pre>recommendations finished on 236000/271425 queries. users per second: 15469.3</pre>"
      ],
      "text/plain": [
       "recommendations finished on 236000/271425 queries. users per second: 15469.3"
      ]
     },
     "metadata": {},
     "output_type": "display_data"
    },
    {
     "data": {
      "text/html": [
       "<pre>recommendations finished on 237000/271425 queries. users per second: 15474.7</pre>"
      ],
      "text/plain": [
       "recommendations finished on 237000/271425 queries. users per second: 15474.7"
      ]
     },
     "metadata": {},
     "output_type": "display_data"
    },
    {
     "data": {
      "text/html": [
       "<pre>recommendations finished on 238000/271425 queries. users per second: 15472.8</pre>"
      ],
      "text/plain": [
       "recommendations finished on 238000/271425 queries. users per second: 15472.8"
      ]
     },
     "metadata": {},
     "output_type": "display_data"
    },
    {
     "data": {
      "text/html": [
       "<pre>recommendations finished on 239000/271425 queries. users per second: 15459.2</pre>"
      ],
      "text/plain": [
       "recommendations finished on 239000/271425 queries. users per second: 15459.2"
      ]
     },
     "metadata": {},
     "output_type": "display_data"
    },
    {
     "data": {
      "text/html": [
       "<pre>recommendations finished on 240000/271425 queries. users per second: 15443.8</pre>"
      ],
      "text/plain": [
       "recommendations finished on 240000/271425 queries. users per second: 15443.8"
      ]
     },
     "metadata": {},
     "output_type": "display_data"
    },
    {
     "data": {
      "text/html": [
       "<pre>recommendations finished on 241000/271425 queries. users per second: 15448.1</pre>"
      ],
      "text/plain": [
       "recommendations finished on 241000/271425 queries. users per second: 15448.1"
      ]
     },
     "metadata": {},
     "output_type": "display_data"
    },
    {
     "data": {
      "text/html": [
       "<pre>recommendations finished on 242000/271425 queries. users per second: 15434.9</pre>"
      ],
      "text/plain": [
       "recommendations finished on 242000/271425 queries. users per second: 15434.9"
      ]
     },
     "metadata": {},
     "output_type": "display_data"
    },
    {
     "data": {
      "text/html": [
       "<pre>recommendations finished on 243000/271425 queries. users per second: 15446.5</pre>"
      ],
      "text/plain": [
       "recommendations finished on 243000/271425 queries. users per second: 15446.5"
      ]
     },
     "metadata": {},
     "output_type": "display_data"
    },
    {
     "data": {
      "text/html": [
       "<pre>recommendations finished on 244000/271425 queries. users per second: 15429.1</pre>"
      ],
      "text/plain": [
       "recommendations finished on 244000/271425 queries. users per second: 15429.1"
      ]
     },
     "metadata": {},
     "output_type": "display_data"
    },
    {
     "data": {
      "text/html": [
       "<pre>recommendations finished on 245000/271425 queries. users per second: 15392.8</pre>"
      ],
      "text/plain": [
       "recommendations finished on 245000/271425 queries. users per second: 15392.8"
      ]
     },
     "metadata": {},
     "output_type": "display_data"
    },
    {
     "data": {
      "text/html": [
       "<pre>recommendations finished on 246000/271425 queries. users per second: 15263.6</pre>"
      ],
      "text/plain": [
       "recommendations finished on 246000/271425 queries. users per second: 15263.6"
      ]
     },
     "metadata": {},
     "output_type": "display_data"
    },
    {
     "data": {
      "text/html": [
       "<pre>recommendations finished on 247000/271425 queries. users per second: 15200.1</pre>"
      ],
      "text/plain": [
       "recommendations finished on 247000/271425 queries. users per second: 15200.1"
      ]
     },
     "metadata": {},
     "output_type": "display_data"
    },
    {
     "data": {
      "text/html": [
       "<pre>recommendations finished on 248000/271425 queries. users per second: 15130.2</pre>"
      ],
      "text/plain": [
       "recommendations finished on 248000/271425 queries. users per second: 15130.2"
      ]
     },
     "metadata": {},
     "output_type": "display_data"
    },
    {
     "data": {
      "text/html": [
       "<pre>recommendations finished on 249000/271425 queries. users per second: 14956.6</pre>"
      ],
      "text/plain": [
       "recommendations finished on 249000/271425 queries. users per second: 14956.6"
      ]
     },
     "metadata": {},
     "output_type": "display_data"
    },
    {
     "data": {
      "text/html": [
       "<pre>recommendations finished on 250000/271425 queries. users per second: 14903.9</pre>"
      ],
      "text/plain": [
       "recommendations finished on 250000/271425 queries. users per second: 14903.9"
      ]
     },
     "metadata": {},
     "output_type": "display_data"
    },
    {
     "data": {
      "text/html": [
       "<pre>recommendations finished on 251000/271425 queries. users per second: 14830.3</pre>"
      ],
      "text/plain": [
       "recommendations finished on 251000/271425 queries. users per second: 14830.3"
      ]
     },
     "metadata": {},
     "output_type": "display_data"
    },
    {
     "data": {
      "text/html": [
       "<pre>recommendations finished on 252000/271425 queries. users per second: 14509.4</pre>"
      ],
      "text/plain": [
       "recommendations finished on 252000/271425 queries. users per second: 14509.4"
      ]
     },
     "metadata": {},
     "output_type": "display_data"
    },
    {
     "data": {
      "text/html": [
       "<pre>recommendations finished on 253000/271425 queries. users per second: 14310.5</pre>"
      ],
      "text/plain": [
       "recommendations finished on 253000/271425 queries. users per second: 14310.5"
      ]
     },
     "metadata": {},
     "output_type": "display_data"
    },
    {
     "data": {
      "text/html": [
       "<pre>recommendations finished on 254000/271425 queries. users per second: 14231.1</pre>"
      ],
      "text/plain": [
       "recommendations finished on 254000/271425 queries. users per second: 14231.1"
      ]
     },
     "metadata": {},
     "output_type": "display_data"
    },
    {
     "data": {
      "text/html": [
       "<pre>recommendations finished on 255000/271425 queries. users per second: 14198.2</pre>"
      ],
      "text/plain": [
       "recommendations finished on 255000/271425 queries. users per second: 14198.2"
      ]
     },
     "metadata": {},
     "output_type": "display_data"
    },
    {
     "data": {
      "text/html": [
       "<pre>recommendations finished on 256000/271425 queries. users per second: 14142.7</pre>"
      ],
      "text/plain": [
       "recommendations finished on 256000/271425 queries. users per second: 14142.7"
      ]
     },
     "metadata": {},
     "output_type": "display_data"
    },
    {
     "data": {
      "text/html": [
       "<pre>recommendations finished on 257000/271425 queries. users per second: 14097.8</pre>"
      ],
      "text/plain": [
       "recommendations finished on 257000/271425 queries. users per second: 14097.8"
      ]
     },
     "metadata": {},
     "output_type": "display_data"
    },
    {
     "data": {
      "text/html": [
       "<pre>recommendations finished on 258000/271425 queries. users per second: 14029.3</pre>"
      ],
      "text/plain": [
       "recommendations finished on 258000/271425 queries. users per second: 14029.3"
      ]
     },
     "metadata": {},
     "output_type": "display_data"
    },
    {
     "data": {
      "text/html": [
       "<pre>recommendations finished on 259000/271425 queries. users per second: 13951.6</pre>"
      ],
      "text/plain": [
       "recommendations finished on 259000/271425 queries. users per second: 13951.6"
      ]
     },
     "metadata": {},
     "output_type": "display_data"
    },
    {
     "data": {
      "text/html": [
       "<pre>recommendations finished on 260000/271425 queries. users per second: 13912.5</pre>"
      ],
      "text/plain": [
       "recommendations finished on 260000/271425 queries. users per second: 13912.5"
      ]
     },
     "metadata": {},
     "output_type": "display_data"
    },
    {
     "data": {
      "text/html": [
       "<pre>recommendations finished on 261000/271425 queries. users per second: 13878.1</pre>"
      ],
      "text/plain": [
       "recommendations finished on 261000/271425 queries. users per second: 13878.1"
      ]
     },
     "metadata": {},
     "output_type": "display_data"
    },
    {
     "data": {
      "text/html": [
       "<pre>recommendations finished on 262000/271425 queries. users per second: 13805.2</pre>"
      ],
      "text/plain": [
       "recommendations finished on 262000/271425 queries. users per second: 13805.2"
      ]
     },
     "metadata": {},
     "output_type": "display_data"
    },
    {
     "data": {
      "text/html": [
       "<pre>recommendations finished on 263000/271425 queries. users per second: 13780.9</pre>"
      ],
      "text/plain": [
       "recommendations finished on 263000/271425 queries. users per second: 13780.9"
      ]
     },
     "metadata": {},
     "output_type": "display_data"
    },
    {
     "data": {
      "text/html": [
       "<pre>recommendations finished on 264000/271425 queries. users per second: 13770.9</pre>"
      ],
      "text/plain": [
       "recommendations finished on 264000/271425 queries. users per second: 13770.9"
      ]
     },
     "metadata": {},
     "output_type": "display_data"
    },
    {
     "data": {
      "text/html": [
       "<pre>recommendations finished on 265000/271425 queries. users per second: 13685.9</pre>"
      ],
      "text/plain": [
       "recommendations finished on 265000/271425 queries. users per second: 13685.9"
      ]
     },
     "metadata": {},
     "output_type": "display_data"
    },
    {
     "data": {
      "text/html": [
       "<pre>recommendations finished on 266000/271425 queries. users per second: 13624.1</pre>"
      ],
      "text/plain": [
       "recommendations finished on 266000/271425 queries. users per second: 13624.1"
      ]
     },
     "metadata": {},
     "output_type": "display_data"
    },
    {
     "data": {
      "text/html": [
       "<pre>recommendations finished on 267000/271425 queries. users per second: 13600.6</pre>"
      ],
      "text/plain": [
       "recommendations finished on 267000/271425 queries. users per second: 13600.6"
      ]
     },
     "metadata": {},
     "output_type": "display_data"
    },
    {
     "data": {
      "text/html": [
       "<pre>recommendations finished on 268000/271425 queries. users per second: 13570.6</pre>"
      ],
      "text/plain": [
       "recommendations finished on 268000/271425 queries. users per second: 13570.6"
      ]
     },
     "metadata": {},
     "output_type": "display_data"
    },
    {
     "data": {
      "text/html": [
       "<pre>recommendations finished on 269000/271425 queries. users per second: 13529.7</pre>"
      ],
      "text/plain": [
       "recommendations finished on 269000/271425 queries. users per second: 13529.7"
      ]
     },
     "metadata": {},
     "output_type": "display_data"
    },
    {
     "data": {
      "text/html": [
       "<pre>recommendations finished on 270000/271425 queries. users per second: 12225.8</pre>"
      ],
      "text/plain": [
       "recommendations finished on 270000/271425 queries. users per second: 12225.8"
      ]
     },
     "metadata": {},
     "output_type": "display_data"
    },
    {
     "data": {
      "text/html": [
       "<pre>recommendations finished on 271000/271425 queries. users per second: 11186.8</pre>"
      ],
      "text/plain": [
       "recommendations finished on 271000/271425 queries. users per second: 11186.8"
      ]
     },
     "metadata": {},
     "output_type": "display_data"
    },
    {
     "name": "stdout",
     "output_type": "stream",
     "text": [
      "+------------+-----------+--------------------+------+\n",
      "| CustomerID | StockCode |       score        | rank |\n",
      "+------------+-----------+--------------------+------+\n",
      "|  12346.0   |   23551   | 11.02356505393982  |  1   |\n",
      "|  12346.0   |   90019B  | 8.314493417739868  |  2   |\n",
      "|  12346.0   |   23394   | 8.093233108520508  |  3   |\n",
      "|  12346.0   |   22220   | 7.0830771923065186 |  4   |\n",
      "|  12346.0   |   84743C  | 7.0300140380859375 |  5   |\n",
      "|  12346.0   |   22182   | 6.971914768218994  |  6   |\n",
      "|  12346.0   |   37461   | 6.7555259466171265 |  7   |\n",
      "|  12346.0   |   90034   | 6.7555259466171265 |  8   |\n",
      "|  12346.0   |   72802c  | 6.7555259466171265 |  9   |\n",
      "|  12346.0   |   23604   | 6.7555259466171265 |  10  |\n",
      "|  12347.0   |   21064   | 3.6291411474347113 |  1   |\n",
      "|  12347.0   |   90092   | 3.487178881466389  |  2   |\n",
      "|  12347.0   |   90065B  | 3.487178881466389  |  3   |\n",
      "|  12347.0   |   35015   | 3.487178881466389  |  4   |\n",
      "|  12347.0   |   90183c  | 3.487178881466389  |  5   |\n",
      "|  12347.0   |   20849   | 3.487178881466389  |  6   |\n",
      "|  12347.0   |   51014c  | 3.4631407827138903 |  7   |\n",
      "|  12347.0   |   16053   | 3.4631407827138903 |  8   |\n",
      "|  12347.0   |   35600A  | 3.4543342903256415 |  9   |\n",
      "|  12347.0   |   84251F  | 3.4543342903256415 |  10  |\n",
      "|  12347.0   |   21064   | 3.6291411474347113 |  1   |\n",
      "|  12347.0   |   90092   | 3.487178881466389  |  2   |\n",
      "|  12347.0   |   90065B  | 3.487178881466389  |  3   |\n",
      "|  12347.0   |   35015   | 3.487178881466389  |  4   |\n",
      "|  12347.0   |   90183c  | 3.487178881466389  |  5   |\n",
      "|  12347.0   |   20849   | 3.487178881466389  |  6   |\n",
      "|  12347.0   |   51014c  | 3.4631407827138903 |  7   |\n",
      "|  12347.0   |   16053   | 3.4631407827138903 |  8   |\n",
      "|  12347.0   |   35600A  | 3.4543342903256415 |  9   |\n",
      "|  12347.0   |   84251F  | 3.4543342903256415 |  10  |\n",
      "+------------+-----------+--------------------+------+\n",
      "[2714250 rows x 4 columns]\n",
      "\n"
     ]
    }
   ],
   "source": [
    "target = 'purchase_count'\n",
    "\n",
    "cos = model(train_data,\n",
    "            user_id, \n",
    "            item_id, target, \n",
    "            users_to_recommend, \n",
    "            n_rec, n_display)\n"
   ]
  },
  {
   "cell_type": "markdown",
   "metadata": {},
   "source": [
    "### model evaluation"
   ]
  },
  {
   "cell_type": "code",
   "execution_count": 19,
   "metadata": {},
   "outputs": [
    {
     "data": {
      "text/html": [
       "<pre>Preparing data set.</pre>"
      ],
      "text/plain": [
       "Preparing data set."
      ]
     },
     "metadata": {},
     "output_type": "display_data"
    },
    {
     "data": {
      "text/html": [
       "<pre>    Data has 271425 observations with 4373 users and 4070 items.</pre>"
      ],
      "text/plain": [
       "    Data has 271425 observations with 4373 users and 4070 items."
      ]
     },
     "metadata": {},
     "output_type": "display_data"
    },
    {
     "data": {
      "text/html": [
       "<pre>    Data prepared in: 0.582558s</pre>"
      ],
      "text/plain": [
       "    Data prepared in: 0.582558s"
      ]
     },
     "metadata": {},
     "output_type": "display_data"
    },
    {
     "data": {
      "text/html": [
       "<pre>Training model from provided data.</pre>"
      ],
      "text/plain": [
       "Training model from provided data."
      ]
     },
     "metadata": {},
     "output_type": "display_data"
    },
    {
     "data": {
      "text/html": [
       "<pre>Gathering per-item and per-user statistics.</pre>"
      ],
      "text/plain": [
       "Gathering per-item and per-user statistics."
      ]
     },
     "metadata": {},
     "output_type": "display_data"
    },
    {
     "data": {
      "text/html": [
       "<pre>+--------------------------------+------------+</pre>"
      ],
      "text/plain": [
       "+--------------------------------+------------+"
      ]
     },
     "metadata": {},
     "output_type": "display_data"
    },
    {
     "data": {
      "text/html": [
       "<pre>| Elapsed Time (Item Statistics) | % Complete |</pre>"
      ],
      "text/plain": [
       "| Elapsed Time (Item Statistics) | % Complete |"
      ]
     },
     "metadata": {},
     "output_type": "display_data"
    },
    {
     "data": {
      "text/html": [
       "<pre>+--------------------------------+------------+</pre>"
      ],
      "text/plain": [
       "+--------------------------------+------------+"
      ]
     },
     "metadata": {},
     "output_type": "display_data"
    },
    {
     "data": {
      "text/html": [
       "<pre>| 6.423ms                        | 22.75      |</pre>"
      ],
      "text/plain": [
       "| 6.423ms                        | 22.75      |"
      ]
     },
     "metadata": {},
     "output_type": "display_data"
    },
    {
     "data": {
      "text/html": [
       "<pre>| 27.051ms                       | 100        |</pre>"
      ],
      "text/plain": [
       "| 27.051ms                       | 100        |"
      ]
     },
     "metadata": {},
     "output_type": "display_data"
    },
    {
     "data": {
      "text/html": [
       "<pre>+--------------------------------+------------+</pre>"
      ],
      "text/plain": [
       "+--------------------------------+------------+"
      ]
     },
     "metadata": {},
     "output_type": "display_data"
    },
    {
     "data": {
      "text/html": [
       "<pre>Setting up lookup tables.</pre>"
      ],
      "text/plain": [
       "Setting up lookup tables."
      ]
     },
     "metadata": {},
     "output_type": "display_data"
    },
    {
     "data": {
      "text/html": [
       "<pre>Processing data in one pass using dense lookup tables.</pre>"
      ],
      "text/plain": [
       "Processing data in one pass using dense lookup tables."
      ]
     },
     "metadata": {},
     "output_type": "display_data"
    },
    {
     "data": {
      "text/html": [
       "<pre>+-------------------------------------+------------------+-----------------+</pre>"
      ],
      "text/plain": [
       "+-------------------------------------+------------------+-----------------+"
      ]
     },
     "metadata": {},
     "output_type": "display_data"
    },
    {
     "data": {
      "text/html": [
       "<pre>| Elapsed Time (Constructing Lookups) | Total % Complete | Items Processed |</pre>"
      ],
      "text/plain": [
       "| Elapsed Time (Constructing Lookups) | Total % Complete | Items Processed |"
      ]
     },
     "metadata": {},
     "output_type": "display_data"
    },
    {
     "data": {
      "text/html": [
       "<pre>+-------------------------------------+------------------+-----------------+</pre>"
      ],
      "text/plain": [
       "+-------------------------------------+------------------+-----------------+"
      ]
     },
     "metadata": {},
     "output_type": "display_data"
    },
    {
     "data": {
      "text/html": [
       "<pre>| 84.252ms                            | 0                | 0               |</pre>"
      ],
      "text/plain": [
       "| 84.252ms                            | 0                | 0               |"
      ]
     },
     "metadata": {},
     "output_type": "display_data"
    },
    {
     "data": {
      "text/html": [
       "<pre>| 844.797ms                           | 100              | 4070            |</pre>"
      ],
      "text/plain": [
       "| 844.797ms                           | 100              | 4070            |"
      ]
     },
     "metadata": {},
     "output_type": "display_data"
    },
    {
     "data": {
      "text/html": [
       "<pre>+-------------------------------------+------------------+-----------------+</pre>"
      ],
      "text/plain": [
       "+-------------------------------------+------------------+-----------------+"
      ]
     },
     "metadata": {},
     "output_type": "display_data"
    },
    {
     "data": {
      "text/html": [
       "<pre>Finalizing lookup tables.</pre>"
      ],
      "text/plain": [
       "Finalizing lookup tables."
      ]
     },
     "metadata": {},
     "output_type": "display_data"
    },
    {
     "data": {
      "text/html": [
       "<pre>Generating candidate set for working with new users.</pre>"
      ],
      "text/plain": [
       "Generating candidate set for working with new users."
      ]
     },
     "metadata": {},
     "output_type": "display_data"
    },
    {
     "data": {
      "text/html": [
       "<pre>Finished training in 0.880487s</pre>"
      ],
      "text/plain": [
       "Finished training in 0.880487s"
      ]
     },
     "metadata": {},
     "output_type": "display_data"
    },
    {
     "data": {
      "text/html": [
       "<pre>recommendations finished on 1000/271425 queries. users per second: 26792.4</pre>"
      ],
      "text/plain": [
       "recommendations finished on 1000/271425 queries. users per second: 26792.4"
      ]
     },
     "metadata": {},
     "output_type": "display_data"
    },
    {
     "data": {
      "text/html": [
       "<pre>recommendations finished on 2000/271425 queries. users per second: 17198.1</pre>"
      ],
      "text/plain": [
       "recommendations finished on 2000/271425 queries. users per second: 17198.1"
      ]
     },
     "metadata": {},
     "output_type": "display_data"
    },
    {
     "data": {
      "text/html": [
       "<pre>recommendations finished on 3000/271425 queries. users per second: 13769</pre>"
      ],
      "text/plain": [
       "recommendations finished on 3000/271425 queries. users per second: 13769"
      ]
     },
     "metadata": {},
     "output_type": "display_data"
    },
    {
     "data": {
      "text/html": [
       "<pre>recommendations finished on 4000/271425 queries. users per second: 13265.1</pre>"
      ],
      "text/plain": [
       "recommendations finished on 4000/271425 queries. users per second: 13265.1"
      ]
     },
     "metadata": {},
     "output_type": "display_data"
    },
    {
     "data": {
      "text/html": [
       "<pre>recommendations finished on 5000/271425 queries. users per second: 13526.3</pre>"
      ],
      "text/plain": [
       "recommendations finished on 5000/271425 queries. users per second: 13526.3"
      ]
     },
     "metadata": {},
     "output_type": "display_data"
    },
    {
     "data": {
      "text/html": [
       "<pre>recommendations finished on 6000/271425 queries. users per second: 13772.5</pre>"
      ],
      "text/plain": [
       "recommendations finished on 6000/271425 queries. users per second: 13772.5"
      ]
     },
     "metadata": {},
     "output_type": "display_data"
    },
    {
     "data": {
      "text/html": [
       "<pre>recommendations finished on 7000/271425 queries. users per second: 14095</pre>"
      ],
      "text/plain": [
       "recommendations finished on 7000/271425 queries. users per second: 14095"
      ]
     },
     "metadata": {},
     "output_type": "display_data"
    },
    {
     "data": {
      "text/html": [
       "<pre>recommendations finished on 8000/271425 queries. users per second: 14272.6</pre>"
      ],
      "text/plain": [
       "recommendations finished on 8000/271425 queries. users per second: 14272.6"
      ]
     },
     "metadata": {},
     "output_type": "display_data"
    },
    {
     "data": {
      "text/html": [
       "<pre>recommendations finished on 9000/271425 queries. users per second: 14425.2</pre>"
      ],
      "text/plain": [
       "recommendations finished on 9000/271425 queries. users per second: 14425.2"
      ]
     },
     "metadata": {},
     "output_type": "display_data"
    },
    {
     "data": {
      "text/html": [
       "<pre>recommendations finished on 10000/271425 queries. users per second: 14564.1</pre>"
      ],
      "text/plain": [
       "recommendations finished on 10000/271425 queries. users per second: 14564.1"
      ]
     },
     "metadata": {},
     "output_type": "display_data"
    },
    {
     "data": {
      "text/html": [
       "<pre>recommendations finished on 11000/271425 queries. users per second: 14096.6</pre>"
      ],
      "text/plain": [
       "recommendations finished on 11000/271425 queries. users per second: 14096.6"
      ]
     },
     "metadata": {},
     "output_type": "display_data"
    },
    {
     "data": {
      "text/html": [
       "<pre>recommendations finished on 12000/271425 queries. users per second: 13318.2</pre>"
      ],
      "text/plain": [
       "recommendations finished on 12000/271425 queries. users per second: 13318.2"
      ]
     },
     "metadata": {},
     "output_type": "display_data"
    },
    {
     "data": {
      "text/html": [
       "<pre>recommendations finished on 13000/271425 queries. users per second: 12909.6</pre>"
      ],
      "text/plain": [
       "recommendations finished on 13000/271425 queries. users per second: 12909.6"
      ]
     },
     "metadata": {},
     "output_type": "display_data"
    },
    {
     "data": {
      "text/html": [
       "<pre>recommendations finished on 14000/271425 queries. users per second: 13133.4</pre>"
      ],
      "text/plain": [
       "recommendations finished on 14000/271425 queries. users per second: 13133.4"
      ]
     },
     "metadata": {},
     "output_type": "display_data"
    },
    {
     "data": {
      "text/html": [
       "<pre>recommendations finished on 15000/271425 queries. users per second: 13286.9</pre>"
      ],
      "text/plain": [
       "recommendations finished on 15000/271425 queries. users per second: 13286.9"
      ]
     },
     "metadata": {},
     "output_type": "display_data"
    },
    {
     "data": {
      "text/html": [
       "<pre>recommendations finished on 16000/271425 queries. users per second: 13269.2</pre>"
      ],
      "text/plain": [
       "recommendations finished on 16000/271425 queries. users per second: 13269.2"
      ]
     },
     "metadata": {},
     "output_type": "display_data"
    },
    {
     "data": {
      "text/html": [
       "<pre>recommendations finished on 17000/271425 queries. users per second: 12952</pre>"
      ],
      "text/plain": [
       "recommendations finished on 17000/271425 queries. users per second: 12952"
      ]
     },
     "metadata": {},
     "output_type": "display_data"
    },
    {
     "data": {
      "text/html": [
       "<pre>recommendations finished on 18000/271425 queries. users per second: 12341.6</pre>"
      ],
      "text/plain": [
       "recommendations finished on 18000/271425 queries. users per second: 12341.6"
      ]
     },
     "metadata": {},
     "output_type": "display_data"
    },
    {
     "data": {
      "text/html": [
       "<pre>recommendations finished on 19000/271425 queries. users per second: 12411.9</pre>"
      ],
      "text/plain": [
       "recommendations finished on 19000/271425 queries. users per second: 12411.9"
      ]
     },
     "metadata": {},
     "output_type": "display_data"
    },
    {
     "data": {
      "text/html": [
       "<pre>recommendations finished on 20000/271425 queries. users per second: 12431.4</pre>"
      ],
      "text/plain": [
       "recommendations finished on 20000/271425 queries. users per second: 12431.4"
      ]
     },
     "metadata": {},
     "output_type": "display_data"
    },
    {
     "data": {
      "text/html": [
       "<pre>recommendations finished on 21000/271425 queries. users per second: 12530.4</pre>"
      ],
      "text/plain": [
       "recommendations finished on 21000/271425 queries. users per second: 12530.4"
      ]
     },
     "metadata": {},
     "output_type": "display_data"
    },
    {
     "data": {
      "text/html": [
       "<pre>recommendations finished on 22000/271425 queries. users per second: 12525.3</pre>"
      ],
      "text/plain": [
       "recommendations finished on 22000/271425 queries. users per second: 12525.3"
      ]
     },
     "metadata": {},
     "output_type": "display_data"
    },
    {
     "data": {
      "text/html": [
       "<pre>recommendations finished on 23000/271425 queries. users per second: 12589.8</pre>"
      ],
      "text/plain": [
       "recommendations finished on 23000/271425 queries. users per second: 12589.8"
      ]
     },
     "metadata": {},
     "output_type": "display_data"
    },
    {
     "data": {
      "text/html": [
       "<pre>recommendations finished on 24000/271425 queries. users per second: 12205.4</pre>"
      ],
      "text/plain": [
       "recommendations finished on 24000/271425 queries. users per second: 12205.4"
      ]
     },
     "metadata": {},
     "output_type": "display_data"
    },
    {
     "data": {
      "text/html": [
       "<pre>recommendations finished on 25000/271425 queries. users per second: 12046.1</pre>"
      ],
      "text/plain": [
       "recommendations finished on 25000/271425 queries. users per second: 12046.1"
      ]
     },
     "metadata": {},
     "output_type": "display_data"
    },
    {
     "data": {
      "text/html": [
       "<pre>recommendations finished on 26000/271425 queries. users per second: 11910.8</pre>"
      ],
      "text/plain": [
       "recommendations finished on 26000/271425 queries. users per second: 11910.8"
      ]
     },
     "metadata": {},
     "output_type": "display_data"
    },
    {
     "data": {
      "text/html": [
       "<pre>recommendations finished on 27000/271425 queries. users per second: 11825.5</pre>"
      ],
      "text/plain": [
       "recommendations finished on 27000/271425 queries. users per second: 11825.5"
      ]
     },
     "metadata": {},
     "output_type": "display_data"
    },
    {
     "data": {
      "text/html": [
       "<pre>recommendations finished on 28000/271425 queries. users per second: 11966.3</pre>"
      ],
      "text/plain": [
       "recommendations finished on 28000/271425 queries. users per second: 11966.3"
      ]
     },
     "metadata": {},
     "output_type": "display_data"
    },
    {
     "data": {
      "text/html": [
       "<pre>recommendations finished on 29000/271425 queries. users per second: 12048.5</pre>"
      ],
      "text/plain": [
       "recommendations finished on 29000/271425 queries. users per second: 12048.5"
      ]
     },
     "metadata": {},
     "output_type": "display_data"
    },
    {
     "data": {
      "text/html": [
       "<pre>recommendations finished on 30000/271425 queries. users per second: 12093</pre>"
      ],
      "text/plain": [
       "recommendations finished on 30000/271425 queries. users per second: 12093"
      ]
     },
     "metadata": {},
     "output_type": "display_data"
    },
    {
     "data": {
      "text/html": [
       "<pre>recommendations finished on 31000/271425 queries. users per second: 12033.1</pre>"
      ],
      "text/plain": [
       "recommendations finished on 31000/271425 queries. users per second: 12033.1"
      ]
     },
     "metadata": {},
     "output_type": "display_data"
    },
    {
     "data": {
      "text/html": [
       "<pre>recommendations finished on 32000/271425 queries. users per second: 11688.2</pre>"
      ],
      "text/plain": [
       "recommendations finished on 32000/271425 queries. users per second: 11688.2"
      ]
     },
     "metadata": {},
     "output_type": "display_data"
    },
    {
     "data": {
      "text/html": [
       "<pre>recommendations finished on 33000/271425 queries. users per second: 11748.2</pre>"
      ],
      "text/plain": [
       "recommendations finished on 33000/271425 queries. users per second: 11748.2"
      ]
     },
     "metadata": {},
     "output_type": "display_data"
    },
    {
     "data": {
      "text/html": [
       "<pre>recommendations finished on 34000/271425 queries. users per second: 11895.2</pre>"
      ],
      "text/plain": [
       "recommendations finished on 34000/271425 queries. users per second: 11895.2"
      ]
     },
     "metadata": {},
     "output_type": "display_data"
    },
    {
     "data": {
      "text/html": [
       "<pre>recommendations finished on 35000/271425 queries. users per second: 11964.2</pre>"
      ],
      "text/plain": [
       "recommendations finished on 35000/271425 queries. users per second: 11964.2"
      ]
     },
     "metadata": {},
     "output_type": "display_data"
    },
    {
     "data": {
      "text/html": [
       "<pre>recommendations finished on 36000/271425 queries. users per second: 12033.3</pre>"
      ],
      "text/plain": [
       "recommendations finished on 36000/271425 queries. users per second: 12033.3"
      ]
     },
     "metadata": {},
     "output_type": "display_data"
    },
    {
     "data": {
      "text/html": [
       "<pre>recommendations finished on 37000/271425 queries. users per second: 12068.4</pre>"
      ],
      "text/plain": [
       "recommendations finished on 37000/271425 queries. users per second: 12068.4"
      ]
     },
     "metadata": {},
     "output_type": "display_data"
    },
    {
     "data": {
      "text/html": [
       "<pre>recommendations finished on 38000/271425 queries. users per second: 11597</pre>"
      ],
      "text/plain": [
       "recommendations finished on 38000/271425 queries. users per second: 11597"
      ]
     },
     "metadata": {},
     "output_type": "display_data"
    },
    {
     "data": {
      "text/html": [
       "<pre>recommendations finished on 39000/271425 queries. users per second: 11596.9</pre>"
      ],
      "text/plain": [
       "recommendations finished on 39000/271425 queries. users per second: 11596.9"
      ]
     },
     "metadata": {},
     "output_type": "display_data"
    },
    {
     "data": {
      "text/html": [
       "<pre>recommendations finished on 40000/271425 queries. users per second: 11658.6</pre>"
      ],
      "text/plain": [
       "recommendations finished on 40000/271425 queries. users per second: 11658.6"
      ]
     },
     "metadata": {},
     "output_type": "display_data"
    },
    {
     "data": {
      "text/html": [
       "<pre>recommendations finished on 41000/271425 queries. users per second: 11717</pre>"
      ],
      "text/plain": [
       "recommendations finished on 41000/271425 queries. users per second: 11717"
      ]
     },
     "metadata": {},
     "output_type": "display_data"
    },
    {
     "data": {
      "text/html": [
       "<pre>recommendations finished on 42000/271425 queries. users per second: 11731.4</pre>"
      ],
      "text/plain": [
       "recommendations finished on 42000/271425 queries. users per second: 11731.4"
      ]
     },
     "metadata": {},
     "output_type": "display_data"
    },
    {
     "data": {
      "text/html": [
       "<pre>recommendations finished on 43000/271425 queries. users per second: 11781.8</pre>"
      ],
      "text/plain": [
       "recommendations finished on 43000/271425 queries. users per second: 11781.8"
      ]
     },
     "metadata": {},
     "output_type": "display_data"
    },
    {
     "data": {
      "text/html": [
       "<pre>recommendations finished on 44000/271425 queries. users per second: 11873.9</pre>"
      ],
      "text/plain": [
       "recommendations finished on 44000/271425 queries. users per second: 11873.9"
      ]
     },
     "metadata": {},
     "output_type": "display_data"
    },
    {
     "data": {
      "text/html": [
       "<pre>recommendations finished on 45000/271425 queries. users per second: 11948.6</pre>"
      ],
      "text/plain": [
       "recommendations finished on 45000/271425 queries. users per second: 11948.6"
      ]
     },
     "metadata": {},
     "output_type": "display_data"
    },
    {
     "data": {
      "text/html": [
       "<pre>recommendations finished on 46000/271425 queries. users per second: 11922.4</pre>"
      ],
      "text/plain": [
       "recommendations finished on 46000/271425 queries. users per second: 11922.4"
      ]
     },
     "metadata": {},
     "output_type": "display_data"
    },
    {
     "data": {
      "text/html": [
       "<pre>recommendations finished on 47000/271425 queries. users per second: 11950.8</pre>"
      ],
      "text/plain": [
       "recommendations finished on 47000/271425 queries. users per second: 11950.8"
      ]
     },
     "metadata": {},
     "output_type": "display_data"
    },
    {
     "data": {
      "text/html": [
       "<pre>recommendations finished on 48000/271425 queries. users per second: 11994.8</pre>"
      ],
      "text/plain": [
       "recommendations finished on 48000/271425 queries. users per second: 11994.8"
      ]
     },
     "metadata": {},
     "output_type": "display_data"
    },
    {
     "data": {
      "text/html": [
       "<pre>recommendations finished on 49000/271425 queries. users per second: 12002.9</pre>"
      ],
      "text/plain": [
       "recommendations finished on 49000/271425 queries. users per second: 12002.9"
      ]
     },
     "metadata": {},
     "output_type": "display_data"
    },
    {
     "data": {
      "text/html": [
       "<pre>recommendations finished on 50000/271425 queries. users per second: 12082.2</pre>"
      ],
      "text/plain": [
       "recommendations finished on 50000/271425 queries. users per second: 12082.2"
      ]
     },
     "metadata": {},
     "output_type": "display_data"
    },
    {
     "data": {
      "text/html": [
       "<pre>recommendations finished on 51000/271425 queries. users per second: 12015.6</pre>"
      ],
      "text/plain": [
       "recommendations finished on 51000/271425 queries. users per second: 12015.6"
      ]
     },
     "metadata": {},
     "output_type": "display_data"
    },
    {
     "data": {
      "text/html": [
       "<pre>recommendations finished on 52000/271425 queries. users per second: 12026.6</pre>"
      ],
      "text/plain": [
       "recommendations finished on 52000/271425 queries. users per second: 12026.6"
      ]
     },
     "metadata": {},
     "output_type": "display_data"
    },
    {
     "data": {
      "text/html": [
       "<pre>recommendations finished on 53000/271425 queries. users per second: 12049</pre>"
      ],
      "text/plain": [
       "recommendations finished on 53000/271425 queries. users per second: 12049"
      ]
     },
     "metadata": {},
     "output_type": "display_data"
    },
    {
     "data": {
      "text/html": [
       "<pre>recommendations finished on 54000/271425 queries. users per second: 12157.8</pre>"
      ],
      "text/plain": [
       "recommendations finished on 54000/271425 queries. users per second: 12157.8"
      ]
     },
     "metadata": {},
     "output_type": "display_data"
    },
    {
     "data": {
      "text/html": [
       "<pre>recommendations finished on 55000/271425 queries. users per second: 12238.2</pre>"
      ],
      "text/plain": [
       "recommendations finished on 55000/271425 queries. users per second: 12238.2"
      ]
     },
     "metadata": {},
     "output_type": "display_data"
    },
    {
     "data": {
      "text/html": [
       "<pre>recommendations finished on 56000/271425 queries. users per second: 12291.6</pre>"
      ],
      "text/plain": [
       "recommendations finished on 56000/271425 queries. users per second: 12291.6"
      ]
     },
     "metadata": {},
     "output_type": "display_data"
    },
    {
     "data": {
      "text/html": [
       "<pre>recommendations finished on 57000/271425 queries. users per second: 12358.7</pre>"
      ],
      "text/plain": [
       "recommendations finished on 57000/271425 queries. users per second: 12358.7"
      ]
     },
     "metadata": {},
     "output_type": "display_data"
    },
    {
     "data": {
      "text/html": [
       "<pre>recommendations finished on 58000/271425 queries. users per second: 12411.4</pre>"
      ],
      "text/plain": [
       "recommendations finished on 58000/271425 queries. users per second: 12411.4"
      ]
     },
     "metadata": {},
     "output_type": "display_data"
    },
    {
     "data": {
      "text/html": [
       "<pre>recommendations finished on 59000/271425 queries. users per second: 12457.9</pre>"
      ],
      "text/plain": [
       "recommendations finished on 59000/271425 queries. users per second: 12457.9"
      ]
     },
     "metadata": {},
     "output_type": "display_data"
    },
    {
     "data": {
      "text/html": [
       "<pre>recommendations finished on 60000/271425 queries. users per second: 12480.2</pre>"
      ],
      "text/plain": [
       "recommendations finished on 60000/271425 queries. users per second: 12480.2"
      ]
     },
     "metadata": {},
     "output_type": "display_data"
    },
    {
     "data": {
      "text/html": [
       "<pre>recommendations finished on 61000/271425 queries. users per second: 12524</pre>"
      ],
      "text/plain": [
       "recommendations finished on 61000/271425 queries. users per second: 12524"
      ]
     },
     "metadata": {},
     "output_type": "display_data"
    },
    {
     "data": {
      "text/html": [
       "<pre>recommendations finished on 62000/271425 queries. users per second: 12569.8</pre>"
      ],
      "text/plain": [
       "recommendations finished on 62000/271425 queries. users per second: 12569.8"
      ]
     },
     "metadata": {},
     "output_type": "display_data"
    },
    {
     "data": {
      "text/html": [
       "<pre>recommendations finished on 63000/271425 queries. users per second: 12616.2</pre>"
      ],
      "text/plain": [
       "recommendations finished on 63000/271425 queries. users per second: 12616.2"
      ]
     },
     "metadata": {},
     "output_type": "display_data"
    },
    {
     "data": {
      "text/html": [
       "<pre>recommendations finished on 64000/271425 queries. users per second: 12628.7</pre>"
      ],
      "text/plain": [
       "recommendations finished on 64000/271425 queries. users per second: 12628.7"
      ]
     },
     "metadata": {},
     "output_type": "display_data"
    },
    {
     "data": {
      "text/html": [
       "<pre>recommendations finished on 65000/271425 queries. users per second: 12648.7</pre>"
      ],
      "text/plain": [
       "recommendations finished on 65000/271425 queries. users per second: 12648.7"
      ]
     },
     "metadata": {},
     "output_type": "display_data"
    },
    {
     "data": {
      "text/html": [
       "<pre>recommendations finished on 66000/271425 queries. users per second: 12676.7</pre>"
      ],
      "text/plain": [
       "recommendations finished on 66000/271425 queries. users per second: 12676.7"
      ]
     },
     "metadata": {},
     "output_type": "display_data"
    },
    {
     "data": {
      "text/html": [
       "<pre>recommendations finished on 67000/271425 queries. users per second: 12720.1</pre>"
      ],
      "text/plain": [
       "recommendations finished on 67000/271425 queries. users per second: 12720.1"
      ]
     },
     "metadata": {},
     "output_type": "display_data"
    },
    {
     "data": {
      "text/html": [
       "<pre>recommendations finished on 68000/271425 queries. users per second: 12766</pre>"
      ],
      "text/plain": [
       "recommendations finished on 68000/271425 queries. users per second: 12766"
      ]
     },
     "metadata": {},
     "output_type": "display_data"
    },
    {
     "data": {
      "text/html": [
       "<pre>recommendations finished on 69000/271425 queries. users per second: 12826.9</pre>"
      ],
      "text/plain": [
       "recommendations finished on 69000/271425 queries. users per second: 12826.9"
      ]
     },
     "metadata": {},
     "output_type": "display_data"
    },
    {
     "data": {
      "text/html": [
       "<pre>recommendations finished on 70000/271425 queries. users per second: 12871.4</pre>"
      ],
      "text/plain": [
       "recommendations finished on 70000/271425 queries. users per second: 12871.4"
      ]
     },
     "metadata": {},
     "output_type": "display_data"
    },
    {
     "data": {
      "text/html": [
       "<pre>recommendations finished on 71000/271425 queries. users per second: 12925.8</pre>"
      ],
      "text/plain": [
       "recommendations finished on 71000/271425 queries. users per second: 12925.8"
      ]
     },
     "metadata": {},
     "output_type": "display_data"
    },
    {
     "data": {
      "text/html": [
       "<pre>recommendations finished on 72000/271425 queries. users per second: 12857.6</pre>"
      ],
      "text/plain": [
       "recommendations finished on 72000/271425 queries. users per second: 12857.6"
      ]
     },
     "metadata": {},
     "output_type": "display_data"
    },
    {
     "data": {
      "text/html": [
       "<pre>recommendations finished on 73000/271425 queries. users per second: 12886.4</pre>"
      ],
      "text/plain": [
       "recommendations finished on 73000/271425 queries. users per second: 12886.4"
      ]
     },
     "metadata": {},
     "output_type": "display_data"
    },
    {
     "data": {
      "text/html": [
       "<pre>recommendations finished on 74000/271425 queries. users per second: 12930.8</pre>"
      ],
      "text/plain": [
       "recommendations finished on 74000/271425 queries. users per second: 12930.8"
      ]
     },
     "metadata": {},
     "output_type": "display_data"
    },
    {
     "data": {
      "text/html": [
       "<pre>recommendations finished on 75000/271425 queries. users per second: 12940.9</pre>"
      ],
      "text/plain": [
       "recommendations finished on 75000/271425 queries. users per second: 12940.9"
      ]
     },
     "metadata": {},
     "output_type": "display_data"
    },
    {
     "data": {
      "text/html": [
       "<pre>recommendations finished on 76000/271425 queries. users per second: 12985.7</pre>"
      ],
      "text/plain": [
       "recommendations finished on 76000/271425 queries. users per second: 12985.7"
      ]
     },
     "metadata": {},
     "output_type": "display_data"
    },
    {
     "data": {
      "text/html": [
       "<pre>recommendations finished on 77000/271425 queries. users per second: 12932.6</pre>"
      ],
      "text/plain": [
       "recommendations finished on 77000/271425 queries. users per second: 12932.6"
      ]
     },
     "metadata": {},
     "output_type": "display_data"
    },
    {
     "data": {
      "text/html": [
       "<pre>recommendations finished on 78000/271425 queries. users per second: 12928.5</pre>"
      ],
      "text/plain": [
       "recommendations finished on 78000/271425 queries. users per second: 12928.5"
      ]
     },
     "metadata": {},
     "output_type": "display_data"
    },
    {
     "data": {
      "text/html": [
       "<pre>recommendations finished on 79000/271425 queries. users per second: 12962.2</pre>"
      ],
      "text/plain": [
       "recommendations finished on 79000/271425 queries. users per second: 12962.2"
      ]
     },
     "metadata": {},
     "output_type": "display_data"
    },
    {
     "data": {
      "text/html": [
       "<pre>recommendations finished on 80000/271425 queries. users per second: 12971.3</pre>"
      ],
      "text/plain": [
       "recommendations finished on 80000/271425 queries. users per second: 12971.3"
      ]
     },
     "metadata": {},
     "output_type": "display_data"
    },
    {
     "data": {
      "text/html": [
       "<pre>recommendations finished on 81000/271425 queries. users per second: 12968.8</pre>"
      ],
      "text/plain": [
       "recommendations finished on 81000/271425 queries. users per second: 12968.8"
      ]
     },
     "metadata": {},
     "output_type": "display_data"
    },
    {
     "data": {
      "text/html": [
       "<pre>recommendations finished on 82000/271425 queries. users per second: 12978.7</pre>"
      ],
      "text/plain": [
       "recommendations finished on 82000/271425 queries. users per second: 12978.7"
      ]
     },
     "metadata": {},
     "output_type": "display_data"
    },
    {
     "data": {
      "text/html": [
       "<pre>recommendations finished on 83000/271425 queries. users per second: 13012.8</pre>"
      ],
      "text/plain": [
       "recommendations finished on 83000/271425 queries. users per second: 13012.8"
      ]
     },
     "metadata": {},
     "output_type": "display_data"
    },
    {
     "data": {
      "text/html": [
       "<pre>recommendations finished on 84000/271425 queries. users per second: 13035.8</pre>"
      ],
      "text/plain": [
       "recommendations finished on 84000/271425 queries. users per second: 13035.8"
      ]
     },
     "metadata": {},
     "output_type": "display_data"
    },
    {
     "data": {
      "text/html": [
       "<pre>recommendations finished on 85000/271425 queries. users per second: 13029.1</pre>"
      ],
      "text/plain": [
       "recommendations finished on 85000/271425 queries. users per second: 13029.1"
      ]
     },
     "metadata": {},
     "output_type": "display_data"
    },
    {
     "data": {
      "text/html": [
       "<pre>recommendations finished on 86000/271425 queries. users per second: 13063.2</pre>"
      ],
      "text/plain": [
       "recommendations finished on 86000/271425 queries. users per second: 13063.2"
      ]
     },
     "metadata": {},
     "output_type": "display_data"
    },
    {
     "data": {
      "text/html": [
       "<pre>recommendations finished on 87000/271425 queries. users per second: 13053.7</pre>"
      ],
      "text/plain": [
       "recommendations finished on 87000/271425 queries. users per second: 13053.7"
      ]
     },
     "metadata": {},
     "output_type": "display_data"
    },
    {
     "data": {
      "text/html": [
       "<pre>recommendations finished on 88000/271425 queries. users per second: 12917.2</pre>"
      ],
      "text/plain": [
       "recommendations finished on 88000/271425 queries. users per second: 12917.2"
      ]
     },
     "metadata": {},
     "output_type": "display_data"
    },
    {
     "data": {
      "text/html": [
       "<pre>recommendations finished on 89000/271425 queries. users per second: 12843.7</pre>"
      ],
      "text/plain": [
       "recommendations finished on 89000/271425 queries. users per second: 12843.7"
      ]
     },
     "metadata": {},
     "output_type": "display_data"
    },
    {
     "data": {
      "text/html": [
       "<pre>recommendations finished on 90000/271425 queries. users per second: 12708.5</pre>"
      ],
      "text/plain": [
       "recommendations finished on 90000/271425 queries. users per second: 12708.5"
      ]
     },
     "metadata": {},
     "output_type": "display_data"
    },
    {
     "data": {
      "text/html": [
       "<pre>recommendations finished on 91000/271425 queries. users per second: 12677.6</pre>"
      ],
      "text/plain": [
       "recommendations finished on 91000/271425 queries. users per second: 12677.6"
      ]
     },
     "metadata": {},
     "output_type": "display_data"
    },
    {
     "data": {
      "text/html": [
       "<pre>recommendations finished on 92000/271425 queries. users per second: 12582.7</pre>"
      ],
      "text/plain": [
       "recommendations finished on 92000/271425 queries. users per second: 12582.7"
      ]
     },
     "metadata": {},
     "output_type": "display_data"
    },
    {
     "data": {
      "text/html": [
       "<pre>recommendations finished on 93000/271425 queries. users per second: 12536.9</pre>"
      ],
      "text/plain": [
       "recommendations finished on 93000/271425 queries. users per second: 12536.9"
      ]
     },
     "metadata": {},
     "output_type": "display_data"
    },
    {
     "data": {
      "text/html": [
       "<pre>recommendations finished on 94000/271425 queries. users per second: 12246.7</pre>"
      ],
      "text/plain": [
       "recommendations finished on 94000/271425 queries. users per second: 12246.7"
      ]
     },
     "metadata": {},
     "output_type": "display_data"
    },
    {
     "data": {
      "text/html": [
       "<pre>recommendations finished on 95000/271425 queries. users per second: 12092.1</pre>"
      ],
      "text/plain": [
       "recommendations finished on 95000/271425 queries. users per second: 12092.1"
      ]
     },
     "metadata": {},
     "output_type": "display_data"
    },
    {
     "data": {
      "text/html": [
       "<pre>recommendations finished on 96000/271425 queries. users per second: 12072.5</pre>"
      ],
      "text/plain": [
       "recommendations finished on 96000/271425 queries. users per second: 12072.5"
      ]
     },
     "metadata": {},
     "output_type": "display_data"
    },
    {
     "data": {
      "text/html": [
       "<pre>recommendations finished on 97000/271425 queries. users per second: 12010.8</pre>"
      ],
      "text/plain": [
       "recommendations finished on 97000/271425 queries. users per second: 12010.8"
      ]
     },
     "metadata": {},
     "output_type": "display_data"
    },
    {
     "data": {
      "text/html": [
       "<pre>recommendations finished on 98000/271425 queries. users per second: 12016</pre>"
      ],
      "text/plain": [
       "recommendations finished on 98000/271425 queries. users per second: 12016"
      ]
     },
     "metadata": {},
     "output_type": "display_data"
    },
    {
     "data": {
      "text/html": [
       "<pre>recommendations finished on 99000/271425 queries. users per second: 12021.1</pre>"
      ],
      "text/plain": [
       "recommendations finished on 99000/271425 queries. users per second: 12021.1"
      ]
     },
     "metadata": {},
     "output_type": "display_data"
    },
    {
     "data": {
      "text/html": [
       "<pre>recommendations finished on 100000/271425 queries. users per second: 12035.8</pre>"
      ],
      "text/plain": [
       "recommendations finished on 100000/271425 queries. users per second: 12035.8"
      ]
     },
     "metadata": {},
     "output_type": "display_data"
    },
    {
     "data": {
      "text/html": [
       "<pre>recommendations finished on 101000/271425 queries. users per second: 12024.1</pre>"
      ],
      "text/plain": [
       "recommendations finished on 101000/271425 queries. users per second: 12024.1"
      ]
     },
     "metadata": {},
     "output_type": "display_data"
    },
    {
     "data": {
      "text/html": [
       "<pre>recommendations finished on 102000/271425 queries. users per second: 12039.7</pre>"
      ],
      "text/plain": [
       "recommendations finished on 102000/271425 queries. users per second: 12039.7"
      ]
     },
     "metadata": {},
     "output_type": "display_data"
    },
    {
     "data": {
      "text/html": [
       "<pre>recommendations finished on 103000/271425 queries. users per second: 11936</pre>"
      ],
      "text/plain": [
       "recommendations finished on 103000/271425 queries. users per second: 11936"
      ]
     },
     "metadata": {},
     "output_type": "display_data"
    },
    {
     "data": {
      "text/html": [
       "<pre>recommendations finished on 104000/271425 queries. users per second: 11939.6</pre>"
      ],
      "text/plain": [
       "recommendations finished on 104000/271425 queries. users per second: 11939.6"
      ]
     },
     "metadata": {},
     "output_type": "display_data"
    },
    {
     "data": {
      "text/html": [
       "<pre>recommendations finished on 105000/271425 queries. users per second: 11893.9</pre>"
      ],
      "text/plain": [
       "recommendations finished on 105000/271425 queries. users per second: 11893.9"
      ]
     },
     "metadata": {},
     "output_type": "display_data"
    },
    {
     "data": {
      "text/html": [
       "<pre>recommendations finished on 106000/271425 queries. users per second: 11788.6</pre>"
      ],
      "text/plain": [
       "recommendations finished on 106000/271425 queries. users per second: 11788.6"
      ]
     },
     "metadata": {},
     "output_type": "display_data"
    },
    {
     "data": {
      "text/html": [
       "<pre>recommendations finished on 107000/271425 queries. users per second: 11796.7</pre>"
      ],
      "text/plain": [
       "recommendations finished on 107000/271425 queries. users per second: 11796.7"
      ]
     },
     "metadata": {},
     "output_type": "display_data"
    },
    {
     "data": {
      "text/html": [
       "<pre>recommendations finished on 108000/271425 queries. users per second: 11783.1</pre>"
      ],
      "text/plain": [
       "recommendations finished on 108000/271425 queries. users per second: 11783.1"
      ]
     },
     "metadata": {},
     "output_type": "display_data"
    },
    {
     "data": {
      "text/html": [
       "<pre>recommendations finished on 109000/271425 queries. users per second: 11730.4</pre>"
      ],
      "text/plain": [
       "recommendations finished on 109000/271425 queries. users per second: 11730.4"
      ]
     },
     "metadata": {},
     "output_type": "display_data"
    },
    {
     "data": {
      "text/html": [
       "<pre>recommendations finished on 110000/271425 queries. users per second: 11725.4</pre>"
      ],
      "text/plain": [
       "recommendations finished on 110000/271425 queries. users per second: 11725.4"
      ]
     },
     "metadata": {},
     "output_type": "display_data"
    },
    {
     "data": {
      "text/html": [
       "<pre>recommendations finished on 111000/271425 queries. users per second: 11739.8</pre>"
      ],
      "text/plain": [
       "recommendations finished on 111000/271425 queries. users per second: 11739.8"
      ]
     },
     "metadata": {},
     "output_type": "display_data"
    },
    {
     "data": {
      "text/html": [
       "<pre>recommendations finished on 112000/271425 queries. users per second: 11443.5</pre>"
      ],
      "text/plain": [
       "recommendations finished on 112000/271425 queries. users per second: 11443.5"
      ]
     },
     "metadata": {},
     "output_type": "display_data"
    },
    {
     "data": {
      "text/html": [
       "<pre>recommendations finished on 113000/271425 queries. users per second: 11362.2</pre>"
      ],
      "text/plain": [
       "recommendations finished on 113000/271425 queries. users per second: 11362.2"
      ]
     },
     "metadata": {},
     "output_type": "display_data"
    },
    {
     "data": {
      "text/html": [
       "<pre>recommendations finished on 114000/271425 queries. users per second: 11386.4</pre>"
      ],
      "text/plain": [
       "recommendations finished on 114000/271425 queries. users per second: 11386.4"
      ]
     },
     "metadata": {},
     "output_type": "display_data"
    },
    {
     "data": {
      "text/html": [
       "<pre>recommendations finished on 115000/271425 queries. users per second: 11378.2</pre>"
      ],
      "text/plain": [
       "recommendations finished on 115000/271425 queries. users per second: 11378.2"
      ]
     },
     "metadata": {},
     "output_type": "display_data"
    },
    {
     "data": {
      "text/html": [
       "<pre>recommendations finished on 116000/271425 queries. users per second: 11404.6</pre>"
      ],
      "text/plain": [
       "recommendations finished on 116000/271425 queries. users per second: 11404.6"
      ]
     },
     "metadata": {},
     "output_type": "display_data"
    },
    {
     "data": {
      "text/html": [
       "<pre>recommendations finished on 117000/271425 queries. users per second: 11421.8</pre>"
      ],
      "text/plain": [
       "recommendations finished on 117000/271425 queries. users per second: 11421.8"
      ]
     },
     "metadata": {},
     "output_type": "display_data"
    },
    {
     "data": {
      "text/html": [
       "<pre>recommendations finished on 118000/271425 queries. users per second: 11440.2</pre>"
      ],
      "text/plain": [
       "recommendations finished on 118000/271425 queries. users per second: 11440.2"
      ]
     },
     "metadata": {},
     "output_type": "display_data"
    },
    {
     "data": {
      "text/html": [
       "<pre>recommendations finished on 119000/271425 queries. users per second: 11468.9</pre>"
      ],
      "text/plain": [
       "recommendations finished on 119000/271425 queries. users per second: 11468.9"
      ]
     },
     "metadata": {},
     "output_type": "display_data"
    },
    {
     "data": {
      "text/html": [
       "<pre>recommendations finished on 120000/271425 queries. users per second: 11493.1</pre>"
      ],
      "text/plain": [
       "recommendations finished on 120000/271425 queries. users per second: 11493.1"
      ]
     },
     "metadata": {},
     "output_type": "display_data"
    },
    {
     "data": {
      "text/html": [
       "<pre>recommendations finished on 121000/271425 queries. users per second: 11495.9</pre>"
      ],
      "text/plain": [
       "recommendations finished on 121000/271425 queries. users per second: 11495.9"
      ]
     },
     "metadata": {},
     "output_type": "display_data"
    },
    {
     "data": {
      "text/html": [
       "<pre>recommendations finished on 122000/271425 queries. users per second: 11457.8</pre>"
      ],
      "text/plain": [
       "recommendations finished on 122000/271425 queries. users per second: 11457.8"
      ]
     },
     "metadata": {},
     "output_type": "display_data"
    },
    {
     "data": {
      "text/html": [
       "<pre>recommendations finished on 123000/271425 queries. users per second: 11385.7</pre>"
      ],
      "text/plain": [
       "recommendations finished on 123000/271425 queries. users per second: 11385.7"
      ]
     },
     "metadata": {},
     "output_type": "display_data"
    },
    {
     "data": {
      "text/html": [
       "<pre>recommendations finished on 124000/271425 queries. users per second: 11420.5</pre>"
      ],
      "text/plain": [
       "recommendations finished on 124000/271425 queries. users per second: 11420.5"
      ]
     },
     "metadata": {},
     "output_type": "display_data"
    },
    {
     "data": {
      "text/html": [
       "<pre>recommendations finished on 125000/271425 queries. users per second: 11418.6</pre>"
      ],
      "text/plain": [
       "recommendations finished on 125000/271425 queries. users per second: 11418.6"
      ]
     },
     "metadata": {},
     "output_type": "display_data"
    },
    {
     "data": {
      "text/html": [
       "<pre>recommendations finished on 126000/271425 queries. users per second: 11375</pre>"
      ],
      "text/plain": [
       "recommendations finished on 126000/271425 queries. users per second: 11375"
      ]
     },
     "metadata": {},
     "output_type": "display_data"
    },
    {
     "data": {
      "text/html": [
       "<pre>recommendations finished on 127000/271425 queries. users per second: 11384.1</pre>"
      ],
      "text/plain": [
       "recommendations finished on 127000/271425 queries. users per second: 11384.1"
      ]
     },
     "metadata": {},
     "output_type": "display_data"
    },
    {
     "data": {
      "text/html": [
       "<pre>recommendations finished on 128000/271425 queries. users per second: 11429.5</pre>"
      ],
      "text/plain": [
       "recommendations finished on 128000/271425 queries. users per second: 11429.5"
      ]
     },
     "metadata": {},
     "output_type": "display_data"
    },
    {
     "data": {
      "text/html": [
       "<pre>recommendations finished on 129000/271425 queries. users per second: 11467.1</pre>"
      ],
      "text/plain": [
       "recommendations finished on 129000/271425 queries. users per second: 11467.1"
      ]
     },
     "metadata": {},
     "output_type": "display_data"
    },
    {
     "data": {
      "text/html": [
       "<pre>recommendations finished on 130000/271425 queries. users per second: 11504.5</pre>"
      ],
      "text/plain": [
       "recommendations finished on 130000/271425 queries. users per second: 11504.5"
      ]
     },
     "metadata": {},
     "output_type": "display_data"
    },
    {
     "data": {
      "text/html": [
       "<pre>recommendations finished on 131000/271425 queries. users per second: 11545.6</pre>"
      ],
      "text/plain": [
       "recommendations finished on 131000/271425 queries. users per second: 11545.6"
      ]
     },
     "metadata": {},
     "output_type": "display_data"
    },
    {
     "data": {
      "text/html": [
       "<pre>recommendations finished on 132000/271425 queries. users per second: 11583</pre>"
      ],
      "text/plain": [
       "recommendations finished on 132000/271425 queries. users per second: 11583"
      ]
     },
     "metadata": {},
     "output_type": "display_data"
    },
    {
     "data": {
      "text/html": [
       "<pre>recommendations finished on 133000/271425 queries. users per second: 11597</pre>"
      ],
      "text/plain": [
       "recommendations finished on 133000/271425 queries. users per second: 11597"
      ]
     },
     "metadata": {},
     "output_type": "display_data"
    },
    {
     "data": {
      "text/html": [
       "<pre>recommendations finished on 134000/271425 queries. users per second: 11608.2</pre>"
      ],
      "text/plain": [
       "recommendations finished on 134000/271425 queries. users per second: 11608.2"
      ]
     },
     "metadata": {},
     "output_type": "display_data"
    },
    {
     "data": {
      "text/html": [
       "<pre>recommendations finished on 135000/271425 queries. users per second: 11628</pre>"
      ],
      "text/plain": [
       "recommendations finished on 135000/271425 queries. users per second: 11628"
      ]
     },
     "metadata": {},
     "output_type": "display_data"
    },
    {
     "data": {
      "text/html": [
       "<pre>recommendations finished on 136000/271425 queries. users per second: 11654.8</pre>"
      ],
      "text/plain": [
       "recommendations finished on 136000/271425 queries. users per second: 11654.8"
      ]
     },
     "metadata": {},
     "output_type": "display_data"
    },
    {
     "data": {
      "text/html": [
       "<pre>recommendations finished on 137000/271425 queries. users per second: 11651.3</pre>"
      ],
      "text/plain": [
       "recommendations finished on 137000/271425 queries. users per second: 11651.3"
      ]
     },
     "metadata": {},
     "output_type": "display_data"
    },
    {
     "data": {
      "text/html": [
       "<pre>recommendations finished on 138000/271425 queries. users per second: 11638.4</pre>"
      ],
      "text/plain": [
       "recommendations finished on 138000/271425 queries. users per second: 11638.4"
      ]
     },
     "metadata": {},
     "output_type": "display_data"
    },
    {
     "data": {
      "text/html": [
       "<pre>recommendations finished on 139000/271425 queries. users per second: 11663.3</pre>"
      ],
      "text/plain": [
       "recommendations finished on 139000/271425 queries. users per second: 11663.3"
      ]
     },
     "metadata": {},
     "output_type": "display_data"
    },
    {
     "data": {
      "text/html": [
       "<pre>recommendations finished on 140000/271425 queries. users per second: 11680.5</pre>"
      ],
      "text/plain": [
       "recommendations finished on 140000/271425 queries. users per second: 11680.5"
      ]
     },
     "metadata": {},
     "output_type": "display_data"
    },
    {
     "data": {
      "text/html": [
       "<pre>recommendations finished on 141000/271425 queries. users per second: 11682.8</pre>"
      ],
      "text/plain": [
       "recommendations finished on 141000/271425 queries. users per second: 11682.8"
      ]
     },
     "metadata": {},
     "output_type": "display_data"
    },
    {
     "data": {
      "text/html": [
       "<pre>recommendations finished on 142000/271425 queries. users per second: 11687.5</pre>"
      ],
      "text/plain": [
       "recommendations finished on 142000/271425 queries. users per second: 11687.5"
      ]
     },
     "metadata": {},
     "output_type": "display_data"
    },
    {
     "data": {
      "text/html": [
       "<pre>recommendations finished on 143000/271425 queries. users per second: 11699.5</pre>"
      ],
      "text/plain": [
       "recommendations finished on 143000/271425 queries. users per second: 11699.5"
      ]
     },
     "metadata": {},
     "output_type": "display_data"
    },
    {
     "data": {
      "text/html": [
       "<pre>recommendations finished on 144000/271425 queries. users per second: 11744.8</pre>"
      ],
      "text/plain": [
       "recommendations finished on 144000/271425 queries. users per second: 11744.8"
      ]
     },
     "metadata": {},
     "output_type": "display_data"
    },
    {
     "data": {
      "text/html": [
       "<pre>recommendations finished on 145000/271425 queries. users per second: 11783.9</pre>"
      ],
      "text/plain": [
       "recommendations finished on 145000/271425 queries. users per second: 11783.9"
      ]
     },
     "metadata": {},
     "output_type": "display_data"
    },
    {
     "data": {
      "text/html": [
       "<pre>recommendations finished on 146000/271425 queries. users per second: 11819.8</pre>"
      ],
      "text/plain": [
       "recommendations finished on 146000/271425 queries. users per second: 11819.8"
      ]
     },
     "metadata": {},
     "output_type": "display_data"
    },
    {
     "data": {
      "text/html": [
       "<pre>recommendations finished on 147000/271425 queries. users per second: 11852.5</pre>"
      ],
      "text/plain": [
       "recommendations finished on 147000/271425 queries. users per second: 11852.5"
      ]
     },
     "metadata": {},
     "output_type": "display_data"
    },
    {
     "data": {
      "text/html": [
       "<pre>recommendations finished on 148000/271425 queries. users per second: 11873</pre>"
      ],
      "text/plain": [
       "recommendations finished on 148000/271425 queries. users per second: 11873"
      ]
     },
     "metadata": {},
     "output_type": "display_data"
    },
    {
     "data": {
      "text/html": [
       "<pre>recommendations finished on 149000/271425 queries. users per second: 11884</pre>"
      ],
      "text/plain": [
       "recommendations finished on 149000/271425 queries. users per second: 11884"
      ]
     },
     "metadata": {},
     "output_type": "display_data"
    },
    {
     "data": {
      "text/html": [
       "<pre>recommendations finished on 150000/271425 queries. users per second: 11880</pre>"
      ],
      "text/plain": [
       "recommendations finished on 150000/271425 queries. users per second: 11880"
      ]
     },
     "metadata": {},
     "output_type": "display_data"
    },
    {
     "data": {
      "text/html": [
       "<pre>recommendations finished on 151000/271425 queries. users per second: 11875.3</pre>"
      ],
      "text/plain": [
       "recommendations finished on 151000/271425 queries. users per second: 11875.3"
      ]
     },
     "metadata": {},
     "output_type": "display_data"
    },
    {
     "data": {
      "text/html": [
       "<pre>recommendations finished on 152000/271425 queries. users per second: 11864.4</pre>"
      ],
      "text/plain": [
       "recommendations finished on 152000/271425 queries. users per second: 11864.4"
      ]
     },
     "metadata": {},
     "output_type": "display_data"
    },
    {
     "data": {
      "text/html": [
       "<pre>recommendations finished on 153000/271425 queries. users per second: 11880.4</pre>"
      ],
      "text/plain": [
       "recommendations finished on 153000/271425 queries. users per second: 11880.4"
      ]
     },
     "metadata": {},
     "output_type": "display_data"
    },
    {
     "data": {
      "text/html": [
       "<pre>recommendations finished on 154000/271425 queries. users per second: 11896.5</pre>"
      ],
      "text/plain": [
       "recommendations finished on 154000/271425 queries. users per second: 11896.5"
      ]
     },
     "metadata": {},
     "output_type": "display_data"
    },
    {
     "data": {
      "text/html": [
       "<pre>recommendations finished on 155000/271425 queries. users per second: 11898.1</pre>"
      ],
      "text/plain": [
       "recommendations finished on 155000/271425 queries. users per second: 11898.1"
      ]
     },
     "metadata": {},
     "output_type": "display_data"
    },
    {
     "data": {
      "text/html": [
       "<pre>recommendations finished on 156000/271425 queries. users per second: 11887.7</pre>"
      ],
      "text/plain": [
       "recommendations finished on 156000/271425 queries. users per second: 11887.7"
      ]
     },
     "metadata": {},
     "output_type": "display_data"
    },
    {
     "data": {
      "text/html": [
       "<pre>recommendations finished on 157000/271425 queries. users per second: 11901.5</pre>"
      ],
      "text/plain": [
       "recommendations finished on 157000/271425 queries. users per second: 11901.5"
      ]
     },
     "metadata": {},
     "output_type": "display_data"
    },
    {
     "data": {
      "text/html": [
       "<pre>recommendations finished on 158000/271425 queries. users per second: 11921.2</pre>"
      ],
      "text/plain": [
       "recommendations finished on 158000/271425 queries. users per second: 11921.2"
      ]
     },
     "metadata": {},
     "output_type": "display_data"
    },
    {
     "data": {
      "text/html": [
       "<pre>recommendations finished on 159000/271425 queries. users per second: 11933.3</pre>"
      ],
      "text/plain": [
       "recommendations finished on 159000/271425 queries. users per second: 11933.3"
      ]
     },
     "metadata": {},
     "output_type": "display_data"
    },
    {
     "data": {
      "text/html": [
       "<pre>recommendations finished on 160000/271425 queries. users per second: 11939.7</pre>"
      ],
      "text/plain": [
       "recommendations finished on 160000/271425 queries. users per second: 11939.7"
      ]
     },
     "metadata": {},
     "output_type": "display_data"
    },
    {
     "data": {
      "text/html": [
       "<pre>recommendations finished on 161000/271425 queries. users per second: 11949.6</pre>"
      ],
      "text/plain": [
       "recommendations finished on 161000/271425 queries. users per second: 11949.6"
      ]
     },
     "metadata": {},
     "output_type": "display_data"
    },
    {
     "data": {
      "text/html": [
       "<pre>recommendations finished on 162000/271425 queries. users per second: 11957.5</pre>"
      ],
      "text/plain": [
       "recommendations finished on 162000/271425 queries. users per second: 11957.5"
      ]
     },
     "metadata": {},
     "output_type": "display_data"
    },
    {
     "data": {
      "text/html": [
       "<pre>recommendations finished on 163000/271425 queries. users per second: 11923.2</pre>"
      ],
      "text/plain": [
       "recommendations finished on 163000/271425 queries. users per second: 11923.2"
      ]
     },
     "metadata": {},
     "output_type": "display_data"
    },
    {
     "data": {
      "text/html": [
       "<pre>recommendations finished on 164000/271425 queries. users per second: 11940.8</pre>"
      ],
      "text/plain": [
       "recommendations finished on 164000/271425 queries. users per second: 11940.8"
      ]
     },
     "metadata": {},
     "output_type": "display_data"
    },
    {
     "data": {
      "text/html": [
       "<pre>recommendations finished on 165000/271425 queries. users per second: 11943.9</pre>"
      ],
      "text/plain": [
       "recommendations finished on 165000/271425 queries. users per second: 11943.9"
      ]
     },
     "metadata": {},
     "output_type": "display_data"
    },
    {
     "data": {
      "text/html": [
       "<pre>recommendations finished on 166000/271425 queries. users per second: 11940.1</pre>"
      ],
      "text/plain": [
       "recommendations finished on 166000/271425 queries. users per second: 11940.1"
      ]
     },
     "metadata": {},
     "output_type": "display_data"
    },
    {
     "data": {
      "text/html": [
       "<pre>recommendations finished on 167000/271425 queries. users per second: 11965.7</pre>"
      ],
      "text/plain": [
       "recommendations finished on 167000/271425 queries. users per second: 11965.7"
      ]
     },
     "metadata": {},
     "output_type": "display_data"
    },
    {
     "data": {
      "text/html": [
       "<pre>recommendations finished on 168000/271425 queries. users per second: 11950.8</pre>"
      ],
      "text/plain": [
       "recommendations finished on 168000/271425 queries. users per second: 11950.8"
      ]
     },
     "metadata": {},
     "output_type": "display_data"
    },
    {
     "data": {
      "text/html": [
       "<pre>recommendations finished on 169000/271425 queries. users per second: 11887.9</pre>"
      ],
      "text/plain": [
       "recommendations finished on 169000/271425 queries. users per second: 11887.9"
      ]
     },
     "metadata": {},
     "output_type": "display_data"
    },
    {
     "data": {
      "text/html": [
       "<pre>recommendations finished on 170000/271425 queries. users per second: 11877.8</pre>"
      ],
      "text/plain": [
       "recommendations finished on 170000/271425 queries. users per second: 11877.8"
      ]
     },
     "metadata": {},
     "output_type": "display_data"
    },
    {
     "data": {
      "text/html": [
       "<pre>recommendations finished on 171000/271425 queries. users per second: 11869.8</pre>"
      ],
      "text/plain": [
       "recommendations finished on 171000/271425 queries. users per second: 11869.8"
      ]
     },
     "metadata": {},
     "output_type": "display_data"
    },
    {
     "data": {
      "text/html": [
       "<pre>recommendations finished on 172000/271425 queries. users per second: 11877.1</pre>"
      ],
      "text/plain": [
       "recommendations finished on 172000/271425 queries. users per second: 11877.1"
      ]
     },
     "metadata": {},
     "output_type": "display_data"
    },
    {
     "data": {
      "text/html": [
       "<pre>recommendations finished on 173000/271425 queries. users per second: 11852.3</pre>"
      ],
      "text/plain": [
       "recommendations finished on 173000/271425 queries. users per second: 11852.3"
      ]
     },
     "metadata": {},
     "output_type": "display_data"
    },
    {
     "data": {
      "text/html": [
       "<pre>recommendations finished on 174000/271425 queries. users per second: 11864.6</pre>"
      ],
      "text/plain": [
       "recommendations finished on 174000/271425 queries. users per second: 11864.6"
      ]
     },
     "metadata": {},
     "output_type": "display_data"
    },
    {
     "data": {
      "text/html": [
       "<pre>recommendations finished on 175000/271425 queries. users per second: 11889.5</pre>"
      ],
      "text/plain": [
       "recommendations finished on 175000/271425 queries. users per second: 11889.5"
      ]
     },
     "metadata": {},
     "output_type": "display_data"
    },
    {
     "data": {
      "text/html": [
       "<pre>recommendations finished on 176000/271425 queries. users per second: 11907</pre>"
      ],
      "text/plain": [
       "recommendations finished on 176000/271425 queries. users per second: 11907"
      ]
     },
     "metadata": {},
     "output_type": "display_data"
    },
    {
     "data": {
      "text/html": [
       "<pre>recommendations finished on 177000/271425 queries. users per second: 11911.3</pre>"
      ],
      "text/plain": [
       "recommendations finished on 177000/271425 queries. users per second: 11911.3"
      ]
     },
     "metadata": {},
     "output_type": "display_data"
    },
    {
     "data": {
      "text/html": [
       "<pre>recommendations finished on 178000/271425 queries. users per second: 11900.4</pre>"
      ],
      "text/plain": [
       "recommendations finished on 178000/271425 queries. users per second: 11900.4"
      ]
     },
     "metadata": {},
     "output_type": "display_data"
    },
    {
     "data": {
      "text/html": [
       "<pre>recommendations finished on 179000/271425 queries. users per second: 11886.6</pre>"
      ],
      "text/plain": [
       "recommendations finished on 179000/271425 queries. users per second: 11886.6"
      ]
     },
     "metadata": {},
     "output_type": "display_data"
    },
    {
     "data": {
      "text/html": [
       "<pre>recommendations finished on 180000/271425 queries. users per second: 11878.2</pre>"
      ],
      "text/plain": [
       "recommendations finished on 180000/271425 queries. users per second: 11878.2"
      ]
     },
     "metadata": {},
     "output_type": "display_data"
    },
    {
     "data": {
      "text/html": [
       "<pre>recommendations finished on 181000/271425 queries. users per second: 11878</pre>"
      ],
      "text/plain": [
       "recommendations finished on 181000/271425 queries. users per second: 11878"
      ]
     },
     "metadata": {},
     "output_type": "display_data"
    },
    {
     "data": {
      "text/html": [
       "<pre>recommendations finished on 182000/271425 queries. users per second: 11817.1</pre>"
      ],
      "text/plain": [
       "recommendations finished on 182000/271425 queries. users per second: 11817.1"
      ]
     },
     "metadata": {},
     "output_type": "display_data"
    },
    {
     "data": {
      "text/html": [
       "<pre>recommendations finished on 183000/271425 queries. users per second: 11773.2</pre>"
      ],
      "text/plain": [
       "recommendations finished on 183000/271425 queries. users per second: 11773.2"
      ]
     },
     "metadata": {},
     "output_type": "display_data"
    },
    {
     "data": {
      "text/html": [
       "<pre>recommendations finished on 184000/271425 queries. users per second: 11766.5</pre>"
      ],
      "text/plain": [
       "recommendations finished on 184000/271425 queries. users per second: 11766.5"
      ]
     },
     "metadata": {},
     "output_type": "display_data"
    },
    {
     "data": {
      "text/html": [
       "<pre>recommendations finished on 185000/271425 queries. users per second: 11778.5</pre>"
      ],
      "text/plain": [
       "recommendations finished on 185000/271425 queries. users per second: 11778.5"
      ]
     },
     "metadata": {},
     "output_type": "display_data"
    },
    {
     "data": {
      "text/html": [
       "<pre>recommendations finished on 186000/271425 queries. users per second: 11751.3</pre>"
      ],
      "text/plain": [
       "recommendations finished on 186000/271425 queries. users per second: 11751.3"
      ]
     },
     "metadata": {},
     "output_type": "display_data"
    },
    {
     "data": {
      "text/html": [
       "<pre>recommendations finished on 187000/271425 queries. users per second: 11725.3</pre>"
      ],
      "text/plain": [
       "recommendations finished on 187000/271425 queries. users per second: 11725.3"
      ]
     },
     "metadata": {},
     "output_type": "display_data"
    },
    {
     "data": {
      "text/html": [
       "<pre>recommendations finished on 188000/271425 queries. users per second: 11714.2</pre>"
      ],
      "text/plain": [
       "recommendations finished on 188000/271425 queries. users per second: 11714.2"
      ]
     },
     "metadata": {},
     "output_type": "display_data"
    },
    {
     "data": {
      "text/html": [
       "<pre>recommendations finished on 189000/271425 queries. users per second: 11710</pre>"
      ],
      "text/plain": [
       "recommendations finished on 189000/271425 queries. users per second: 11710"
      ]
     },
     "metadata": {},
     "output_type": "display_data"
    },
    {
     "data": {
      "text/html": [
       "<pre>recommendations finished on 190000/271425 queries. users per second: 11679.4</pre>"
      ],
      "text/plain": [
       "recommendations finished on 190000/271425 queries. users per second: 11679.4"
      ]
     },
     "metadata": {},
     "output_type": "display_data"
    },
    {
     "data": {
      "text/html": [
       "<pre>recommendations finished on 191000/271425 queries. users per second: 11662.1</pre>"
      ],
      "text/plain": [
       "recommendations finished on 191000/271425 queries. users per second: 11662.1"
      ]
     },
     "metadata": {},
     "output_type": "display_data"
    },
    {
     "data": {
      "text/html": [
       "<pre>recommendations finished on 192000/271425 queries. users per second: 11664.1</pre>"
      ],
      "text/plain": [
       "recommendations finished on 192000/271425 queries. users per second: 11664.1"
      ]
     },
     "metadata": {},
     "output_type": "display_data"
    },
    {
     "data": {
      "text/html": [
       "<pre>recommendations finished on 193000/271425 queries. users per second: 11675.5</pre>"
      ],
      "text/plain": [
       "recommendations finished on 193000/271425 queries. users per second: 11675.5"
      ]
     },
     "metadata": {},
     "output_type": "display_data"
    },
    {
     "data": {
      "text/html": [
       "<pre>recommendations finished on 194000/271425 queries. users per second: 11686.8</pre>"
      ],
      "text/plain": [
       "recommendations finished on 194000/271425 queries. users per second: 11686.8"
      ]
     },
     "metadata": {},
     "output_type": "display_data"
    },
    {
     "data": {
      "text/html": [
       "<pre>recommendations finished on 195000/271425 queries. users per second: 11677.5</pre>"
      ],
      "text/plain": [
       "recommendations finished on 195000/271425 queries. users per second: 11677.5"
      ]
     },
     "metadata": {},
     "output_type": "display_data"
    },
    {
     "data": {
      "text/html": [
       "<pre>recommendations finished on 196000/271425 queries. users per second: 11673</pre>"
      ],
      "text/plain": [
       "recommendations finished on 196000/271425 queries. users per second: 11673"
      ]
     },
     "metadata": {},
     "output_type": "display_data"
    },
    {
     "data": {
      "text/html": [
       "<pre>recommendations finished on 197000/271425 queries. users per second: 11692.5</pre>"
      ],
      "text/plain": [
       "recommendations finished on 197000/271425 queries. users per second: 11692.5"
      ]
     },
     "metadata": {},
     "output_type": "display_data"
    },
    {
     "data": {
      "text/html": [
       "<pre>recommendations finished on 198000/271425 queries. users per second: 11716</pre>"
      ],
      "text/plain": [
       "recommendations finished on 198000/271425 queries. users per second: 11716"
      ]
     },
     "metadata": {},
     "output_type": "display_data"
    },
    {
     "data": {
      "text/html": [
       "<pre>recommendations finished on 199000/271425 queries. users per second: 11743.2</pre>"
      ],
      "text/plain": [
       "recommendations finished on 199000/271425 queries. users per second: 11743.2"
      ]
     },
     "metadata": {},
     "output_type": "display_data"
    },
    {
     "data": {
      "text/html": [
       "<pre>recommendations finished on 200000/271425 queries. users per second: 11764.7</pre>"
      ],
      "text/plain": [
       "recommendations finished on 200000/271425 queries. users per second: 11764.7"
      ]
     },
     "metadata": {},
     "output_type": "display_data"
    },
    {
     "data": {
      "text/html": [
       "<pre>recommendations finished on 201000/271425 queries. users per second: 11785.8</pre>"
      ],
      "text/plain": [
       "recommendations finished on 201000/271425 queries. users per second: 11785.8"
      ]
     },
     "metadata": {},
     "output_type": "display_data"
    },
    {
     "data": {
      "text/html": [
       "<pre>recommendations finished on 202000/271425 queries. users per second: 11801.3</pre>"
      ],
      "text/plain": [
       "recommendations finished on 202000/271425 queries. users per second: 11801.3"
      ]
     },
     "metadata": {},
     "output_type": "display_data"
    },
    {
     "data": {
      "text/html": [
       "<pre>recommendations finished on 203000/271425 queries. users per second: 11819.2</pre>"
      ],
      "text/plain": [
       "recommendations finished on 203000/271425 queries. users per second: 11819.2"
      ]
     },
     "metadata": {},
     "output_type": "display_data"
    },
    {
     "data": {
      "text/html": [
       "<pre>recommendations finished on 204000/271425 queries. users per second: 11831.5</pre>"
      ],
      "text/plain": [
       "recommendations finished on 204000/271425 queries. users per second: 11831.5"
      ]
     },
     "metadata": {},
     "output_type": "display_data"
    },
    {
     "data": {
      "text/html": [
       "<pre>recommendations finished on 205000/271425 queries. users per second: 11849.1</pre>"
      ],
      "text/plain": [
       "recommendations finished on 205000/271425 queries. users per second: 11849.1"
      ]
     },
     "metadata": {},
     "output_type": "display_data"
    },
    {
     "data": {
      "text/html": [
       "<pre>recommendations finished on 206000/271425 queries. users per second: 11875.1</pre>"
      ],
      "text/plain": [
       "recommendations finished on 206000/271425 queries. users per second: 11875.1"
      ]
     },
     "metadata": {},
     "output_type": "display_data"
    },
    {
     "data": {
      "text/html": [
       "<pre>recommendations finished on 207000/271425 queries. users per second: 11886.9</pre>"
      ],
      "text/plain": [
       "recommendations finished on 207000/271425 queries. users per second: 11886.9"
      ]
     },
     "metadata": {},
     "output_type": "display_data"
    },
    {
     "data": {
      "text/html": [
       "<pre>recommendations finished on 208000/271425 queries. users per second: 11896.2</pre>"
      ],
      "text/plain": [
       "recommendations finished on 208000/271425 queries. users per second: 11896.2"
      ]
     },
     "metadata": {},
     "output_type": "display_data"
    },
    {
     "data": {
      "text/html": [
       "<pre>recommendations finished on 209000/271425 queries. users per second: 11863.9</pre>"
      ],
      "text/plain": [
       "recommendations finished on 209000/271425 queries. users per second: 11863.9"
      ]
     },
     "metadata": {},
     "output_type": "display_data"
    },
    {
     "data": {
      "text/html": [
       "<pre>recommendations finished on 210000/271425 queries. users per second: 11753.3</pre>"
      ],
      "text/plain": [
       "recommendations finished on 210000/271425 queries. users per second: 11753.3"
      ]
     },
     "metadata": {},
     "output_type": "display_data"
    },
    {
     "data": {
      "text/html": [
       "<pre>recommendations finished on 211000/271425 queries. users per second: 11751.1</pre>"
      ],
      "text/plain": [
       "recommendations finished on 211000/271425 queries. users per second: 11751.1"
      ]
     },
     "metadata": {},
     "output_type": "display_data"
    },
    {
     "data": {
      "text/html": [
       "<pre>recommendations finished on 212000/271425 queries. users per second: 11733.4</pre>"
      ],
      "text/plain": [
       "recommendations finished on 212000/271425 queries. users per second: 11733.4"
      ]
     },
     "metadata": {},
     "output_type": "display_data"
    },
    {
     "data": {
      "text/html": [
       "<pre>recommendations finished on 213000/271425 queries. users per second: 11703.4</pre>"
      ],
      "text/plain": [
       "recommendations finished on 213000/271425 queries. users per second: 11703.4"
      ]
     },
     "metadata": {},
     "output_type": "display_data"
    },
    {
     "data": {
      "text/html": [
       "<pre>recommendations finished on 214000/271425 queries. users per second: 11677.2</pre>"
      ],
      "text/plain": [
       "recommendations finished on 214000/271425 queries. users per second: 11677.2"
      ]
     },
     "metadata": {},
     "output_type": "display_data"
    },
    {
     "data": {
      "text/html": [
       "<pre>recommendations finished on 215000/271425 queries. users per second: 11679.6</pre>"
      ],
      "text/plain": [
       "recommendations finished on 215000/271425 queries. users per second: 11679.6"
      ]
     },
     "metadata": {},
     "output_type": "display_data"
    },
    {
     "data": {
      "text/html": [
       "<pre>recommendations finished on 216000/271425 queries. users per second: 11697.2</pre>"
      ],
      "text/plain": [
       "recommendations finished on 216000/271425 queries. users per second: 11697.2"
      ]
     },
     "metadata": {},
     "output_type": "display_data"
    },
    {
     "data": {
      "text/html": [
       "<pre>recommendations finished on 217000/271425 queries. users per second: 11708.7</pre>"
      ],
      "text/plain": [
       "recommendations finished on 217000/271425 queries. users per second: 11708.7"
      ]
     },
     "metadata": {},
     "output_type": "display_data"
    },
    {
     "data": {
      "text/html": [
       "<pre>recommendations finished on 218000/271425 queries. users per second: 11714.1</pre>"
      ],
      "text/plain": [
       "recommendations finished on 218000/271425 queries. users per second: 11714.1"
      ]
     },
     "metadata": {},
     "output_type": "display_data"
    },
    {
     "data": {
      "text/html": [
       "<pre>recommendations finished on 219000/271425 queries. users per second: 11702.2</pre>"
      ],
      "text/plain": [
       "recommendations finished on 219000/271425 queries. users per second: 11702.2"
      ]
     },
     "metadata": {},
     "output_type": "display_data"
    },
    {
     "data": {
      "text/html": [
       "<pre>recommendations finished on 220000/271425 queries. users per second: 11700.2</pre>"
      ],
      "text/plain": [
       "recommendations finished on 220000/271425 queries. users per second: 11700.2"
      ]
     },
     "metadata": {},
     "output_type": "display_data"
    },
    {
     "data": {
      "text/html": [
       "<pre>recommendations finished on 221000/271425 queries. users per second: 11699.1</pre>"
      ],
      "text/plain": [
       "recommendations finished on 221000/271425 queries. users per second: 11699.1"
      ]
     },
     "metadata": {},
     "output_type": "display_data"
    },
    {
     "data": {
      "text/html": [
       "<pre>recommendations finished on 222000/271425 queries. users per second: 11721</pre>"
      ],
      "text/plain": [
       "recommendations finished on 222000/271425 queries. users per second: 11721"
      ]
     },
     "metadata": {},
     "output_type": "display_data"
    },
    {
     "data": {
      "text/html": [
       "<pre>recommendations finished on 223000/271425 queries. users per second: 11735.6</pre>"
      ],
      "text/plain": [
       "recommendations finished on 223000/271425 queries. users per second: 11735.6"
      ]
     },
     "metadata": {},
     "output_type": "display_data"
    },
    {
     "data": {
      "text/html": [
       "<pre>recommendations finished on 224000/271425 queries. users per second: 11757.9</pre>"
      ],
      "text/plain": [
       "recommendations finished on 224000/271425 queries. users per second: 11757.9"
      ]
     },
     "metadata": {},
     "output_type": "display_data"
    },
    {
     "data": {
      "text/html": [
       "<pre>recommendations finished on 225000/271425 queries. users per second: 11766</pre>"
      ],
      "text/plain": [
       "recommendations finished on 225000/271425 queries. users per second: 11766"
      ]
     },
     "metadata": {},
     "output_type": "display_data"
    },
    {
     "data": {
      "text/html": [
       "<pre>recommendations finished on 226000/271425 queries. users per second: 11772.5</pre>"
      ],
      "text/plain": [
       "recommendations finished on 226000/271425 queries. users per second: 11772.5"
      ]
     },
     "metadata": {},
     "output_type": "display_data"
    },
    {
     "data": {
      "text/html": [
       "<pre>recommendations finished on 227000/271425 queries. users per second: 11792.8</pre>"
      ],
      "text/plain": [
       "recommendations finished on 227000/271425 queries. users per second: 11792.8"
      ]
     },
     "metadata": {},
     "output_type": "display_data"
    },
    {
     "data": {
      "text/html": [
       "<pre>recommendations finished on 228000/271425 queries. users per second: 11821</pre>"
      ],
      "text/plain": [
       "recommendations finished on 228000/271425 queries. users per second: 11821"
      ]
     },
     "metadata": {},
     "output_type": "display_data"
    },
    {
     "data": {
      "text/html": [
       "<pre>recommendations finished on 229000/271425 queries. users per second: 11848.3</pre>"
      ],
      "text/plain": [
       "recommendations finished on 229000/271425 queries. users per second: 11848.3"
      ]
     },
     "metadata": {},
     "output_type": "display_data"
    },
    {
     "data": {
      "text/html": [
       "<pre>recommendations finished on 230000/271425 queries. users per second: 11865.6</pre>"
      ],
      "text/plain": [
       "recommendations finished on 230000/271425 queries. users per second: 11865.6"
      ]
     },
     "metadata": {},
     "output_type": "display_data"
    },
    {
     "data": {
      "text/html": [
       "<pre>recommendations finished on 231000/271425 queries. users per second: 11884</pre>"
      ],
      "text/plain": [
       "recommendations finished on 231000/271425 queries. users per second: 11884"
      ]
     },
     "metadata": {},
     "output_type": "display_data"
    },
    {
     "data": {
      "text/html": [
       "<pre>recommendations finished on 232000/271425 queries. users per second: 11902.2</pre>"
      ],
      "text/plain": [
       "recommendations finished on 232000/271425 queries. users per second: 11902.2"
      ]
     },
     "metadata": {},
     "output_type": "display_data"
    },
    {
     "data": {
      "text/html": [
       "<pre>recommendations finished on 233000/271425 queries. users per second: 11924</pre>"
      ],
      "text/plain": [
       "recommendations finished on 233000/271425 queries. users per second: 11924"
      ]
     },
     "metadata": {},
     "output_type": "display_data"
    },
    {
     "data": {
      "text/html": [
       "<pre>recommendations finished on 234000/271425 queries. users per second: 11933.2</pre>"
      ],
      "text/plain": [
       "recommendations finished on 234000/271425 queries. users per second: 11933.2"
      ]
     },
     "metadata": {},
     "output_type": "display_data"
    },
    {
     "data": {
      "text/html": [
       "<pre>recommendations finished on 235000/271425 queries. users per second: 11919</pre>"
      ],
      "text/plain": [
       "recommendations finished on 235000/271425 queries. users per second: 11919"
      ]
     },
     "metadata": {},
     "output_type": "display_data"
    },
    {
     "data": {
      "text/html": [
       "<pre>recommendations finished on 236000/271425 queries. users per second: 11904.4</pre>"
      ],
      "text/plain": [
       "recommendations finished on 236000/271425 queries. users per second: 11904.4"
      ]
     },
     "metadata": {},
     "output_type": "display_data"
    },
    {
     "data": {
      "text/html": [
       "<pre>recommendations finished on 237000/271425 queries. users per second: 11894.3</pre>"
      ],
      "text/plain": [
       "recommendations finished on 237000/271425 queries. users per second: 11894.3"
      ]
     },
     "metadata": {},
     "output_type": "display_data"
    },
    {
     "data": {
      "text/html": [
       "<pre>recommendations finished on 238000/271425 queries. users per second: 11898.5</pre>"
      ],
      "text/plain": [
       "recommendations finished on 238000/271425 queries. users per second: 11898.5"
      ]
     },
     "metadata": {},
     "output_type": "display_data"
    },
    {
     "data": {
      "text/html": [
       "<pre>recommendations finished on 239000/271425 queries. users per second: 11890.1</pre>"
      ],
      "text/plain": [
       "recommendations finished on 239000/271425 queries. users per second: 11890.1"
      ]
     },
     "metadata": {},
     "output_type": "display_data"
    },
    {
     "data": {
      "text/html": [
       "<pre>recommendations finished on 240000/271425 queries. users per second: 11893.7</pre>"
      ],
      "text/plain": [
       "recommendations finished on 240000/271425 queries. users per second: 11893.7"
      ]
     },
     "metadata": {},
     "output_type": "display_data"
    },
    {
     "data": {
      "text/html": [
       "<pre>recommendations finished on 241000/271425 queries. users per second: 11899.5</pre>"
      ],
      "text/plain": [
       "recommendations finished on 241000/271425 queries. users per second: 11899.5"
      ]
     },
     "metadata": {},
     "output_type": "display_data"
    },
    {
     "data": {
      "text/html": [
       "<pre>recommendations finished on 242000/271425 queries. users per second: 11908.5</pre>"
      ],
      "text/plain": [
       "recommendations finished on 242000/271425 queries. users per second: 11908.5"
      ]
     },
     "metadata": {},
     "output_type": "display_data"
    },
    {
     "data": {
      "text/html": [
       "<pre>recommendations finished on 243000/271425 queries. users per second: 11912.2</pre>"
      ],
      "text/plain": [
       "recommendations finished on 243000/271425 queries. users per second: 11912.2"
      ]
     },
     "metadata": {},
     "output_type": "display_data"
    },
    {
     "data": {
      "text/html": [
       "<pre>recommendations finished on 244000/271425 queries. users per second: 11879.4</pre>"
      ],
      "text/plain": [
       "recommendations finished on 244000/271425 queries. users per second: 11879.4"
      ]
     },
     "metadata": {},
     "output_type": "display_data"
    },
    {
     "data": {
      "text/html": [
       "<pre>recommendations finished on 245000/271425 queries. users per second: 11871.2</pre>"
      ],
      "text/plain": [
       "recommendations finished on 245000/271425 queries. users per second: 11871.2"
      ]
     },
     "metadata": {},
     "output_type": "display_data"
    },
    {
     "data": {
      "text/html": [
       "<pre>recommendations finished on 246000/271425 queries. users per second: 11856.6</pre>"
      ],
      "text/plain": [
       "recommendations finished on 246000/271425 queries. users per second: 11856.6"
      ]
     },
     "metadata": {},
     "output_type": "display_data"
    },
    {
     "data": {
      "text/html": [
       "<pre>recommendations finished on 247000/271425 queries. users per second: 11783.2</pre>"
      ],
      "text/plain": [
       "recommendations finished on 247000/271425 queries. users per second: 11783.2"
      ]
     },
     "metadata": {},
     "output_type": "display_data"
    },
    {
     "data": {
      "text/html": [
       "<pre>recommendations finished on 248000/271425 queries. users per second: 11689.9</pre>"
      ],
      "text/plain": [
       "recommendations finished on 248000/271425 queries. users per second: 11689.9"
      ]
     },
     "metadata": {},
     "output_type": "display_data"
    },
    {
     "data": {
      "text/html": [
       "<pre>recommendations finished on 249000/271425 queries. users per second: 11592.2</pre>"
      ],
      "text/plain": [
       "recommendations finished on 249000/271425 queries. users per second: 11592.2"
      ]
     },
     "metadata": {},
     "output_type": "display_data"
    },
    {
     "data": {
      "text/html": [
       "<pre>recommendations finished on 250000/271425 queries. users per second: 11492.7</pre>"
      ],
      "text/plain": [
       "recommendations finished on 250000/271425 queries. users per second: 11492.7"
      ]
     },
     "metadata": {},
     "output_type": "display_data"
    },
    {
     "data": {
      "text/html": [
       "<pre>recommendations finished on 251000/271425 queries. users per second: 11406</pre>"
      ],
      "text/plain": [
       "recommendations finished on 251000/271425 queries. users per second: 11406"
      ]
     },
     "metadata": {},
     "output_type": "display_data"
    },
    {
     "data": {
      "text/html": [
       "<pre>recommendations finished on 252000/271425 queries. users per second: 11063.4</pre>"
      ],
      "text/plain": [
       "recommendations finished on 252000/271425 queries. users per second: 11063.4"
      ]
     },
     "metadata": {},
     "output_type": "display_data"
    },
    {
     "data": {
      "text/html": [
       "<pre>recommendations finished on 253000/271425 queries. users per second: 10905.7</pre>"
      ],
      "text/plain": [
       "recommendations finished on 253000/271425 queries. users per second: 10905.7"
      ]
     },
     "metadata": {},
     "output_type": "display_data"
    },
    {
     "data": {
      "text/html": [
       "<pre>recommendations finished on 254000/271425 queries. users per second: 10846.5</pre>"
      ],
      "text/plain": [
       "recommendations finished on 254000/271425 queries. users per second: 10846.5"
      ]
     },
     "metadata": {},
     "output_type": "display_data"
    },
    {
     "data": {
      "text/html": [
       "<pre>recommendations finished on 255000/271425 queries. users per second: 10796.8</pre>"
      ],
      "text/plain": [
       "recommendations finished on 255000/271425 queries. users per second: 10796.8"
      ]
     },
     "metadata": {},
     "output_type": "display_data"
    },
    {
     "data": {
      "text/html": [
       "<pre>recommendations finished on 256000/271425 queries. users per second: 10726.7</pre>"
      ],
      "text/plain": [
       "recommendations finished on 256000/271425 queries. users per second: 10726.7"
      ]
     },
     "metadata": {},
     "output_type": "display_data"
    },
    {
     "data": {
      "text/html": [
       "<pre>recommendations finished on 257000/271425 queries. users per second: 10694</pre>"
      ],
      "text/plain": [
       "recommendations finished on 257000/271425 queries. users per second: 10694"
      ]
     },
     "metadata": {},
     "output_type": "display_data"
    },
    {
     "data": {
      "text/html": [
       "<pre>recommendations finished on 258000/271425 queries. users per second: 10653.5</pre>"
      ],
      "text/plain": [
       "recommendations finished on 258000/271425 queries. users per second: 10653.5"
      ]
     },
     "metadata": {},
     "output_type": "display_data"
    },
    {
     "data": {
      "text/html": [
       "<pre>recommendations finished on 259000/271425 queries. users per second: 10576.9</pre>"
      ],
      "text/plain": [
       "recommendations finished on 259000/271425 queries. users per second: 10576.9"
      ]
     },
     "metadata": {},
     "output_type": "display_data"
    },
    {
     "data": {
      "text/html": [
       "<pre>recommendations finished on 260000/271425 queries. users per second: 10494.2</pre>"
      ],
      "text/plain": [
       "recommendations finished on 260000/271425 queries. users per second: 10494.2"
      ]
     },
     "metadata": {},
     "output_type": "display_data"
    },
    {
     "data": {
      "text/html": [
       "<pre>recommendations finished on 261000/271425 queries. users per second: 10482</pre>"
      ],
      "text/plain": [
       "recommendations finished on 261000/271425 queries. users per second: 10482"
      ]
     },
     "metadata": {},
     "output_type": "display_data"
    },
    {
     "data": {
      "text/html": [
       "<pre>recommendations finished on 262000/271425 queries. users per second: 10480.2</pre>"
      ],
      "text/plain": [
       "recommendations finished on 262000/271425 queries. users per second: 10480.2"
      ]
     },
     "metadata": {},
     "output_type": "display_data"
    },
    {
     "data": {
      "text/html": [
       "<pre>recommendations finished on 263000/271425 queries. users per second: 10462.5</pre>"
      ],
      "text/plain": [
       "recommendations finished on 263000/271425 queries. users per second: 10462.5"
      ]
     },
     "metadata": {},
     "output_type": "display_data"
    },
    {
     "data": {
      "text/html": [
       "<pre>recommendations finished on 264000/271425 queries. users per second: 10450.6</pre>"
      ],
      "text/plain": [
       "recommendations finished on 264000/271425 queries. users per second: 10450.6"
      ]
     },
     "metadata": {},
     "output_type": "display_data"
    },
    {
     "data": {
      "text/html": [
       "<pre>recommendations finished on 265000/271425 queries. users per second: 10427.4</pre>"
      ],
      "text/plain": [
       "recommendations finished on 265000/271425 queries. users per second: 10427.4"
      ]
     },
     "metadata": {},
     "output_type": "display_data"
    },
    {
     "data": {
      "text/html": [
       "<pre>recommendations finished on 266000/271425 queries. users per second: 10377.1</pre>"
      ],
      "text/plain": [
       "recommendations finished on 266000/271425 queries. users per second: 10377.1"
      ]
     },
     "metadata": {},
     "output_type": "display_data"
    },
    {
     "data": {
      "text/html": [
       "<pre>recommendations finished on 267000/271425 queries. users per second: 10334.7</pre>"
      ],
      "text/plain": [
       "recommendations finished on 267000/271425 queries. users per second: 10334.7"
      ]
     },
     "metadata": {},
     "output_type": "display_data"
    },
    {
     "data": {
      "text/html": [
       "<pre>recommendations finished on 268000/271425 queries. users per second: 10306</pre>"
      ],
      "text/plain": [
       "recommendations finished on 268000/271425 queries. users per second: 10306"
      ]
     },
     "metadata": {},
     "output_type": "display_data"
    },
    {
     "data": {
      "text/html": [
       "<pre>recommendations finished on 269000/271425 queries. users per second: 10263.7</pre>"
      ],
      "text/plain": [
       "recommendations finished on 269000/271425 queries. users per second: 10263.7"
      ]
     },
     "metadata": {},
     "output_type": "display_data"
    },
    {
     "data": {
      "text/html": [
       "<pre>recommendations finished on 270000/271425 queries. users per second: 9431.22</pre>"
      ],
      "text/plain": [
       "recommendations finished on 270000/271425 queries. users per second: 9431.22"
      ]
     },
     "metadata": {},
     "output_type": "display_data"
    },
    {
     "data": {
      "text/html": [
       "<pre>recommendations finished on 271000/271425 queries. users per second: 8494.5</pre>"
      ],
      "text/plain": [
       "recommendations finished on 271000/271425 queries. users per second: 8494.5"
      ]
     },
     "metadata": {},
     "output_type": "display_data"
    },
    {
     "name": "stdout",
     "output_type": "stream",
     "text": [
      "+------------+-----------+--------------------+------+\n",
      "| CustomerID | StockCode |       score        | rank |\n",
      "+------------+-----------+--------------------+------+\n",
      "|  12346.0   |   22594   | 8.152214765548706  |  1   |\n",
      "|  12346.0   |   84880   | 7.8882445096969604 |  2   |\n",
      "|  12346.0   |   22095   |  7.78916072845459  |  3   |\n",
      "|  12346.0   |   84754   | 7.465125918388367  |  4   |\n",
      "|  12346.0   |   37501   | 6.441288352012634  |  5   |\n",
      "|  12346.0   |   84743C  | 6.186850905418396  |  6   |\n",
      "|  12346.0   |   84227   | 6.186850905418396  |  7   |\n",
      "|  12346.0   |   16053   | 5.9452842473983765 |  8   |\n",
      "|  12346.0   |   10134   | 5.9452842473983765 |  9   |\n",
      "|  12346.0   |   10123G  | 5.9452842473983765 |  10  |\n",
      "|  12347.0   |   22409   | 4.0637743791330205 |  1   |\n",
      "|  12347.0   |   23402   | 3.9533987045288086 |  2   |\n",
      "|  12347.0   |   20863   | 3.7330388814500233 |  3   |\n",
      "|  12347.0   |   20850   | 3.7330388814500233 |  4   |\n",
      "|  12347.0   |   20849   | 3.7330388814500233 |  5   |\n",
      "|  12347.0   |   20825   | 3.7330388814500233 |  6   |\n",
      "|  12347.0   |   20738   | 3.7202661917047593 |  7   |\n",
      "|  12347.0   |   16053   | 3.7040215342947582 |  8   |\n",
      "|  12347.0   |   17011A  | 3.698979671719005  |  9   |\n",
      "|  12347.0   |   20871   | 3.691443410891931  |  10  |\n",
      "|  12347.0   |   22409   | 4.0637743791330205 |  1   |\n",
      "|  12347.0   |   23402   | 3.9533987045288086 |  2   |\n",
      "|  12347.0   |   20863   | 3.7330388814500233 |  3   |\n",
      "|  12347.0   |   20850   | 3.7330388814500233 |  4   |\n",
      "|  12347.0   |   20849   | 3.7330388814500233 |  5   |\n",
      "|  12347.0   |   20825   | 3.7330388814500233 |  6   |\n",
      "|  12347.0   |   20738   | 3.7202661917047593 |  7   |\n",
      "|  12347.0   |   16053   | 3.7040215342947582 |  8   |\n",
      "|  12347.0   |   17011A  | 3.698979671719005  |  9   |\n",
      "|  12347.0   |   20871   | 3.691443410891931  |  10  |\n",
      "+------------+-----------+--------------------+------+\n",
      "[2714250 rows x 4 columns]\n",
      "\n"
     ]
    }
   ],
   "source": [
    "final_model = tc.item_similarity_recommender.create(tc.SFrame(data), \n",
    "                                            user_id=user_id, \n",
    "                                            item_id=item_id, \n",
    "                                            target=target, similarity_type='cosine')\n",
    "recom = final_model.recommend(users=users_to_recommend, k=n_rec)\n",
    "recom.print_rows(n_display)"
   ]
  },
  {
   "cell_type": "markdown",
   "metadata": {},
   "source": [
    "### Create output"
   ]
  },
  {
   "cell_type": "code",
   "execution_count": 20,
   "metadata": {},
   "outputs": [],
   "source": [
    "def create_output(model, users_to_recommend, n_rec, print_csv = True):\n",
    "    recommendation = model.recommend(users = users_to_recommend, k = n_rec)\n",
    "    df_rec = recommendation.to_dataframe()\n",
    "    df_rec['recommendedProducts'] = df_rec.groupby([user_id])[item_id].transform(lambda x: '|'.join(x.astype(str)))\n",
    "    df_output = df_rec[['CustomerID', 'recommendedProducts']].drop_duplicates().sort_values('CustomerID').set_index('CustomerID')\n",
    "    if print_csv:\n",
    "        df_output.to_csv('option1_recommendation.csv')\n",
    "        print(\"An output file can be found in 'output' folder with name 'option1_recommendation.csv'\")\n",
    "    return df_output"
   ]
  },
  {
   "cell_type": "code",
   "execution_count": 21,
   "metadata": {},
   "outputs": [
    {
     "data": {
      "text/html": [
       "<pre>recommendations finished on 1000/271425 queries. users per second: 24255.9</pre>"
      ],
      "text/plain": [
       "recommendations finished on 1000/271425 queries. users per second: 24255.9"
      ]
     },
     "metadata": {},
     "output_type": "display_data"
    },
    {
     "data": {
      "text/html": [
       "<pre>recommendations finished on 2000/271425 queries. users per second: 18870.4</pre>"
      ],
      "text/plain": [
       "recommendations finished on 2000/271425 queries. users per second: 18870.4"
      ]
     },
     "metadata": {},
     "output_type": "display_data"
    },
    {
     "data": {
      "text/html": [
       "<pre>recommendations finished on 3000/271425 queries. users per second: 14954.5</pre>"
      ],
      "text/plain": [
       "recommendations finished on 3000/271425 queries. users per second: 14954.5"
      ]
     },
     "metadata": {},
     "output_type": "display_data"
    },
    {
     "data": {
      "text/html": [
       "<pre>recommendations finished on 4000/271425 queries. users per second: 14929</pre>"
      ],
      "text/plain": [
       "recommendations finished on 4000/271425 queries. users per second: 14929"
      ]
     },
     "metadata": {},
     "output_type": "display_data"
    },
    {
     "data": {
      "text/html": [
       "<pre>recommendations finished on 5000/271425 queries. users per second: 14590.7</pre>"
      ],
      "text/plain": [
       "recommendations finished on 5000/271425 queries. users per second: 14590.7"
      ]
     },
     "metadata": {},
     "output_type": "display_data"
    },
    {
     "data": {
      "text/html": [
       "<pre>recommendations finished on 6000/271425 queries. users per second: 14032.7</pre>"
      ],
      "text/plain": [
       "recommendations finished on 6000/271425 queries. users per second: 14032.7"
      ]
     },
     "metadata": {},
     "output_type": "display_data"
    },
    {
     "data": {
      "text/html": [
       "<pre>recommendations finished on 7000/271425 queries. users per second: 13290.5</pre>"
      ],
      "text/plain": [
       "recommendations finished on 7000/271425 queries. users per second: 13290.5"
      ]
     },
     "metadata": {},
     "output_type": "display_data"
    },
    {
     "data": {
      "text/html": [
       "<pre>recommendations finished on 8000/271425 queries. users per second: 12220.6</pre>"
      ],
      "text/plain": [
       "recommendations finished on 8000/271425 queries. users per second: 12220.6"
      ]
     },
     "metadata": {},
     "output_type": "display_data"
    },
    {
     "data": {
      "text/html": [
       "<pre>recommendations finished on 9000/271425 queries. users per second: 11170.7</pre>"
      ],
      "text/plain": [
       "recommendations finished on 9000/271425 queries. users per second: 11170.7"
      ]
     },
     "metadata": {},
     "output_type": "display_data"
    },
    {
     "data": {
      "text/html": [
       "<pre>recommendations finished on 10000/271425 queries. users per second: 11072.6</pre>"
      ],
      "text/plain": [
       "recommendations finished on 10000/271425 queries. users per second: 11072.6"
      ]
     },
     "metadata": {},
     "output_type": "display_data"
    },
    {
     "data": {
      "text/html": [
       "<pre>recommendations finished on 11000/271425 queries. users per second: 11310.5</pre>"
      ],
      "text/plain": [
       "recommendations finished on 11000/271425 queries. users per second: 11310.5"
      ]
     },
     "metadata": {},
     "output_type": "display_data"
    },
    {
     "data": {
      "text/html": [
       "<pre>recommendations finished on 12000/271425 queries. users per second: 11257</pre>"
      ],
      "text/plain": [
       "recommendations finished on 12000/271425 queries. users per second: 11257"
      ]
     },
     "metadata": {},
     "output_type": "display_data"
    },
    {
     "data": {
      "text/html": [
       "<pre>recommendations finished on 13000/271425 queries. users per second: 11149.4</pre>"
      ],
      "text/plain": [
       "recommendations finished on 13000/271425 queries. users per second: 11149.4"
      ]
     },
     "metadata": {},
     "output_type": "display_data"
    },
    {
     "data": {
      "text/html": [
       "<pre>recommendations finished on 14000/271425 queries. users per second: 11093.4</pre>"
      ],
      "text/plain": [
       "recommendations finished on 14000/271425 queries. users per second: 11093.4"
      ]
     },
     "metadata": {},
     "output_type": "display_data"
    },
    {
     "data": {
      "text/html": [
       "<pre>recommendations finished on 15000/271425 queries. users per second: 11342.9</pre>"
      ],
      "text/plain": [
       "recommendations finished on 15000/271425 queries. users per second: 11342.9"
      ]
     },
     "metadata": {},
     "output_type": "display_data"
    },
    {
     "data": {
      "text/html": [
       "<pre>recommendations finished on 16000/271425 queries. users per second: 11430.8</pre>"
      ],
      "text/plain": [
       "recommendations finished on 16000/271425 queries. users per second: 11430.8"
      ]
     },
     "metadata": {},
     "output_type": "display_data"
    },
    {
     "data": {
      "text/html": [
       "<pre>recommendations finished on 17000/271425 queries. users per second: 11647.1</pre>"
      ],
      "text/plain": [
       "recommendations finished on 17000/271425 queries. users per second: 11647.1"
      ]
     },
     "metadata": {},
     "output_type": "display_data"
    },
    {
     "data": {
      "text/html": [
       "<pre>recommendations finished on 18000/271425 queries. users per second: 11806.7</pre>"
      ],
      "text/plain": [
       "recommendations finished on 18000/271425 queries. users per second: 11806.7"
      ]
     },
     "metadata": {},
     "output_type": "display_data"
    },
    {
     "data": {
      "text/html": [
       "<pre>recommendations finished on 19000/271425 queries. users per second: 11887.5</pre>"
      ],
      "text/plain": [
       "recommendations finished on 19000/271425 queries. users per second: 11887.5"
      ]
     },
     "metadata": {},
     "output_type": "display_data"
    },
    {
     "data": {
      "text/html": [
       "<pre>recommendations finished on 20000/271425 queries. users per second: 12053.7</pre>"
      ],
      "text/plain": [
       "recommendations finished on 20000/271425 queries. users per second: 12053.7"
      ]
     },
     "metadata": {},
     "output_type": "display_data"
    },
    {
     "data": {
      "text/html": [
       "<pre>recommendations finished on 21000/271425 queries. users per second: 12195.6</pre>"
      ],
      "text/plain": [
       "recommendations finished on 21000/271425 queries. users per second: 12195.6"
      ]
     },
     "metadata": {},
     "output_type": "display_data"
    },
    {
     "data": {
      "text/html": [
       "<pre>recommendations finished on 22000/271425 queries. users per second: 12217.6</pre>"
      ],
      "text/plain": [
       "recommendations finished on 22000/271425 queries. users per second: 12217.6"
      ]
     },
     "metadata": {},
     "output_type": "display_data"
    },
    {
     "data": {
      "text/html": [
       "<pre>recommendations finished on 23000/271425 queries. users per second: 12188.7</pre>"
      ],
      "text/plain": [
       "recommendations finished on 23000/271425 queries. users per second: 12188.7"
      ]
     },
     "metadata": {},
     "output_type": "display_data"
    },
    {
     "data": {
      "text/html": [
       "<pre>recommendations finished on 24000/271425 queries. users per second: 12133.8</pre>"
      ],
      "text/plain": [
       "recommendations finished on 24000/271425 queries. users per second: 12133.8"
      ]
     },
     "metadata": {},
     "output_type": "display_data"
    },
    {
     "data": {
      "text/html": [
       "<pre>recommendations finished on 25000/271425 queries. users per second: 12036.6</pre>"
      ],
      "text/plain": [
       "recommendations finished on 25000/271425 queries. users per second: 12036.6"
      ]
     },
     "metadata": {},
     "output_type": "display_data"
    },
    {
     "data": {
      "text/html": [
       "<pre>recommendations finished on 26000/271425 queries. users per second: 11925.8</pre>"
      ],
      "text/plain": [
       "recommendations finished on 26000/271425 queries. users per second: 11925.8"
      ]
     },
     "metadata": {},
     "output_type": "display_data"
    },
    {
     "data": {
      "text/html": [
       "<pre>recommendations finished on 27000/271425 queries. users per second: 11893.4</pre>"
      ],
      "text/plain": [
       "recommendations finished on 27000/271425 queries. users per second: 11893.4"
      ]
     },
     "metadata": {},
     "output_type": "display_data"
    },
    {
     "data": {
      "text/html": [
       "<pre>recommendations finished on 28000/271425 queries. users per second: 11954.9</pre>"
      ],
      "text/plain": [
       "recommendations finished on 28000/271425 queries. users per second: 11954.9"
      ]
     },
     "metadata": {},
     "output_type": "display_data"
    },
    {
     "data": {
      "text/html": [
       "<pre>recommendations finished on 29000/271425 queries. users per second: 12080</pre>"
      ],
      "text/plain": [
       "recommendations finished on 29000/271425 queries. users per second: 12080"
      ]
     },
     "metadata": {},
     "output_type": "display_data"
    },
    {
     "data": {
      "text/html": [
       "<pre>recommendations finished on 30000/271425 queries. users per second: 12186.7</pre>"
      ],
      "text/plain": [
       "recommendations finished on 30000/271425 queries. users per second: 12186.7"
      ]
     },
     "metadata": {},
     "output_type": "display_data"
    },
    {
     "data": {
      "text/html": [
       "<pre>recommendations finished on 31000/271425 queries. users per second: 11955.6</pre>"
      ],
      "text/plain": [
       "recommendations finished on 31000/271425 queries. users per second: 11955.6"
      ]
     },
     "metadata": {},
     "output_type": "display_data"
    },
    {
     "data": {
      "text/html": [
       "<pre>recommendations finished on 32000/271425 queries. users per second: 11789.3</pre>"
      ],
      "text/plain": [
       "recommendations finished on 32000/271425 queries. users per second: 11789.3"
      ]
     },
     "metadata": {},
     "output_type": "display_data"
    },
    {
     "data": {
      "text/html": [
       "<pre>recommendations finished on 33000/271425 queries. users per second: 11765.2</pre>"
      ],
      "text/plain": [
       "recommendations finished on 33000/271425 queries. users per second: 11765.2"
      ]
     },
     "metadata": {},
     "output_type": "display_data"
    },
    {
     "data": {
      "text/html": [
       "<pre>recommendations finished on 34000/271425 queries. users per second: 11860.9</pre>"
      ],
      "text/plain": [
       "recommendations finished on 34000/271425 queries. users per second: 11860.9"
      ]
     },
     "metadata": {},
     "output_type": "display_data"
    },
    {
     "data": {
      "text/html": [
       "<pre>recommendations finished on 35000/271425 queries. users per second: 11919.4</pre>"
      ],
      "text/plain": [
       "recommendations finished on 35000/271425 queries. users per second: 11919.4"
      ]
     },
     "metadata": {},
     "output_type": "display_data"
    },
    {
     "data": {
      "text/html": [
       "<pre>recommendations finished on 36000/271425 queries. users per second: 11842.2</pre>"
      ],
      "text/plain": [
       "recommendations finished on 36000/271425 queries. users per second: 11842.2"
      ]
     },
     "metadata": {},
     "output_type": "display_data"
    },
    {
     "data": {
      "text/html": [
       "<pre>recommendations finished on 37000/271425 queries. users per second: 11515.1</pre>"
      ],
      "text/plain": [
       "recommendations finished on 37000/271425 queries. users per second: 11515.1"
      ]
     },
     "metadata": {},
     "output_type": "display_data"
    },
    {
     "data": {
      "text/html": [
       "<pre>recommendations finished on 38000/271425 queries. users per second: 11484.3</pre>"
      ],
      "text/plain": [
       "recommendations finished on 38000/271425 queries. users per second: 11484.3"
      ]
     },
     "metadata": {},
     "output_type": "display_data"
    },
    {
     "data": {
      "text/html": [
       "<pre>recommendations finished on 39000/271425 queries. users per second: 11557.7</pre>"
      ],
      "text/plain": [
       "recommendations finished on 39000/271425 queries. users per second: 11557.7"
      ]
     },
     "metadata": {},
     "output_type": "display_data"
    },
    {
     "data": {
      "text/html": [
       "<pre>recommendations finished on 40000/271425 queries. users per second: 11609</pre>"
      ],
      "text/plain": [
       "recommendations finished on 40000/271425 queries. users per second: 11609"
      ]
     },
     "metadata": {},
     "output_type": "display_data"
    },
    {
     "data": {
      "text/html": [
       "<pre>recommendations finished on 41000/271425 queries. users per second: 11542.7</pre>"
      ],
      "text/plain": [
       "recommendations finished on 41000/271425 queries. users per second: 11542.7"
      ]
     },
     "metadata": {},
     "output_type": "display_data"
    },
    {
     "data": {
      "text/html": [
       "<pre>recommendations finished on 42000/271425 queries. users per second: 11373.7</pre>"
      ],
      "text/plain": [
       "recommendations finished on 42000/271425 queries. users per second: 11373.7"
      ]
     },
     "metadata": {},
     "output_type": "display_data"
    },
    {
     "data": {
      "text/html": [
       "<pre>recommendations finished on 43000/271425 queries. users per second: 11327.9</pre>"
      ],
      "text/plain": [
       "recommendations finished on 43000/271425 queries. users per second: 11327.9"
      ]
     },
     "metadata": {},
     "output_type": "display_data"
    },
    {
     "data": {
      "text/html": [
       "<pre>recommendations finished on 44000/271425 queries. users per second: 11395.6</pre>"
      ],
      "text/plain": [
       "recommendations finished on 44000/271425 queries. users per second: 11395.6"
      ]
     },
     "metadata": {},
     "output_type": "display_data"
    },
    {
     "data": {
      "text/html": [
       "<pre>recommendations finished on 45000/271425 queries. users per second: 11403.3</pre>"
      ],
      "text/plain": [
       "recommendations finished on 45000/271425 queries. users per second: 11403.3"
      ]
     },
     "metadata": {},
     "output_type": "display_data"
    },
    {
     "data": {
      "text/html": [
       "<pre>recommendations finished on 46000/271425 queries. users per second: 11470</pre>"
      ],
      "text/plain": [
       "recommendations finished on 46000/271425 queries. users per second: 11470"
      ]
     },
     "metadata": {},
     "output_type": "display_data"
    },
    {
     "data": {
      "text/html": [
       "<pre>recommendations finished on 47000/271425 queries. users per second: 11484</pre>"
      ],
      "text/plain": [
       "recommendations finished on 47000/271425 queries. users per second: 11484"
      ]
     },
     "metadata": {},
     "output_type": "display_data"
    },
    {
     "data": {
      "text/html": [
       "<pre>recommendations finished on 48000/271425 queries. users per second: 11485.1</pre>"
      ],
      "text/plain": [
       "recommendations finished on 48000/271425 queries. users per second: 11485.1"
      ]
     },
     "metadata": {},
     "output_type": "display_data"
    },
    {
     "data": {
      "text/html": [
       "<pre>recommendations finished on 49000/271425 queries. users per second: 11486.4</pre>"
      ],
      "text/plain": [
       "recommendations finished on 49000/271425 queries. users per second: 11486.4"
      ]
     },
     "metadata": {},
     "output_type": "display_data"
    },
    {
     "data": {
      "text/html": [
       "<pre>recommendations finished on 50000/271425 queries. users per second: 11515.8</pre>"
      ],
      "text/plain": [
       "recommendations finished on 50000/271425 queries. users per second: 11515.8"
      ]
     },
     "metadata": {},
     "output_type": "display_data"
    },
    {
     "data": {
      "text/html": [
       "<pre>recommendations finished on 51000/271425 queries. users per second: 11346.3</pre>"
      ],
      "text/plain": [
       "recommendations finished on 51000/271425 queries. users per second: 11346.3"
      ]
     },
     "metadata": {},
     "output_type": "display_data"
    },
    {
     "data": {
      "text/html": [
       "<pre>recommendations finished on 52000/271425 queries. users per second: 11355.7</pre>"
      ],
      "text/plain": [
       "recommendations finished on 52000/271425 queries. users per second: 11355.7"
      ]
     },
     "metadata": {},
     "output_type": "display_data"
    },
    {
     "data": {
      "text/html": [
       "<pre>recommendations finished on 53000/271425 queries. users per second: 11435.8</pre>"
      ],
      "text/plain": [
       "recommendations finished on 53000/271425 queries. users per second: 11435.8"
      ]
     },
     "metadata": {},
     "output_type": "display_data"
    },
    {
     "data": {
      "text/html": [
       "<pre>recommendations finished on 54000/271425 queries. users per second: 11499.4</pre>"
      ],
      "text/plain": [
       "recommendations finished on 54000/271425 queries. users per second: 11499.4"
      ]
     },
     "metadata": {},
     "output_type": "display_data"
    },
    {
     "data": {
      "text/html": [
       "<pre>recommendations finished on 55000/271425 queries. users per second: 11507.3</pre>"
      ],
      "text/plain": [
       "recommendations finished on 55000/271425 queries. users per second: 11507.3"
      ]
     },
     "metadata": {},
     "output_type": "display_data"
    },
    {
     "data": {
      "text/html": [
       "<pre>recommendations finished on 56000/271425 queries. users per second: 11551.4</pre>"
      ],
      "text/plain": [
       "recommendations finished on 56000/271425 queries. users per second: 11551.4"
      ]
     },
     "metadata": {},
     "output_type": "display_data"
    },
    {
     "data": {
      "text/html": [
       "<pre>recommendations finished on 57000/271425 queries. users per second: 11623</pre>"
      ],
      "text/plain": [
       "recommendations finished on 57000/271425 queries. users per second: 11623"
      ]
     },
     "metadata": {},
     "output_type": "display_data"
    },
    {
     "data": {
      "text/html": [
       "<pre>recommendations finished on 58000/271425 queries. users per second: 11666.3</pre>"
      ],
      "text/plain": [
       "recommendations finished on 58000/271425 queries. users per second: 11666.3"
      ]
     },
     "metadata": {},
     "output_type": "display_data"
    },
    {
     "data": {
      "text/html": [
       "<pre>recommendations finished on 59000/271425 queries. users per second: 11767.8</pre>"
      ],
      "text/plain": [
       "recommendations finished on 59000/271425 queries. users per second: 11767.8"
      ]
     },
     "metadata": {},
     "output_type": "display_data"
    },
    {
     "data": {
      "text/html": [
       "<pre>recommendations finished on 60000/271425 queries. users per second: 11785.1</pre>"
      ],
      "text/plain": [
       "recommendations finished on 60000/271425 queries. users per second: 11785.1"
      ]
     },
     "metadata": {},
     "output_type": "display_data"
    },
    {
     "data": {
      "text/html": [
       "<pre>recommendations finished on 61000/271425 queries. users per second: 11860</pre>"
      ],
      "text/plain": [
       "recommendations finished on 61000/271425 queries. users per second: 11860"
      ]
     },
     "metadata": {},
     "output_type": "display_data"
    },
    {
     "data": {
      "text/html": [
       "<pre>recommendations finished on 62000/271425 queries. users per second: 11926.6</pre>"
      ],
      "text/plain": [
       "recommendations finished on 62000/271425 queries. users per second: 11926.6"
      ]
     },
     "metadata": {},
     "output_type": "display_data"
    },
    {
     "data": {
      "text/html": [
       "<pre>recommendations finished on 63000/271425 queries. users per second: 11960.4</pre>"
      ],
      "text/plain": [
       "recommendations finished on 63000/271425 queries. users per second: 11960.4"
      ]
     },
     "metadata": {},
     "output_type": "display_data"
    },
    {
     "data": {
      "text/html": [
       "<pre>recommendations finished on 64000/271425 queries. users per second: 11999</pre>"
      ],
      "text/plain": [
       "recommendations finished on 64000/271425 queries. users per second: 11999"
      ]
     },
     "metadata": {},
     "output_type": "display_data"
    },
    {
     "data": {
      "text/html": [
       "<pre>recommendations finished on 65000/271425 queries. users per second: 12039.6</pre>"
      ],
      "text/plain": [
       "recommendations finished on 65000/271425 queries. users per second: 12039.6"
      ]
     },
     "metadata": {},
     "output_type": "display_data"
    },
    {
     "data": {
      "text/html": [
       "<pre>recommendations finished on 66000/271425 queries. users per second: 12092.9</pre>"
      ],
      "text/plain": [
       "recommendations finished on 66000/271425 queries. users per second: 12092.9"
      ]
     },
     "metadata": {},
     "output_type": "display_data"
    },
    {
     "data": {
      "text/html": [
       "<pre>recommendations finished on 67000/271425 queries. users per second: 12180</pre>"
      ],
      "text/plain": [
       "recommendations finished on 67000/271425 queries. users per second: 12180"
      ]
     },
     "metadata": {},
     "output_type": "display_data"
    },
    {
     "data": {
      "text/html": [
       "<pre>recommendations finished on 68000/271425 queries. users per second: 12233.3</pre>"
      ],
      "text/plain": [
       "recommendations finished on 68000/271425 queries. users per second: 12233.3"
      ]
     },
     "metadata": {},
     "output_type": "display_data"
    },
    {
     "data": {
      "text/html": [
       "<pre>recommendations finished on 69000/271425 queries. users per second: 12286.2</pre>"
      ],
      "text/plain": [
       "recommendations finished on 69000/271425 queries. users per second: 12286.2"
      ]
     },
     "metadata": {},
     "output_type": "display_data"
    },
    {
     "data": {
      "text/html": [
       "<pre>recommendations finished on 70000/271425 queries. users per second: 12337.4</pre>"
      ],
      "text/plain": [
       "recommendations finished on 70000/271425 queries. users per second: 12337.4"
      ]
     },
     "metadata": {},
     "output_type": "display_data"
    },
    {
     "data": {
      "text/html": [
       "<pre>recommendations finished on 71000/271425 queries. users per second: 12406.5</pre>"
      ],
      "text/plain": [
       "recommendations finished on 71000/271425 queries. users per second: 12406.5"
      ]
     },
     "metadata": {},
     "output_type": "display_data"
    },
    {
     "data": {
      "text/html": [
       "<pre>recommendations finished on 72000/271425 queries. users per second: 12480.6</pre>"
      ],
      "text/plain": [
       "recommendations finished on 72000/271425 queries. users per second: 12480.6"
      ]
     },
     "metadata": {},
     "output_type": "display_data"
    },
    {
     "data": {
      "text/html": [
       "<pre>recommendations finished on 73000/271425 queries. users per second: 12541.8</pre>"
      ],
      "text/plain": [
       "recommendations finished on 73000/271425 queries. users per second: 12541.8"
      ]
     },
     "metadata": {},
     "output_type": "display_data"
    },
    {
     "data": {
      "text/html": [
       "<pre>recommendations finished on 74000/271425 queries. users per second: 12622</pre>"
      ],
      "text/plain": [
       "recommendations finished on 74000/271425 queries. users per second: 12622"
      ]
     },
     "metadata": {},
     "output_type": "display_data"
    },
    {
     "data": {
      "text/html": [
       "<pre>recommendations finished on 75000/271425 queries. users per second: 12688.5</pre>"
      ],
      "text/plain": [
       "recommendations finished on 75000/271425 queries. users per second: 12688.5"
      ]
     },
     "metadata": {},
     "output_type": "display_data"
    },
    {
     "data": {
      "text/html": [
       "<pre>recommendations finished on 76000/271425 queries. users per second: 12735.3</pre>"
      ],
      "text/plain": [
       "recommendations finished on 76000/271425 queries. users per second: 12735.3"
      ]
     },
     "metadata": {},
     "output_type": "display_data"
    },
    {
     "data": {
      "text/html": [
       "<pre>recommendations finished on 77000/271425 queries. users per second: 12762.5</pre>"
      ],
      "text/plain": [
       "recommendations finished on 77000/271425 queries. users per second: 12762.5"
      ]
     },
     "metadata": {},
     "output_type": "display_data"
    },
    {
     "data": {
      "text/html": [
       "<pre>recommendations finished on 78000/271425 queries. users per second: 12782.9</pre>"
      ],
      "text/plain": [
       "recommendations finished on 78000/271425 queries. users per second: 12782.9"
      ]
     },
     "metadata": {},
     "output_type": "display_data"
    },
    {
     "data": {
      "text/html": [
       "<pre>recommendations finished on 79000/271425 queries. users per second: 12821.4</pre>"
      ],
      "text/plain": [
       "recommendations finished on 79000/271425 queries. users per second: 12821.4"
      ]
     },
     "metadata": {},
     "output_type": "display_data"
    },
    {
     "data": {
      "text/html": [
       "<pre>recommendations finished on 80000/271425 queries. users per second: 12711.1</pre>"
      ],
      "text/plain": [
       "recommendations finished on 80000/271425 queries. users per second: 12711.1"
      ]
     },
     "metadata": {},
     "output_type": "display_data"
    },
    {
     "data": {
      "text/html": [
       "<pre>recommendations finished on 81000/271425 queries. users per second: 12632.5</pre>"
      ],
      "text/plain": [
       "recommendations finished on 81000/271425 queries. users per second: 12632.5"
      ]
     },
     "metadata": {},
     "output_type": "display_data"
    },
    {
     "data": {
      "text/html": [
       "<pre>recommendations finished on 82000/271425 queries. users per second: 12643.8</pre>"
      ],
      "text/plain": [
       "recommendations finished on 82000/271425 queries. users per second: 12643.8"
      ]
     },
     "metadata": {},
     "output_type": "display_data"
    },
    {
     "data": {
      "text/html": [
       "<pre>recommendations finished on 83000/271425 queries. users per second: 12612</pre>"
      ],
      "text/plain": [
       "recommendations finished on 83000/271425 queries. users per second: 12612"
      ]
     },
     "metadata": {},
     "output_type": "display_data"
    },
    {
     "data": {
      "text/html": [
       "<pre>recommendations finished on 84000/271425 queries. users per second: 12633.3</pre>"
      ],
      "text/plain": [
       "recommendations finished on 84000/271425 queries. users per second: 12633.3"
      ]
     },
     "metadata": {},
     "output_type": "display_data"
    },
    {
     "data": {
      "text/html": [
       "<pre>recommendations finished on 85000/271425 queries. users per second: 12582.2</pre>"
      ],
      "text/plain": [
       "recommendations finished on 85000/271425 queries. users per second: 12582.2"
      ]
     },
     "metadata": {},
     "output_type": "display_data"
    },
    {
     "data": {
      "text/html": [
       "<pre>recommendations finished on 86000/271425 queries. users per second: 12483.4</pre>"
      ],
      "text/plain": [
       "recommendations finished on 86000/271425 queries. users per second: 12483.4"
      ]
     },
     "metadata": {},
     "output_type": "display_data"
    },
    {
     "data": {
      "text/html": [
       "<pre>recommendations finished on 87000/271425 queries. users per second: 12431.2</pre>"
      ],
      "text/plain": [
       "recommendations finished on 87000/271425 queries. users per second: 12431.2"
      ]
     },
     "metadata": {},
     "output_type": "display_data"
    },
    {
     "data": {
      "text/html": [
       "<pre>recommendations finished on 88000/271425 queries. users per second: 12322.1</pre>"
      ],
      "text/plain": [
       "recommendations finished on 88000/271425 queries. users per second: 12322.1"
      ]
     },
     "metadata": {},
     "output_type": "display_data"
    },
    {
     "data": {
      "text/html": [
       "<pre>recommendations finished on 89000/271425 queries. users per second: 12286.2</pre>"
      ],
      "text/plain": [
       "recommendations finished on 89000/271425 queries. users per second: 12286.2"
      ]
     },
     "metadata": {},
     "output_type": "display_data"
    },
    {
     "data": {
      "text/html": [
       "<pre>recommendations finished on 90000/271425 queries. users per second: 12251.2</pre>"
      ],
      "text/plain": [
       "recommendations finished on 90000/271425 queries. users per second: 12251.2"
      ]
     },
     "metadata": {},
     "output_type": "display_data"
    },
    {
     "data": {
      "text/html": [
       "<pre>recommendations finished on 91000/271425 queries. users per second: 12269.1</pre>"
      ],
      "text/plain": [
       "recommendations finished on 91000/271425 queries. users per second: 12269.1"
      ]
     },
     "metadata": {},
     "output_type": "display_data"
    },
    {
     "data": {
      "text/html": [
       "<pre>recommendations finished on 92000/271425 queries. users per second: 12246.5</pre>"
      ],
      "text/plain": [
       "recommendations finished on 92000/271425 queries. users per second: 12246.5"
      ]
     },
     "metadata": {},
     "output_type": "display_data"
    },
    {
     "data": {
      "text/html": [
       "<pre>recommendations finished on 93000/271425 queries. users per second: 12220.1</pre>"
      ],
      "text/plain": [
       "recommendations finished on 93000/271425 queries. users per second: 12220.1"
      ]
     },
     "metadata": {},
     "output_type": "display_data"
    },
    {
     "data": {
      "text/html": [
       "<pre>recommendations finished on 94000/271425 queries. users per second: 12130.6</pre>"
      ],
      "text/plain": [
       "recommendations finished on 94000/271425 queries. users per second: 12130.6"
      ]
     },
     "metadata": {},
     "output_type": "display_data"
    },
    {
     "data": {
      "text/html": [
       "<pre>recommendations finished on 95000/271425 queries. users per second: 12111.4</pre>"
      ],
      "text/plain": [
       "recommendations finished on 95000/271425 queries. users per second: 12111.4"
      ]
     },
     "metadata": {},
     "output_type": "display_data"
    },
    {
     "data": {
      "text/html": [
       "<pre>recommendations finished on 96000/271425 queries. users per second: 12118.4</pre>"
      ],
      "text/plain": [
       "recommendations finished on 96000/271425 queries. users per second: 12118.4"
      ]
     },
     "metadata": {},
     "output_type": "display_data"
    },
    {
     "data": {
      "text/html": [
       "<pre>recommendations finished on 97000/271425 queries. users per second: 12099.1</pre>"
      ],
      "text/plain": [
       "recommendations finished on 97000/271425 queries. users per second: 12099.1"
      ]
     },
     "metadata": {},
     "output_type": "display_data"
    },
    {
     "data": {
      "text/html": [
       "<pre>recommendations finished on 98000/271425 queries. users per second: 12115.8</pre>"
      ],
      "text/plain": [
       "recommendations finished on 98000/271425 queries. users per second: 12115.8"
      ]
     },
     "metadata": {},
     "output_type": "display_data"
    },
    {
     "data": {
      "text/html": [
       "<pre>recommendations finished on 99000/271425 queries. users per second: 12158.7</pre>"
      ],
      "text/plain": [
       "recommendations finished on 99000/271425 queries. users per second: 12158.7"
      ]
     },
     "metadata": {},
     "output_type": "display_data"
    },
    {
     "data": {
      "text/html": [
       "<pre>recommendations finished on 100000/271425 queries. users per second: 12182.4</pre>"
      ],
      "text/plain": [
       "recommendations finished on 100000/271425 queries. users per second: 12182.4"
      ]
     },
     "metadata": {},
     "output_type": "display_data"
    },
    {
     "data": {
      "text/html": [
       "<pre>recommendations finished on 101000/271425 queries. users per second: 12206.4</pre>"
      ],
      "text/plain": [
       "recommendations finished on 101000/271425 queries. users per second: 12206.4"
      ]
     },
     "metadata": {},
     "output_type": "display_data"
    },
    {
     "data": {
      "text/html": [
       "<pre>recommendations finished on 102000/271425 queries. users per second: 12240.7</pre>"
      ],
      "text/plain": [
       "recommendations finished on 102000/271425 queries. users per second: 12240.7"
      ]
     },
     "metadata": {},
     "output_type": "display_data"
    },
    {
     "data": {
      "text/html": [
       "<pre>recommendations finished on 103000/271425 queries. users per second: 12279.9</pre>"
      ],
      "text/plain": [
       "recommendations finished on 103000/271425 queries. users per second: 12279.9"
      ]
     },
     "metadata": {},
     "output_type": "display_data"
    },
    {
     "data": {
      "text/html": [
       "<pre>recommendations finished on 104000/271425 queries. users per second: 12315.3</pre>"
      ],
      "text/plain": [
       "recommendations finished on 104000/271425 queries. users per second: 12315.3"
      ]
     },
     "metadata": {},
     "output_type": "display_data"
    },
    {
     "data": {
      "text/html": [
       "<pre>recommendations finished on 105000/271425 queries. users per second: 12325.8</pre>"
      ],
      "text/plain": [
       "recommendations finished on 105000/271425 queries. users per second: 12325.8"
      ]
     },
     "metadata": {},
     "output_type": "display_data"
    },
    {
     "data": {
      "text/html": [
       "<pre>recommendations finished on 106000/271425 queries. users per second: 12331.9</pre>"
      ],
      "text/plain": [
       "recommendations finished on 106000/271425 queries. users per second: 12331.9"
      ]
     },
     "metadata": {},
     "output_type": "display_data"
    },
    {
     "data": {
      "text/html": [
       "<pre>recommendations finished on 107000/271425 queries. users per second: 12310.5</pre>"
      ],
      "text/plain": [
       "recommendations finished on 107000/271425 queries. users per second: 12310.5"
      ]
     },
     "metadata": {},
     "output_type": "display_data"
    },
    {
     "data": {
      "text/html": [
       "<pre>recommendations finished on 108000/271425 queries. users per second: 12329.5</pre>"
      ],
      "text/plain": [
       "recommendations finished on 108000/271425 queries. users per second: 12329.5"
      ]
     },
     "metadata": {},
     "output_type": "display_data"
    },
    {
     "data": {
      "text/html": [
       "<pre>recommendations finished on 109000/271425 queries. users per second: 12346</pre>"
      ],
      "text/plain": [
       "recommendations finished on 109000/271425 queries. users per second: 12346"
      ]
     },
     "metadata": {},
     "output_type": "display_data"
    },
    {
     "data": {
      "text/html": [
       "<pre>recommendations finished on 110000/271425 queries. users per second: 12344</pre>"
      ],
      "text/plain": [
       "recommendations finished on 110000/271425 queries. users per second: 12344"
      ]
     },
     "metadata": {},
     "output_type": "display_data"
    },
    {
     "data": {
      "text/html": [
       "<pre>recommendations finished on 111000/271425 queries. users per second: 12318.1</pre>"
      ],
      "text/plain": [
       "recommendations finished on 111000/271425 queries. users per second: 12318.1"
      ]
     },
     "metadata": {},
     "output_type": "display_data"
    },
    {
     "data": {
      "text/html": [
       "<pre>recommendations finished on 112000/271425 queries. users per second: 12288.5</pre>"
      ],
      "text/plain": [
       "recommendations finished on 112000/271425 queries. users per second: 12288.5"
      ]
     },
     "metadata": {},
     "output_type": "display_data"
    },
    {
     "data": {
      "text/html": [
       "<pre>recommendations finished on 113000/271425 queries. users per second: 12291</pre>"
      ],
      "text/plain": [
       "recommendations finished on 113000/271425 queries. users per second: 12291"
      ]
     },
     "metadata": {},
     "output_type": "display_data"
    },
    {
     "data": {
      "text/html": [
       "<pre>recommendations finished on 114000/271425 queries. users per second: 12293.4</pre>"
      ],
      "text/plain": [
       "recommendations finished on 114000/271425 queries. users per second: 12293.4"
      ]
     },
     "metadata": {},
     "output_type": "display_data"
    },
    {
     "data": {
      "text/html": [
       "<pre>recommendations finished on 115000/271425 queries. users per second: 12250</pre>"
      ],
      "text/plain": [
       "recommendations finished on 115000/271425 queries. users per second: 12250"
      ]
     },
     "metadata": {},
     "output_type": "display_data"
    },
    {
     "data": {
      "text/html": [
       "<pre>recommendations finished on 116000/271425 queries. users per second: 12248.6</pre>"
      ],
      "text/plain": [
       "recommendations finished on 116000/271425 queries. users per second: 12248.6"
      ]
     },
     "metadata": {},
     "output_type": "display_data"
    },
    {
     "data": {
      "text/html": [
       "<pre>recommendations finished on 117000/271425 queries. users per second: 12278.9</pre>"
      ],
      "text/plain": [
       "recommendations finished on 117000/271425 queries. users per second: 12278.9"
      ]
     },
     "metadata": {},
     "output_type": "display_data"
    },
    {
     "data": {
      "text/html": [
       "<pre>recommendations finished on 118000/271425 queries. users per second: 12295.1</pre>"
      ],
      "text/plain": [
       "recommendations finished on 118000/271425 queries. users per second: 12295.1"
      ]
     },
     "metadata": {},
     "output_type": "display_data"
    },
    {
     "data": {
      "text/html": [
       "<pre>recommendations finished on 119000/271425 queries. users per second: 12311.2</pre>"
      ],
      "text/plain": [
       "recommendations finished on 119000/271425 queries. users per second: 12311.2"
      ]
     },
     "metadata": {},
     "output_type": "display_data"
    },
    {
     "data": {
      "text/html": [
       "<pre>recommendations finished on 120000/271425 queries. users per second: 12301.9</pre>"
      ],
      "text/plain": [
       "recommendations finished on 120000/271425 queries. users per second: 12301.9"
      ]
     },
     "metadata": {},
     "output_type": "display_data"
    },
    {
     "data": {
      "text/html": [
       "<pre>recommendations finished on 121000/271425 queries. users per second: 12326.6</pre>"
      ],
      "text/plain": [
       "recommendations finished on 121000/271425 queries. users per second: 12326.6"
      ]
     },
     "metadata": {},
     "output_type": "display_data"
    },
    {
     "data": {
      "text/html": [
       "<pre>recommendations finished on 122000/271425 queries. users per second: 12355.5</pre>"
      ],
      "text/plain": [
       "recommendations finished on 122000/271425 queries. users per second: 12355.5"
      ]
     },
     "metadata": {},
     "output_type": "display_data"
    },
    {
     "data": {
      "text/html": [
       "<pre>recommendations finished on 123000/271425 queries. users per second: 12384.9</pre>"
      ],
      "text/plain": [
       "recommendations finished on 123000/271425 queries. users per second: 12384.9"
      ]
     },
     "metadata": {},
     "output_type": "display_data"
    },
    {
     "data": {
      "text/html": [
       "<pre>recommendations finished on 124000/271425 queries. users per second: 12397.6</pre>"
      ],
      "text/plain": [
       "recommendations finished on 124000/271425 queries. users per second: 12397.6"
      ]
     },
     "metadata": {},
     "output_type": "display_data"
    },
    {
     "data": {
      "text/html": [
       "<pre>recommendations finished on 125000/271425 queries. users per second: 12419.3</pre>"
      ],
      "text/plain": [
       "recommendations finished on 125000/271425 queries. users per second: 12419.3"
      ]
     },
     "metadata": {},
     "output_type": "display_data"
    },
    {
     "data": {
      "text/html": [
       "<pre>recommendations finished on 126000/271425 queries. users per second: 12433.5</pre>"
      ],
      "text/plain": [
       "recommendations finished on 126000/271425 queries. users per second: 12433.5"
      ]
     },
     "metadata": {},
     "output_type": "display_data"
    },
    {
     "data": {
      "text/html": [
       "<pre>recommendations finished on 127000/271425 queries. users per second: 12442.3</pre>"
      ],
      "text/plain": [
       "recommendations finished on 127000/271425 queries. users per second: 12442.3"
      ]
     },
     "metadata": {},
     "output_type": "display_data"
    },
    {
     "data": {
      "text/html": [
       "<pre>recommendations finished on 128000/271425 queries. users per second: 12483.9</pre>"
      ],
      "text/plain": [
       "recommendations finished on 128000/271425 queries. users per second: 12483.9"
      ]
     },
     "metadata": {},
     "output_type": "display_data"
    },
    {
     "data": {
      "text/html": [
       "<pre>recommendations finished on 129000/271425 queries. users per second: 12490.5</pre>"
      ],
      "text/plain": [
       "recommendations finished on 129000/271425 queries. users per second: 12490.5"
      ]
     },
     "metadata": {},
     "output_type": "display_data"
    },
    {
     "data": {
      "text/html": [
       "<pre>recommendations finished on 130000/271425 queries. users per second: 12488.4</pre>"
      ],
      "text/plain": [
       "recommendations finished on 130000/271425 queries. users per second: 12488.4"
      ]
     },
     "metadata": {},
     "output_type": "display_data"
    },
    {
     "data": {
      "text/html": [
       "<pre>recommendations finished on 131000/271425 queries. users per second: 12510.8</pre>"
      ],
      "text/plain": [
       "recommendations finished on 131000/271425 queries. users per second: 12510.8"
      ]
     },
     "metadata": {},
     "output_type": "display_data"
    },
    {
     "data": {
      "text/html": [
       "<pre>recommendations finished on 132000/271425 queries. users per second: 12533.5</pre>"
      ],
      "text/plain": [
       "recommendations finished on 132000/271425 queries. users per second: 12533.5"
      ]
     },
     "metadata": {},
     "output_type": "display_data"
    },
    {
     "data": {
      "text/html": [
       "<pre>recommendations finished on 133000/271425 queries. users per second: 12541.7</pre>"
      ],
      "text/plain": [
       "recommendations finished on 133000/271425 queries. users per second: 12541.7"
      ]
     },
     "metadata": {},
     "output_type": "display_data"
    },
    {
     "data": {
      "text/html": [
       "<pre>recommendations finished on 134000/271425 queries. users per second: 12583</pre>"
      ],
      "text/plain": [
       "recommendations finished on 134000/271425 queries. users per second: 12583"
      ]
     },
     "metadata": {},
     "output_type": "display_data"
    },
    {
     "data": {
      "text/html": [
       "<pre>recommendations finished on 135000/271425 queries. users per second: 12600.6</pre>"
      ],
      "text/plain": [
       "recommendations finished on 135000/271425 queries. users per second: 12600.6"
      ]
     },
     "metadata": {},
     "output_type": "display_data"
    },
    {
     "data": {
      "text/html": [
       "<pre>recommendations finished on 136000/271425 queries. users per second: 12638.3</pre>"
      ],
      "text/plain": [
       "recommendations finished on 136000/271425 queries. users per second: 12638.3"
      ]
     },
     "metadata": {},
     "output_type": "display_data"
    },
    {
     "data": {
      "text/html": [
       "<pre>recommendations finished on 137000/271425 queries. users per second: 12647.7</pre>"
      ],
      "text/plain": [
       "recommendations finished on 137000/271425 queries. users per second: 12647.7"
      ]
     },
     "metadata": {},
     "output_type": "display_data"
    },
    {
     "data": {
      "text/html": [
       "<pre>recommendations finished on 138000/271425 queries. users per second: 12684.9</pre>"
      ],
      "text/plain": [
       "recommendations finished on 138000/271425 queries. users per second: 12684.9"
      ]
     },
     "metadata": {},
     "output_type": "display_data"
    },
    {
     "data": {
      "text/html": [
       "<pre>recommendations finished on 139000/271425 queries. users per second: 12700.3</pre>"
      ],
      "text/plain": [
       "recommendations finished on 139000/271425 queries. users per second: 12700.3"
      ]
     },
     "metadata": {},
     "output_type": "display_data"
    },
    {
     "data": {
      "text/html": [
       "<pre>recommendations finished on 140000/271425 queries. users per second: 12699.4</pre>"
      ],
      "text/plain": [
       "recommendations finished on 140000/271425 queries. users per second: 12699.4"
      ]
     },
     "metadata": {},
     "output_type": "display_data"
    },
    {
     "data": {
      "text/html": [
       "<pre>recommendations finished on 141000/271425 queries. users per second: 12725.9</pre>"
      ],
      "text/plain": [
       "recommendations finished on 141000/271425 queries. users per second: 12725.9"
      ]
     },
     "metadata": {},
     "output_type": "display_data"
    },
    {
     "data": {
      "text/html": [
       "<pre>recommendations finished on 142000/271425 queries. users per second: 12760.8</pre>"
      ],
      "text/plain": [
       "recommendations finished on 142000/271425 queries. users per second: 12760.8"
      ]
     },
     "metadata": {},
     "output_type": "display_data"
    },
    {
     "data": {
      "text/html": [
       "<pre>recommendations finished on 143000/271425 queries. users per second: 12797.9</pre>"
      ],
      "text/plain": [
       "recommendations finished on 143000/271425 queries. users per second: 12797.9"
      ]
     },
     "metadata": {},
     "output_type": "display_data"
    },
    {
     "data": {
      "text/html": [
       "<pre>recommendations finished on 144000/271425 queries. users per second: 12805.7</pre>"
      ],
      "text/plain": [
       "recommendations finished on 144000/271425 queries. users per second: 12805.7"
      ]
     },
     "metadata": {},
     "output_type": "display_data"
    },
    {
     "data": {
      "text/html": [
       "<pre>recommendations finished on 145000/271425 queries. users per second: 12809.3</pre>"
      ],
      "text/plain": [
       "recommendations finished on 145000/271425 queries. users per second: 12809.3"
      ]
     },
     "metadata": {},
     "output_type": "display_data"
    },
    {
     "data": {
      "text/html": [
       "<pre>recommendations finished on 146000/271425 queries. users per second: 12827.8</pre>"
      ],
      "text/plain": [
       "recommendations finished on 146000/271425 queries. users per second: 12827.8"
      ]
     },
     "metadata": {},
     "output_type": "display_data"
    },
    {
     "data": {
      "text/html": [
       "<pre>recommendations finished on 147000/271425 queries. users per second: 12836.9</pre>"
      ],
      "text/plain": [
       "recommendations finished on 147000/271425 queries. users per second: 12836.9"
      ]
     },
     "metadata": {},
     "output_type": "display_data"
    },
    {
     "data": {
      "text/html": [
       "<pre>recommendations finished on 148000/271425 queries. users per second: 12825.3</pre>"
      ],
      "text/plain": [
       "recommendations finished on 148000/271425 queries. users per second: 12825.3"
      ]
     },
     "metadata": {},
     "output_type": "display_data"
    },
    {
     "data": {
      "text/html": [
       "<pre>recommendations finished on 149000/271425 queries. users per second: 12814.2</pre>"
      ],
      "text/plain": [
       "recommendations finished on 149000/271425 queries. users per second: 12814.2"
      ]
     },
     "metadata": {},
     "output_type": "display_data"
    },
    {
     "data": {
      "text/html": [
       "<pre>recommendations finished on 150000/271425 queries. users per second: 12844.9</pre>"
      ],
      "text/plain": [
       "recommendations finished on 150000/271425 queries. users per second: 12844.9"
      ]
     },
     "metadata": {},
     "output_type": "display_data"
    },
    {
     "data": {
      "text/html": [
       "<pre>recommendations finished on 151000/271425 queries. users per second: 12881.9</pre>"
      ],
      "text/plain": [
       "recommendations finished on 151000/271425 queries. users per second: 12881.9"
      ]
     },
     "metadata": {},
     "output_type": "display_data"
    },
    {
     "data": {
      "text/html": [
       "<pre>recommendations finished on 152000/271425 queries. users per second: 12920.3</pre>"
      ],
      "text/plain": [
       "recommendations finished on 152000/271425 queries. users per second: 12920.3"
      ]
     },
     "metadata": {},
     "output_type": "display_data"
    },
    {
     "data": {
      "text/html": [
       "<pre>recommendations finished on 153000/271425 queries. users per second: 12945.8</pre>"
      ],
      "text/plain": [
       "recommendations finished on 153000/271425 queries. users per second: 12945.8"
      ]
     },
     "metadata": {},
     "output_type": "display_data"
    },
    {
     "data": {
      "text/html": [
       "<pre>recommendations finished on 154000/271425 queries. users per second: 12970.9</pre>"
      ],
      "text/plain": [
       "recommendations finished on 154000/271425 queries. users per second: 12970.9"
      ]
     },
     "metadata": {},
     "output_type": "display_data"
    },
    {
     "data": {
      "text/html": [
       "<pre>recommendations finished on 155000/271425 queries. users per second: 12999.6</pre>"
      ],
      "text/plain": [
       "recommendations finished on 155000/271425 queries. users per second: 12999.6"
      ]
     },
     "metadata": {},
     "output_type": "display_data"
    },
    {
     "data": {
      "text/html": [
       "<pre>recommendations finished on 156000/271425 queries. users per second: 13031.7</pre>"
      ],
      "text/plain": [
       "recommendations finished on 156000/271425 queries. users per second: 13031.7"
      ]
     },
     "metadata": {},
     "output_type": "display_data"
    },
    {
     "data": {
      "text/html": [
       "<pre>recommendations finished on 157000/271425 queries. users per second: 13068.2</pre>"
      ],
      "text/plain": [
       "recommendations finished on 157000/271425 queries. users per second: 13068.2"
      ]
     },
     "metadata": {},
     "output_type": "display_data"
    },
    {
     "data": {
      "text/html": [
       "<pre>recommendations finished on 158000/271425 queries. users per second: 13094.5</pre>"
      ],
      "text/plain": [
       "recommendations finished on 158000/271425 queries. users per second: 13094.5"
      ]
     },
     "metadata": {},
     "output_type": "display_data"
    },
    {
     "data": {
      "text/html": [
       "<pre>recommendations finished on 159000/271425 queries. users per second: 13119.3</pre>"
      ],
      "text/plain": [
       "recommendations finished on 159000/271425 queries. users per second: 13119.3"
      ]
     },
     "metadata": {},
     "output_type": "display_data"
    },
    {
     "data": {
      "text/html": [
       "<pre>recommendations finished on 160000/271425 queries. users per second: 13144.7</pre>"
      ],
      "text/plain": [
       "recommendations finished on 160000/271425 queries. users per second: 13144.7"
      ]
     },
     "metadata": {},
     "output_type": "display_data"
    },
    {
     "data": {
      "text/html": [
       "<pre>recommendations finished on 161000/271425 queries. users per second: 13149</pre>"
      ],
      "text/plain": [
       "recommendations finished on 161000/271425 queries. users per second: 13149"
      ]
     },
     "metadata": {},
     "output_type": "display_data"
    },
    {
     "data": {
      "text/html": [
       "<pre>recommendations finished on 162000/271425 queries. users per second: 13140.5</pre>"
      ],
      "text/plain": [
       "recommendations finished on 162000/271425 queries. users per second: 13140.5"
      ]
     },
     "metadata": {},
     "output_type": "display_data"
    },
    {
     "data": {
      "text/html": [
       "<pre>recommendations finished on 163000/271425 queries. users per second: 13106.2</pre>"
      ],
      "text/plain": [
       "recommendations finished on 163000/271425 queries. users per second: 13106.2"
      ]
     },
     "metadata": {},
     "output_type": "display_data"
    },
    {
     "data": {
      "text/html": [
       "<pre>recommendations finished on 164000/271425 queries. users per second: 13103.3</pre>"
      ],
      "text/plain": [
       "recommendations finished on 164000/271425 queries. users per second: 13103.3"
      ]
     },
     "metadata": {},
     "output_type": "display_data"
    },
    {
     "data": {
      "text/html": [
       "<pre>recommendations finished on 165000/271425 queries. users per second: 13103.7</pre>"
      ],
      "text/plain": [
       "recommendations finished on 165000/271425 queries. users per second: 13103.7"
      ]
     },
     "metadata": {},
     "output_type": "display_data"
    },
    {
     "data": {
      "text/html": [
       "<pre>recommendations finished on 166000/271425 queries. users per second: 13124.8</pre>"
      ],
      "text/plain": [
       "recommendations finished on 166000/271425 queries. users per second: 13124.8"
      ]
     },
     "metadata": {},
     "output_type": "display_data"
    },
    {
     "data": {
      "text/html": [
       "<pre>recommendations finished on 167000/271425 queries. users per second: 13132.6</pre>"
      ],
      "text/plain": [
       "recommendations finished on 167000/271425 queries. users per second: 13132.6"
      ]
     },
     "metadata": {},
     "output_type": "display_data"
    },
    {
     "data": {
      "text/html": [
       "<pre>recommendations finished on 168000/271425 queries. users per second: 13137.5</pre>"
      ],
      "text/plain": [
       "recommendations finished on 168000/271425 queries. users per second: 13137.5"
      ]
     },
     "metadata": {},
     "output_type": "display_data"
    },
    {
     "data": {
      "text/html": [
       "<pre>recommendations finished on 169000/271425 queries. users per second: 13150.9</pre>"
      ],
      "text/plain": [
       "recommendations finished on 169000/271425 queries. users per second: 13150.9"
      ]
     },
     "metadata": {},
     "output_type": "display_data"
    },
    {
     "data": {
      "text/html": [
       "<pre>recommendations finished on 170000/271425 queries. users per second: 13177.5</pre>"
      ],
      "text/plain": [
       "recommendations finished on 170000/271425 queries. users per second: 13177.5"
      ]
     },
     "metadata": {},
     "output_type": "display_data"
    },
    {
     "data": {
      "text/html": [
       "<pre>recommendations finished on 171000/271425 queries. users per second: 13199.5</pre>"
      ],
      "text/plain": [
       "recommendations finished on 171000/271425 queries. users per second: 13199.5"
      ]
     },
     "metadata": {},
     "output_type": "display_data"
    },
    {
     "data": {
      "text/html": [
       "<pre>recommendations finished on 172000/271425 queries. users per second: 13220.3</pre>"
      ],
      "text/plain": [
       "recommendations finished on 172000/271425 queries. users per second: 13220.3"
      ]
     },
     "metadata": {},
     "output_type": "display_data"
    },
    {
     "data": {
      "text/html": [
       "<pre>recommendations finished on 173000/271425 queries. users per second: 13221.3</pre>"
      ],
      "text/plain": [
       "recommendations finished on 173000/271425 queries. users per second: 13221.3"
      ]
     },
     "metadata": {},
     "output_type": "display_data"
    },
    {
     "data": {
      "text/html": [
       "<pre>recommendations finished on 174000/271425 queries. users per second: 13213.6</pre>"
      ],
      "text/plain": [
       "recommendations finished on 174000/271425 queries. users per second: 13213.6"
      ]
     },
     "metadata": {},
     "output_type": "display_data"
    },
    {
     "data": {
      "text/html": [
       "<pre>recommendations finished on 175000/271425 queries. users per second: 13203.8</pre>"
      ],
      "text/plain": [
       "recommendations finished on 175000/271425 queries. users per second: 13203.8"
      ]
     },
     "metadata": {},
     "output_type": "display_data"
    },
    {
     "data": {
      "text/html": [
       "<pre>recommendations finished on 176000/271425 queries. users per second: 13204.8</pre>"
      ],
      "text/plain": [
       "recommendations finished on 176000/271425 queries. users per second: 13204.8"
      ]
     },
     "metadata": {},
     "output_type": "display_data"
    },
    {
     "data": {
      "text/html": [
       "<pre>recommendations finished on 177000/271425 queries. users per second: 13210.8</pre>"
      ],
      "text/plain": [
       "recommendations finished on 177000/271425 queries. users per second: 13210.8"
      ]
     },
     "metadata": {},
     "output_type": "display_data"
    },
    {
     "data": {
      "text/html": [
       "<pre>recommendations finished on 178000/271425 queries. users per second: 13218.5</pre>"
      ],
      "text/plain": [
       "recommendations finished on 178000/271425 queries. users per second: 13218.5"
      ]
     },
     "metadata": {},
     "output_type": "display_data"
    },
    {
     "data": {
      "text/html": [
       "<pre>recommendations finished on 179000/271425 queries. users per second: 13239.7</pre>"
      ],
      "text/plain": [
       "recommendations finished on 179000/271425 queries. users per second: 13239.7"
      ]
     },
     "metadata": {},
     "output_type": "display_data"
    },
    {
     "data": {
      "text/html": [
       "<pre>recommendations finished on 180000/271425 queries. users per second: 13261.4</pre>"
      ],
      "text/plain": [
       "recommendations finished on 180000/271425 queries. users per second: 13261.4"
      ]
     },
     "metadata": {},
     "output_type": "display_data"
    },
    {
     "data": {
      "text/html": [
       "<pre>recommendations finished on 181000/271425 queries. users per second: 13279.5</pre>"
      ],
      "text/plain": [
       "recommendations finished on 181000/271425 queries. users per second: 13279.5"
      ]
     },
     "metadata": {},
     "output_type": "display_data"
    },
    {
     "data": {
      "text/html": [
       "<pre>recommendations finished on 182000/271425 queries. users per second: 13272.6</pre>"
      ],
      "text/plain": [
       "recommendations finished on 182000/271425 queries. users per second: 13272.6"
      ]
     },
     "metadata": {},
     "output_type": "display_data"
    },
    {
     "data": {
      "text/html": [
       "<pre>recommendations finished on 183000/271425 queries. users per second: 13263.9</pre>"
      ],
      "text/plain": [
       "recommendations finished on 183000/271425 queries. users per second: 13263.9"
      ]
     },
     "metadata": {},
     "output_type": "display_data"
    },
    {
     "data": {
      "text/html": [
       "<pre>recommendations finished on 184000/271425 queries. users per second: 13274.6</pre>"
      ],
      "text/plain": [
       "recommendations finished on 184000/271425 queries. users per second: 13274.6"
      ]
     },
     "metadata": {},
     "output_type": "display_data"
    },
    {
     "data": {
      "text/html": [
       "<pre>recommendations finished on 185000/271425 queries. users per second: 13273.3</pre>"
      ],
      "text/plain": [
       "recommendations finished on 185000/271425 queries. users per second: 13273.3"
      ]
     },
     "metadata": {},
     "output_type": "display_data"
    },
    {
     "data": {
      "text/html": [
       "<pre>recommendations finished on 186000/271425 queries. users per second: 13296.5</pre>"
      ],
      "text/plain": [
       "recommendations finished on 186000/271425 queries. users per second: 13296.5"
      ]
     },
     "metadata": {},
     "output_type": "display_data"
    },
    {
     "data": {
      "text/html": [
       "<pre>recommendations finished on 187000/271425 queries. users per second: 13320.1</pre>"
      ],
      "text/plain": [
       "recommendations finished on 187000/271425 queries. users per second: 13320.1"
      ]
     },
     "metadata": {},
     "output_type": "display_data"
    },
    {
     "data": {
      "text/html": [
       "<pre>recommendations finished on 188000/271425 queries. users per second: 13329.1</pre>"
      ],
      "text/plain": [
       "recommendations finished on 188000/271425 queries. users per second: 13329.1"
      ]
     },
     "metadata": {},
     "output_type": "display_data"
    },
    {
     "data": {
      "text/html": [
       "<pre>recommendations finished on 189000/271425 queries. users per second: 13333.1</pre>"
      ],
      "text/plain": [
       "recommendations finished on 189000/271425 queries. users per second: 13333.1"
      ]
     },
     "metadata": {},
     "output_type": "display_data"
    },
    {
     "data": {
      "text/html": [
       "<pre>recommendations finished on 190000/271425 queries. users per second: 13357.9</pre>"
      ],
      "text/plain": [
       "recommendations finished on 190000/271425 queries. users per second: 13357.9"
      ]
     },
     "metadata": {},
     "output_type": "display_data"
    },
    {
     "data": {
      "text/html": [
       "<pre>recommendations finished on 191000/271425 queries. users per second: 13376.8</pre>"
      ],
      "text/plain": [
       "recommendations finished on 191000/271425 queries. users per second: 13376.8"
      ]
     },
     "metadata": {},
     "output_type": "display_data"
    },
    {
     "data": {
      "text/html": [
       "<pre>recommendations finished on 192000/271425 queries. users per second: 13405.1</pre>"
      ],
      "text/plain": [
       "recommendations finished on 192000/271425 queries. users per second: 13405.1"
      ]
     },
     "metadata": {},
     "output_type": "display_data"
    },
    {
     "data": {
      "text/html": [
       "<pre>recommendations finished on 193000/271425 queries. users per second: 13418.4</pre>"
      ],
      "text/plain": [
       "recommendations finished on 193000/271425 queries. users per second: 13418.4"
      ]
     },
     "metadata": {},
     "output_type": "display_data"
    },
    {
     "data": {
      "text/html": [
       "<pre>recommendations finished on 194000/271425 queries. users per second: 13373.9</pre>"
      ],
      "text/plain": [
       "recommendations finished on 194000/271425 queries. users per second: 13373.9"
      ]
     },
     "metadata": {},
     "output_type": "display_data"
    },
    {
     "data": {
      "text/html": [
       "<pre>recommendations finished on 195000/271425 queries. users per second: 13380.8</pre>"
      ],
      "text/plain": [
       "recommendations finished on 195000/271425 queries. users per second: 13380.8"
      ]
     },
     "metadata": {},
     "output_type": "display_data"
    },
    {
     "data": {
      "text/html": [
       "<pre>recommendations finished on 196000/271425 queries. users per second: 13395.2</pre>"
      ],
      "text/plain": [
       "recommendations finished on 196000/271425 queries. users per second: 13395.2"
      ]
     },
     "metadata": {},
     "output_type": "display_data"
    },
    {
     "data": {
      "text/html": [
       "<pre>recommendations finished on 197000/271425 queries. users per second: 13409</pre>"
      ],
      "text/plain": [
       "recommendations finished on 197000/271425 queries. users per second: 13409"
      ]
     },
     "metadata": {},
     "output_type": "display_data"
    },
    {
     "data": {
      "text/html": [
       "<pre>recommendations finished on 198000/271425 queries. users per second: 13417.5</pre>"
      ],
      "text/plain": [
       "recommendations finished on 198000/271425 queries. users per second: 13417.5"
      ]
     },
     "metadata": {},
     "output_type": "display_data"
    },
    {
     "data": {
      "text/html": [
       "<pre>recommendations finished on 199000/271425 queries. users per second: 13418.3</pre>"
      ],
      "text/plain": [
       "recommendations finished on 199000/271425 queries. users per second: 13418.3"
      ]
     },
     "metadata": {},
     "output_type": "display_data"
    },
    {
     "data": {
      "text/html": [
       "<pre>recommendations finished on 200000/271425 queries. users per second: 13421.2</pre>"
      ],
      "text/plain": [
       "recommendations finished on 200000/271425 queries. users per second: 13421.2"
      ]
     },
     "metadata": {},
     "output_type": "display_data"
    },
    {
     "data": {
      "text/html": [
       "<pre>recommendations finished on 201000/271425 queries. users per second: 13451.5</pre>"
      ],
      "text/plain": [
       "recommendations finished on 201000/271425 queries. users per second: 13451.5"
      ]
     },
     "metadata": {},
     "output_type": "display_data"
    },
    {
     "data": {
      "text/html": [
       "<pre>recommendations finished on 202000/271425 queries. users per second: 13468.1</pre>"
      ],
      "text/plain": [
       "recommendations finished on 202000/271425 queries. users per second: 13468.1"
      ]
     },
     "metadata": {},
     "output_type": "display_data"
    },
    {
     "data": {
      "text/html": [
       "<pre>recommendations finished on 203000/271425 queries. users per second: 13489</pre>"
      ],
      "text/plain": [
       "recommendations finished on 203000/271425 queries. users per second: 13489"
      ]
     },
     "metadata": {},
     "output_type": "display_data"
    },
    {
     "data": {
      "text/html": [
       "<pre>recommendations finished on 204000/271425 queries. users per second: 13477.8</pre>"
      ],
      "text/plain": [
       "recommendations finished on 204000/271425 queries. users per second: 13477.8"
      ]
     },
     "metadata": {},
     "output_type": "display_data"
    },
    {
     "data": {
      "text/html": [
       "<pre>recommendations finished on 205000/271425 queries. users per second: 13459.3</pre>"
      ],
      "text/plain": [
       "recommendations finished on 205000/271425 queries. users per second: 13459.3"
      ]
     },
     "metadata": {},
     "output_type": "display_data"
    },
    {
     "data": {
      "text/html": [
       "<pre>recommendations finished on 206000/271425 queries. users per second: 13432.4</pre>"
      ],
      "text/plain": [
       "recommendations finished on 206000/271425 queries. users per second: 13432.4"
      ]
     },
     "metadata": {},
     "output_type": "display_data"
    },
    {
     "data": {
      "text/html": [
       "<pre>recommendations finished on 207000/271425 queries. users per second: 13400.4</pre>"
      ],
      "text/plain": [
       "recommendations finished on 207000/271425 queries. users per second: 13400.4"
      ]
     },
     "metadata": {},
     "output_type": "display_data"
    },
    {
     "data": {
      "text/html": [
       "<pre>recommendations finished on 208000/271425 queries. users per second: 13344.3</pre>"
      ],
      "text/plain": [
       "recommendations finished on 208000/271425 queries. users per second: 13344.3"
      ]
     },
     "metadata": {},
     "output_type": "display_data"
    },
    {
     "data": {
      "text/html": [
       "<pre>recommendations finished on 209000/271425 queries. users per second: 13335.4</pre>"
      ],
      "text/plain": [
       "recommendations finished on 209000/271425 queries. users per second: 13335.4"
      ]
     },
     "metadata": {},
     "output_type": "display_data"
    },
    {
     "data": {
      "text/html": [
       "<pre>recommendations finished on 210000/271425 queries. users per second: 13351.4</pre>"
      ],
      "text/plain": [
       "recommendations finished on 210000/271425 queries. users per second: 13351.4"
      ]
     },
     "metadata": {},
     "output_type": "display_data"
    },
    {
     "data": {
      "text/html": [
       "<pre>recommendations finished on 211000/271425 queries. users per second: 13366.4</pre>"
      ],
      "text/plain": [
       "recommendations finished on 211000/271425 queries. users per second: 13366.4"
      ]
     },
     "metadata": {},
     "output_type": "display_data"
    },
    {
     "data": {
      "text/html": [
       "<pre>recommendations finished on 212000/271425 queries. users per second: 13351</pre>"
      ],
      "text/plain": [
       "recommendations finished on 212000/271425 queries. users per second: 13351"
      ]
     },
     "metadata": {},
     "output_type": "display_data"
    },
    {
     "data": {
      "text/html": [
       "<pre>recommendations finished on 213000/271425 queries. users per second: 13380.9</pre>"
      ],
      "text/plain": [
       "recommendations finished on 213000/271425 queries. users per second: 13380.9"
      ]
     },
     "metadata": {},
     "output_type": "display_data"
    },
    {
     "data": {
      "text/html": [
       "<pre>recommendations finished on 214000/271425 queries. users per second: 13383.8</pre>"
      ],
      "text/plain": [
       "recommendations finished on 214000/271425 queries. users per second: 13383.8"
      ]
     },
     "metadata": {},
     "output_type": "display_data"
    },
    {
     "data": {
      "text/html": [
       "<pre>recommendations finished on 215000/271425 queries. users per second: 13389.4</pre>"
      ],
      "text/plain": [
       "recommendations finished on 215000/271425 queries. users per second: 13389.4"
      ]
     },
     "metadata": {},
     "output_type": "display_data"
    },
    {
     "data": {
      "text/html": [
       "<pre>recommendations finished on 216000/271425 queries. users per second: 13400.9</pre>"
      ],
      "text/plain": [
       "recommendations finished on 216000/271425 queries. users per second: 13400.9"
      ]
     },
     "metadata": {},
     "output_type": "display_data"
    },
    {
     "data": {
      "text/html": [
       "<pre>recommendations finished on 217000/271425 queries. users per second: 13403.6</pre>"
      ],
      "text/plain": [
       "recommendations finished on 217000/271425 queries. users per second: 13403.6"
      ]
     },
     "metadata": {},
     "output_type": "display_data"
    },
    {
     "data": {
      "text/html": [
       "<pre>recommendations finished on 218000/271425 queries. users per second: 13390.2</pre>"
      ],
      "text/plain": [
       "recommendations finished on 218000/271425 queries. users per second: 13390.2"
      ]
     },
     "metadata": {},
     "output_type": "display_data"
    },
    {
     "data": {
      "text/html": [
       "<pre>recommendations finished on 219000/271425 queries. users per second: 13339.4</pre>"
      ],
      "text/plain": [
       "recommendations finished on 219000/271425 queries. users per second: 13339.4"
      ]
     },
     "metadata": {},
     "output_type": "display_data"
    },
    {
     "data": {
      "text/html": [
       "<pre>recommendations finished on 220000/271425 queries. users per second: 13301.3</pre>"
      ],
      "text/plain": [
       "recommendations finished on 220000/271425 queries. users per second: 13301.3"
      ]
     },
     "metadata": {},
     "output_type": "display_data"
    },
    {
     "data": {
      "text/html": [
       "<pre>recommendations finished on 221000/271425 queries. users per second: 13325.5</pre>"
      ],
      "text/plain": [
       "recommendations finished on 221000/271425 queries. users per second: 13325.5"
      ]
     },
     "metadata": {},
     "output_type": "display_data"
    },
    {
     "data": {
      "text/html": [
       "<pre>recommendations finished on 222000/271425 queries. users per second: 13333.7</pre>"
      ],
      "text/plain": [
       "recommendations finished on 222000/271425 queries. users per second: 13333.7"
      ]
     },
     "metadata": {},
     "output_type": "display_data"
    },
    {
     "data": {
      "text/html": [
       "<pre>recommendations finished on 223000/271425 queries. users per second: 13331.2</pre>"
      ],
      "text/plain": [
       "recommendations finished on 223000/271425 queries. users per second: 13331.2"
      ]
     },
     "metadata": {},
     "output_type": "display_data"
    },
    {
     "data": {
      "text/html": [
       "<pre>recommendations finished on 224000/271425 queries. users per second: 13352.6</pre>"
      ],
      "text/plain": [
       "recommendations finished on 224000/271425 queries. users per second: 13352.6"
      ]
     },
     "metadata": {},
     "output_type": "display_data"
    },
    {
     "data": {
      "text/html": [
       "<pre>recommendations finished on 225000/271425 queries. users per second: 13370.7</pre>"
      ],
      "text/plain": [
       "recommendations finished on 225000/271425 queries. users per second: 13370.7"
      ]
     },
     "metadata": {},
     "output_type": "display_data"
    },
    {
     "data": {
      "text/html": [
       "<pre>recommendations finished on 226000/271425 queries. users per second: 13391.7</pre>"
      ],
      "text/plain": [
       "recommendations finished on 226000/271425 queries. users per second: 13391.7"
      ]
     },
     "metadata": {},
     "output_type": "display_data"
    },
    {
     "data": {
      "text/html": [
       "<pre>recommendations finished on 227000/271425 queries. users per second: 13397.4</pre>"
      ],
      "text/plain": [
       "recommendations finished on 227000/271425 queries. users per second: 13397.4"
      ]
     },
     "metadata": {},
     "output_type": "display_data"
    },
    {
     "data": {
      "text/html": [
       "<pre>recommendations finished on 228000/271425 queries. users per second: 13421</pre>"
      ],
      "text/plain": [
       "recommendations finished on 228000/271425 queries. users per second: 13421"
      ]
     },
     "metadata": {},
     "output_type": "display_data"
    },
    {
     "data": {
      "text/html": [
       "<pre>recommendations finished on 229000/271425 queries. users per second: 13434.2</pre>"
      ],
      "text/plain": [
       "recommendations finished on 229000/271425 queries. users per second: 13434.2"
      ]
     },
     "metadata": {},
     "output_type": "display_data"
    },
    {
     "data": {
      "text/html": [
       "<pre>recommendations finished on 230000/271425 queries. users per second: 13450.4</pre>"
      ],
      "text/plain": [
       "recommendations finished on 230000/271425 queries. users per second: 13450.4"
      ]
     },
     "metadata": {},
     "output_type": "display_data"
    },
    {
     "data": {
      "text/html": [
       "<pre>recommendations finished on 231000/271425 queries. users per second: 13439.8</pre>"
      ],
      "text/plain": [
       "recommendations finished on 231000/271425 queries. users per second: 13439.8"
      ]
     },
     "metadata": {},
     "output_type": "display_data"
    },
    {
     "data": {
      "text/html": [
       "<pre>recommendations finished on 232000/271425 queries. users per second: 13444.6</pre>"
      ],
      "text/plain": [
       "recommendations finished on 232000/271425 queries. users per second: 13444.6"
      ]
     },
     "metadata": {},
     "output_type": "display_data"
    },
    {
     "data": {
      "text/html": [
       "<pre>recommendations finished on 233000/271425 queries. users per second: 13450.8</pre>"
      ],
      "text/plain": [
       "recommendations finished on 233000/271425 queries. users per second: 13450.8"
      ]
     },
     "metadata": {},
     "output_type": "display_data"
    },
    {
     "data": {
      "text/html": [
       "<pre>recommendations finished on 234000/271425 queries. users per second: 13449.4</pre>"
      ],
      "text/plain": [
       "recommendations finished on 234000/271425 queries. users per second: 13449.4"
      ]
     },
     "metadata": {},
     "output_type": "display_data"
    },
    {
     "data": {
      "text/html": [
       "<pre>recommendations finished on 235000/271425 queries. users per second: 13455.5</pre>"
      ],
      "text/plain": [
       "recommendations finished on 235000/271425 queries. users per second: 13455.5"
      ]
     },
     "metadata": {},
     "output_type": "display_data"
    },
    {
     "data": {
      "text/html": [
       "<pre>recommendations finished on 236000/271425 queries. users per second: 13461.4</pre>"
      ],
      "text/plain": [
       "recommendations finished on 236000/271425 queries. users per second: 13461.4"
      ]
     },
     "metadata": {},
     "output_type": "display_data"
    },
    {
     "data": {
      "text/html": [
       "<pre>recommendations finished on 237000/271425 queries. users per second: 13465.5</pre>"
      ],
      "text/plain": [
       "recommendations finished on 237000/271425 queries. users per second: 13465.5"
      ]
     },
     "metadata": {},
     "output_type": "display_data"
    },
    {
     "data": {
      "text/html": [
       "<pre>recommendations finished on 238000/271425 queries. users per second: 13472.6</pre>"
      ],
      "text/plain": [
       "recommendations finished on 238000/271425 queries. users per second: 13472.6"
      ]
     },
     "metadata": {},
     "output_type": "display_data"
    },
    {
     "data": {
      "text/html": [
       "<pre>recommendations finished on 239000/271425 queries. users per second: 13479.4</pre>"
      ],
      "text/plain": [
       "recommendations finished on 239000/271425 queries. users per second: 13479.4"
      ]
     },
     "metadata": {},
     "output_type": "display_data"
    },
    {
     "data": {
      "text/html": [
       "<pre>recommendations finished on 240000/271425 queries. users per second: 13472.9</pre>"
      ],
      "text/plain": [
       "recommendations finished on 240000/271425 queries. users per second: 13472.9"
      ]
     },
     "metadata": {},
     "output_type": "display_data"
    },
    {
     "data": {
      "text/html": [
       "<pre>recommendations finished on 241000/271425 queries. users per second: 13465.6</pre>"
      ],
      "text/plain": [
       "recommendations finished on 241000/271425 queries. users per second: 13465.6"
      ]
     },
     "metadata": {},
     "output_type": "display_data"
    },
    {
     "data": {
      "text/html": [
       "<pre>recommendations finished on 242000/271425 queries. users per second: 13461.6</pre>"
      ],
      "text/plain": [
       "recommendations finished on 242000/271425 queries. users per second: 13461.6"
      ]
     },
     "metadata": {},
     "output_type": "display_data"
    },
    {
     "data": {
      "text/html": [
       "<pre>recommendations finished on 243000/271425 queries. users per second: 13446.4</pre>"
      ],
      "text/plain": [
       "recommendations finished on 243000/271425 queries. users per second: 13446.4"
      ]
     },
     "metadata": {},
     "output_type": "display_data"
    },
    {
     "data": {
      "text/html": [
       "<pre>recommendations finished on 244000/271425 queries. users per second: 13412.4</pre>"
      ],
      "text/plain": [
       "recommendations finished on 244000/271425 queries. users per second: 13412.4"
      ]
     },
     "metadata": {},
     "output_type": "display_data"
    },
    {
     "data": {
      "text/html": [
       "<pre>recommendations finished on 245000/271425 queries. users per second: 13389.6</pre>"
      ],
      "text/plain": [
       "recommendations finished on 245000/271425 queries. users per second: 13389.6"
      ]
     },
     "metadata": {},
     "output_type": "display_data"
    },
    {
     "data": {
      "text/html": [
       "<pre>recommendations finished on 246000/271425 queries. users per second: 13341.5</pre>"
      ],
      "text/plain": [
       "recommendations finished on 246000/271425 queries. users per second: 13341.5"
      ]
     },
     "metadata": {},
     "output_type": "display_data"
    },
    {
     "data": {
      "text/html": [
       "<pre>recommendations finished on 247000/271425 queries. users per second: 13294.8</pre>"
      ],
      "text/plain": [
       "recommendations finished on 247000/271425 queries. users per second: 13294.8"
      ]
     },
     "metadata": {},
     "output_type": "display_data"
    },
    {
     "data": {
      "text/html": [
       "<pre>recommendations finished on 248000/271425 queries. users per second: 13264.1</pre>"
      ],
      "text/plain": [
       "recommendations finished on 248000/271425 queries. users per second: 13264.1"
      ]
     },
     "metadata": {},
     "output_type": "display_data"
    },
    {
     "data": {
      "text/html": [
       "<pre>recommendations finished on 249000/271425 queries. users per second: 13161.9</pre>"
      ],
      "text/plain": [
       "recommendations finished on 249000/271425 queries. users per second: 13161.9"
      ]
     },
     "metadata": {},
     "output_type": "display_data"
    },
    {
     "data": {
      "text/html": [
       "<pre>recommendations finished on 250000/271425 queries. users per second: 13124.3</pre>"
      ],
      "text/plain": [
       "recommendations finished on 250000/271425 queries. users per second: 13124.3"
      ]
     },
     "metadata": {},
     "output_type": "display_data"
    },
    {
     "data": {
      "text/html": [
       "<pre>recommendations finished on 251000/271425 queries. users per second: 13073.9</pre>"
      ],
      "text/plain": [
       "recommendations finished on 251000/271425 queries. users per second: 13073.9"
      ]
     },
     "metadata": {},
     "output_type": "display_data"
    },
    {
     "data": {
      "text/html": [
       "<pre>recommendations finished on 252000/271425 queries. users per second: 12982.6</pre>"
      ],
      "text/plain": [
       "recommendations finished on 252000/271425 queries. users per second: 12982.6"
      ]
     },
     "metadata": {},
     "output_type": "display_data"
    },
    {
     "data": {
      "text/html": [
       "<pre>recommendations finished on 253000/271425 queries. users per second: 12845.4</pre>"
      ],
      "text/plain": [
       "recommendations finished on 253000/271425 queries. users per second: 12845.4"
      ]
     },
     "metadata": {},
     "output_type": "display_data"
    },
    {
     "data": {
      "text/html": [
       "<pre>recommendations finished on 254000/271425 queries. users per second: 12829.5</pre>"
      ],
      "text/plain": [
       "recommendations finished on 254000/271425 queries. users per second: 12829.5"
      ]
     },
     "metadata": {},
     "output_type": "display_data"
    },
    {
     "data": {
      "text/html": [
       "<pre>recommendations finished on 255000/271425 queries. users per second: 12804.6</pre>"
      ],
      "text/plain": [
       "recommendations finished on 255000/271425 queries. users per second: 12804.6"
      ]
     },
     "metadata": {},
     "output_type": "display_data"
    },
    {
     "data": {
      "text/html": [
       "<pre>recommendations finished on 256000/271425 queries. users per second: 12767.5</pre>"
      ],
      "text/plain": [
       "recommendations finished on 256000/271425 queries. users per second: 12767.5"
      ]
     },
     "metadata": {},
     "output_type": "display_data"
    },
    {
     "data": {
      "text/html": [
       "<pre>recommendations finished on 257000/271425 queries. users per second: 12741.2</pre>"
      ],
      "text/plain": [
       "recommendations finished on 257000/271425 queries. users per second: 12741.2"
      ]
     },
     "metadata": {},
     "output_type": "display_data"
    },
    {
     "data": {
      "text/html": [
       "<pre>recommendations finished on 258000/271425 queries. users per second: 12699.4</pre>"
      ],
      "text/plain": [
       "recommendations finished on 258000/271425 queries. users per second: 12699.4"
      ]
     },
     "metadata": {},
     "output_type": "display_data"
    },
    {
     "data": {
      "text/html": [
       "<pre>recommendations finished on 259000/271425 queries. users per second: 12637.9</pre>"
      ],
      "text/plain": [
       "recommendations finished on 259000/271425 queries. users per second: 12637.9"
      ]
     },
     "metadata": {},
     "output_type": "display_data"
    },
    {
     "data": {
      "text/html": [
       "<pre>recommendations finished on 260000/271425 queries. users per second: 12605.6</pre>"
      ],
      "text/plain": [
       "recommendations finished on 260000/271425 queries. users per second: 12605.6"
      ]
     },
     "metadata": {},
     "output_type": "display_data"
    },
    {
     "data": {
      "text/html": [
       "<pre>recommendations finished on 261000/271425 queries. users per second: 12568.4</pre>"
      ],
      "text/plain": [
       "recommendations finished on 261000/271425 queries. users per second: 12568.4"
      ]
     },
     "metadata": {},
     "output_type": "display_data"
    },
    {
     "data": {
      "text/html": [
       "<pre>recommendations finished on 262000/271425 queries. users per second: 12391.7</pre>"
      ],
      "text/plain": [
       "recommendations finished on 262000/271425 queries. users per second: 12391.7"
      ]
     },
     "metadata": {},
     "output_type": "display_data"
    },
    {
     "data": {
      "text/html": [
       "<pre>recommendations finished on 263000/271425 queries. users per second: 12380</pre>"
      ],
      "text/plain": [
       "recommendations finished on 263000/271425 queries. users per second: 12380"
      ]
     },
     "metadata": {},
     "output_type": "display_data"
    },
    {
     "data": {
      "text/html": [
       "<pre>recommendations finished on 264000/271425 queries. users per second: 12340.5</pre>"
      ],
      "text/plain": [
       "recommendations finished on 264000/271425 queries. users per second: 12340.5"
      ]
     },
     "metadata": {},
     "output_type": "display_data"
    },
    {
     "data": {
      "text/html": [
       "<pre>recommendations finished on 265000/271425 queries. users per second: 12286.4</pre>"
      ],
      "text/plain": [
       "recommendations finished on 265000/271425 queries. users per second: 12286.4"
      ]
     },
     "metadata": {},
     "output_type": "display_data"
    },
    {
     "data": {
      "text/html": [
       "<pre>recommendations finished on 266000/271425 queries. users per second: 12226.5</pre>"
      ],
      "text/plain": [
       "recommendations finished on 266000/271425 queries. users per second: 12226.5"
      ]
     },
     "metadata": {},
     "output_type": "display_data"
    },
    {
     "data": {
      "text/html": [
       "<pre>recommendations finished on 267000/271425 queries. users per second: 12219.6</pre>"
      ],
      "text/plain": [
       "recommendations finished on 267000/271425 queries. users per second: 12219.6"
      ]
     },
     "metadata": {},
     "output_type": "display_data"
    },
    {
     "data": {
      "text/html": [
       "<pre>recommendations finished on 268000/271425 queries. users per second: 12220</pre>"
      ],
      "text/plain": [
       "recommendations finished on 268000/271425 queries. users per second: 12220"
      ]
     },
     "metadata": {},
     "output_type": "display_data"
    },
    {
     "data": {
      "text/html": [
       "<pre>recommendations finished on 269000/271425 queries. users per second: 12212.5</pre>"
      ],
      "text/plain": [
       "recommendations finished on 269000/271425 queries. users per second: 12212.5"
      ]
     },
     "metadata": {},
     "output_type": "display_data"
    },
    {
     "data": {
      "text/html": [
       "<pre>recommendations finished on 270000/271425 queries. users per second: 11455.3</pre>"
      ],
      "text/plain": [
       "recommendations finished on 270000/271425 queries. users per second: 11455.3"
      ]
     },
     "metadata": {},
     "output_type": "display_data"
    },
    {
     "data": {
      "text/html": [
       "<pre>recommendations finished on 271000/271425 queries. users per second: 10576</pre>"
      ],
      "text/plain": [
       "recommendations finished on 271000/271425 queries. users per second: 10576"
      ]
     },
     "metadata": {},
     "output_type": "display_data"
    },
    {
     "name": "stdout",
     "output_type": "stream",
     "text": [
      "An output file can be found in 'output' folder with name 'option1_recommendation.csv'\n",
      "(4373, 1)\n"
     ]
    },
    {
     "data": {
      "text/html": [
       "<div>\n",
       "<style scoped>\n",
       "    .dataframe tbody tr th:only-of-type {\n",
       "        vertical-align: middle;\n",
       "    }\n",
       "\n",
       "    .dataframe tbody tr th {\n",
       "        vertical-align: top;\n",
       "    }\n",
       "\n",
       "    .dataframe thead th {\n",
       "        text-align: right;\n",
       "    }\n",
       "</style>\n",
       "<table border=\"1\" class=\"dataframe\">\n",
       "  <thead>\n",
       "    <tr style=\"text-align: right;\">\n",
       "      <th></th>\n",
       "      <th>recommendedProducts</th>\n",
       "    </tr>\n",
       "    <tr>\n",
       "      <th>CustomerID</th>\n",
       "      <th></th>\n",
       "    </tr>\n",
       "  </thead>\n",
       "  <tbody>\n",
       "    <tr>\n",
       "      <th>12346.0</th>\n",
       "      <td>23551|90019B|23394|22220|84743C|22182|37461|90...</td>\n",
       "    </tr>\n",
       "    <tr>\n",
       "      <th>12347.0</th>\n",
       "      <td>21064|90092|90065B|35015|90183c|20849|51014c|1...</td>\n",
       "    </tr>\n",
       "    <tr>\n",
       "      <th>12348.0</th>\n",
       "      <td>21064|22953|16053|90065B|35015|90183c|20849|84...</td>\n",
       "    </tr>\n",
       "    <tr>\n",
       "      <th>12349.0</th>\n",
       "      <td>90092|90065B|90183c|35600A|84251F|72802c|35015...</td>\n",
       "    </tr>\n",
       "    <tr>\n",
       "      <th>12350.0</th>\n",
       "      <td>90092|35600A|16053|90065B|35015|90183c|20849|8...</td>\n",
       "    </tr>\n",
       "  </tbody>\n",
       "</table>\n",
       "</div>"
      ],
      "text/plain": [
       "                                          recommendedProducts\n",
       "CustomerID                                                   \n",
       "12346.0     23551|90019B|23394|22220|84743C|22182|37461|90...\n",
       "12347.0     21064|90092|90065B|35015|90183c|20849|51014c|1...\n",
       "12348.0     21064|22953|16053|90065B|35015|90183c|20849|84...\n",
       "12349.0     90092|90065B|90183c|35600A|84251F|72802c|35015...\n",
       "12350.0     90092|35600A|16053|90065B|35015|90183c|20849|8..."
      ]
     },
     "execution_count": 21,
     "metadata": {},
     "output_type": "execute_result"
    }
   ],
   "source": [
    "df_output = create_output(cos, users_to_recommend, n_rec, print_csv = True)\n",
    "print(df_output.shape)\n",
    "df_output.head()"
   ]
  },
  {
   "cell_type": "markdown",
   "metadata": {},
   "source": [
    "### List of recommended items for Customer 12346"
   ]
  },
  {
   "cell_type": "code",
   "execution_count": 25,
   "metadata": {},
   "outputs": [
    {
     "data": {
      "text/plain": [
       "['PACK OF 12 PAISLEY PARK TISSUES ',\n",
       " 'GOLD M.O.P ORBIT BRACELET',\n",
       " 'POSTE FRANCE CUSHION COVER',\n",
       " 'CAKE STAND LOVEBIRD 2 TIER WHITE',\n",
       " nan,\n",
       " 'CAKE STAND VICTORIAN FILIGREE SMALL',\n",
       " nan,\n",
       " 'WHITE SILVER NECKLACE SHELL GLASS',\n",
       " 'VANILLA SCENT CANDLE JEWELLED BOX',\n",
       " 'SET 10 MINI SANTA & SNOWMAN  17087']"
      ]
     },
     "execution_count": 25,
     "metadata": {},
     "output_type": "execute_result"
    }
   ],
   "source": [
    "[prod_dict[x] for x in list(df_output.loc['12346.0'])[0].split('|')]"
   ]
  },
  {
   "cell_type": "code",
   "execution_count": null,
   "metadata": {},
   "outputs": [],
   "source": []
  }
 ],
 "metadata": {
  "kernelspec": {
   "display_name": "Python 3",
   "language": "python",
   "name": "python3"
  },
  "language_info": {
   "codemirror_mode": {
    "name": "ipython",
    "version": 3
   },
   "file_extension": ".py",
   "mimetype": "text/x-python",
   "name": "python",
   "nbconvert_exporter": "python",
   "pygments_lexer": "ipython3",
   "version": "3.7.5"
  }
 },
 "nbformat": 4,
 "nbformat_minor": 2
}
